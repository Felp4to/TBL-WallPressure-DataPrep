{
 "cells": [
  {
   "cell_type": "code",
   "execution_count": 1,
   "metadata": {},
   "outputs": [],
   "source": [
    "import sampling as samp"
   ]
  },
  {
   "cell_type": "code",
   "execution_count": null,
   "metadata": {},
   "outputs": [
    {
     "ename": "NameError",
     "evalue": "name 'samp' is not defined",
     "output_type": "error",
     "traceback": [
      "\u001b[0;31m---------------------------------------------------------------------------\u001b[0m",
      "\u001b[0;31mNameError\u001b[0m                                 Traceback (most recent call last)",
      "Cell \u001b[0;32mIn[1], line 1\u001b[0m\n\u001b[0;32m----> 1\u001b[0m sliced_and_sampled_data \u001b[38;5;241m=\u001b[39m \u001b[43msamp\u001b[49m\u001b[38;5;241m.\u001b[39msampling_csv(samp\u001b[38;5;241m.\u001b[39mslicing(\u001b[38;5;124m\"\u001b[39m\u001b[38;5;124m../timeseries/B101/Channel1.csv\u001b[39m\u001b[38;5;124m\"\u001b[39m, \u001b[38;5;241m5\u001b[39m), \u001b[38;5;241m4\u001b[39m)\n\u001b[1;32m      2\u001b[0m sliced_and_sampled_data\u001b[38;5;241m.\u001b[39mreset_index(drop\u001b[38;5;241m=\u001b[39m\u001b[38;5;28;01mTrue\u001b[39;00m, inplace\u001b[38;5;241m=\u001b[39m\u001b[38;5;28;01mTrue\u001b[39;00m)\n",
      "\u001b[0;31mNameError\u001b[0m: name 'samp' is not defined"
     ]
    }
   ],
   "source": [
    "data = samp.slicing(\"../timeseries/B101/Channel1.csv\", 10)\n",
    "data"
   ]
  },
  {
   "cell_type": "code",
   "execution_count": 3,
   "metadata": {},
   "outputs": [
    {
     "data": {
      "text/html": [
       "<div>\n",
       "<style scoped>\n",
       "    .dataframe tbody tr th:only-of-type {\n",
       "        vertical-align: middle;\n",
       "    }\n",
       "\n",
       "    .dataframe tbody tr th {\n",
       "        vertical-align: top;\n",
       "    }\n",
       "\n",
       "    .dataframe thead th {\n",
       "        text-align: right;\n",
       "    }\n",
       "</style>\n",
       "<table border=\"1\" class=\"dataframe\">\n",
       "  <thead>\n",
       "    <tr style=\"text-align: right;\">\n",
       "      <th></th>\n",
       "      <th>singleData</th>\n",
       "    </tr>\n",
       "  </thead>\n",
       "  <tbody>\n",
       "    <tr>\n",
       "      <th>0</th>\n",
       "      <td>-21702628.0</td>\n",
       "    </tr>\n",
       "    <tr>\n",
       "      <th>2</th>\n",
       "      <td>7671702.0</td>\n",
       "    </tr>\n",
       "    <tr>\n",
       "      <th>4</th>\n",
       "      <td>17132264.0</td>\n",
       "    </tr>\n",
       "    <tr>\n",
       "      <th>6</th>\n",
       "      <td>16921288.0</td>\n",
       "    </tr>\n",
       "    <tr>\n",
       "      <th>8</th>\n",
       "      <td>28665146.0</td>\n",
       "    </tr>\n",
       "    <tr>\n",
       "      <th>...</th>\n",
       "      <td>...</td>\n",
       "    </tr>\n",
       "    <tr>\n",
       "      <th>2047990</th>\n",
       "      <td>-10419795.0</td>\n",
       "    </tr>\n",
       "    <tr>\n",
       "      <th>2047992</th>\n",
       "      <td>4593267.5</td>\n",
       "    </tr>\n",
       "    <tr>\n",
       "      <th>2047994</th>\n",
       "      <td>-7578204.0</td>\n",
       "    </tr>\n",
       "    <tr>\n",
       "      <th>2047996</th>\n",
       "      <td>-33680636.0</td>\n",
       "    </tr>\n",
       "    <tr>\n",
       "      <th>2047998</th>\n",
       "      <td>-29858798.0</td>\n",
       "    </tr>\n",
       "  </tbody>\n",
       "</table>\n",
       "<p>1024000 rows × 1 columns</p>\n",
       "</div>"
      ],
      "text/plain": [
       "         singleData\n",
       "0       -21702628.0\n",
       "2         7671702.0\n",
       "4        17132264.0\n",
       "6        16921288.0\n",
       "8        28665146.0\n",
       "...             ...\n",
       "2047990 -10419795.0\n",
       "2047992   4593267.5\n",
       "2047994  -7578204.0\n",
       "2047996 -33680636.0\n",
       "2047998 -29858798.0\n",
       "\n",
       "[1024000 rows x 1 columns]"
      ]
     },
     "execution_count": 3,
     "metadata": {},
     "output_type": "execute_result"
    }
   ],
   "source": [
    "sampled_channel = samp.sampling_csv(data, 2)\n",
    "sampled_channel"
   ]
  },
  {
   "cell_type": "code",
   "execution_count": 4,
   "metadata": {},
   "outputs": [
    {
     "data": {
      "text/plain": [
       "0        -2.079796e+06\n",
       "1         1.897811e+07\n",
       "2         3.926352e+07\n",
       "3         4.220864e+07\n",
       "4         3.542012e+07\n",
       "              ...     \n",
       "511995    7.503365e+06\n",
       "511996    2.192452e+07\n",
       "511997   -1.753832e+06\n",
       "511998   -4.182899e+06\n",
       "511999   -3.043905e+07\n",
       "Name: singleData, Length: 512000, dtype: float64"
      ]
     },
     "execution_count": 4,
     "metadata": {},
     "output_type": "execute_result"
    }
   ],
   "source": [
    "sampled_channel = samp.sampling_avg_csv(data, 4)\n",
    "sampled_channel"
   ]
  }
 ],
 "metadata": {
  "kernelspec": {
   "display_name": "myenv-tf",
   "language": "python",
   "name": "python3"
  },
  "language_info": {
   "codemirror_mode": {
    "name": "ipython",
    "version": 3
   },
   "file_extension": ".py",
   "mimetype": "text/x-python",
   "name": "python",
   "nbconvert_exporter": "python",
   "pygments_lexer": "ipython3",
   "version": "3.10.16"
  }
 },
 "nbformat": 4,
 "nbformat_minor": 2
}
