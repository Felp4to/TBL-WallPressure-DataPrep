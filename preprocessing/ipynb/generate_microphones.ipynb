{
 "cells": [
  {
   "cell_type": "code",
   "execution_count": 4,
   "metadata": {},
   "outputs": [],
   "source": [
    "import data_acquisition as da"
   ]
  },
  {
   "cell_type": "code",
   "execution_count": 5,
   "metadata": {},
   "outputs": [],
   "source": [
    "channels = da.generate_microphones()"
   ]
  },
  {
   "cell_type": "code",
   "execution_count": 6,
   "metadata": {},
   "outputs": [
    {
     "data": {
      "text/plain": [
       "[Microphone(1, F001, 0, 0, 3, 0, -160.0, 90.0),\n",
       " Microphone(2, F002, 3, 0, 3, 0, -157.02, 89.63),\n",
       " Microphone(3, F003, 6, 0, 3, 0, -154.04, 89.27),\n",
       " Microphone(4, F004, 9, 0, 3, 0, -151.07, 88.9),\n",
       " Microphone(5, F005, 12, 0, 3, 0, -148.09, 88.54),\n",
       " Microphone(6, F006, 15, 0, 3, 0, -145.11, 88.17),\n",
       " Microphone(7, F007, 18, 0, 3, 0, -142.13, 87.81),\n",
       " Microphone(8, F008, 21, 0, 3, 0, -139.16, 87.44),\n",
       " Microphone(9, F009, 24, 0, 3, 0, -136.18, 87.08),\n",
       " Microphone(10, F010, 27, 0, 3, 0, -133.2, 86.71),\n",
       " Microphone(11, F011, 30, 0, 3, 0, -130.22, 86.34),\n",
       " Microphone(12, F012, 33, 0, 3, 0, -127.25, 85.98),\n",
       " Microphone(13, F013, 36, 0, 3, 0, -124.27, 85.61),\n",
       " Microphone(14, F014, 39, 0, 3, 0, -121.29, 85.25),\n",
       " Microphone(15, F015, 42, 0, 3, 0, -118.31, 84.88),\n",
       " Microphone(16, F016, 45, 0, 3, 0, -115.34, 84.52),\n",
       " Microphone(17, F017, 48, 0, 3, 0, -112.36, 84.15),\n",
       " Microphone(18, F018, 51, 0, 3, 0, -109.38, 83.78),\n",
       " Microphone(19, F019, 54, 0, 3, 0, -106.4, 83.42),\n",
       " Microphone(20, F020, 57, 0, 3, 0, -103.42, 83.05),\n",
       " Microphone(21, F021, 63, 0, 6, 0, -97.47, 82.32),\n",
       " Microphone(22, F022, 69, 0, 6, 0, -91.51, 81.59),\n",
       " Microphone(23, F023, 75, 0, 6, 0, -85.56, 80.86),\n",
       " Microphone(24, F024, 81, 0, 6, 0, -79.6, 80.13),\n",
       " Microphone(25, F025, 87, 0, 6, 0, -73.65, 79.4),\n",
       " Microphone(26, F026, 99, 0, 12, 0, -61.74, 77.93),\n",
       " Microphone(27, F027, 111, 0, 12, 0, -49.83, 76.47),\n",
       " Microphone(28, F065, 123, 0, 12, 0, -37.92, 75.01),\n",
       " Microphone(29, F030, 135, 0, 12, 0, -26.01, 73.55),\n",
       " Microphone(30, F031, 147, 0, 12, 0, -14.1, 72.09),\n",
       " Microphone(31, F032, 183, 0, 36, 0, 21.64, 67.7),\n",
       " Microphone(32, F033, 219, 0, 36, 0, 57.37, 63.31),\n",
       " Microphone(33, F034, 255, 0, 36, 0, 93.1, 58.92),\n",
       " Microphone(34, F036, 291, 0, 36, 0, 128.83, 54.54),\n",
       " Microphone(35, F037, 327, 0, 36, 0, 164.56, 50.15),\n",
       " Microphone(36, F039, 363, 0, 36, 0, 200.29, 45.76),\n",
       " Microphone(37, F040, 399, 0, 36, 0, 236.03, 41.37),\n",
       " Microphone(38, F041, 435, 0, 36, 0, 271.76, 36.99),\n",
       " Microphone(39, F042, -6, 0, -6, 0, -165.96, 90.73),\n",
       " Microphone(40, F043, -12, 0, -6, 0, -171.91, 91.46),\n",
       " Microphone(41, F044, -18, 0, -6, 0, -177.87, 92.19),\n",
       " Microphone(42, F045, -24, 0, -6, 0, -183.82, 92.92),\n",
       " Microphone(43, F046, -30, 0, -6, 0, -189.78, 93.66),\n",
       " Microphone(44, F047, -42, 0, -12, 0, -201.69, 95.12),\n",
       " Microphone(45, F048, -54, 0, -12, 0, -213.6, 96.58),\n",
       " Microphone(46, F049, -66, 0, -12, 0, -225.51, 98.04),\n",
       " Microphone(47, F050, -78, 0, -12, 0, -237.42, 99.51),\n",
       " Microphone(48, F051, 0, 3, 0, 3, -159.63, 92.98),\n",
       " Microphone(49, F052, 0, 6, 0, 3, -159.27, 95.96),\n",
       " Microphone(50, F053, 0, 9, 0, 3, -158.9, 98.93),\n",
       " Microphone(51, F054, 0, 15, 0, 6, -158.17, 104.89),\n",
       " Microphone(52, F055, 0, 21, 0, 6, -157.44, 110.84),\n",
       " Microphone(53, F056, 0, 27, 0, 6, -156.71, 116.8),\n",
       " Microphone(54, F057, 0, 33, 0, 6, -155.98, 122.75),\n",
       " Microphone(55, F058, 0, 45, 0, 12, -154.52, 134.66),\n",
       " Microphone(56, F059, 0, 57, 0, 12, -153.05, 146.58),\n",
       " Microphone(57, F060, 0, 57, 0, 12, -153.05, 146.58),\n",
       " Microphone(58, F061, 0, -3, 0, -3, -160.37, 87.02),\n",
       " Microphone(59, F062, 0, -6, 0, -3, -160.73, 84.04),\n",
       " Microphone(60, F063, 0, -9, 0, -3, -161.1, 81.07),\n",
       " Microphone(61, F064, 0, -12, 0, -3, -161.46, 78.09),\n",
       " Microphone(62, IRIGB, 60, 0, 0, 0, -100.45, 82.69)]"
      ]
     },
     "metadata": {},
     "output_type": "display_data"
    }
   ],
   "source": [
    "display(channels)"
   ]
  }
 ],
 "metadata": {
  "kernelspec": {
   "display_name": "myenv",
   "language": "python",
   "name": "python3"
  },
  "language_info": {
   "codemirror_mode": {
    "name": "ipython",
    "version": 3
   },
   "file_extension": ".py",
   "mimetype": "text/x-python",
   "name": "python",
   "nbconvert_exporter": "python",
   "pygments_lexer": "ipython3",
   "version": "3.13.2"
  }
 },
 "nbformat": 4,
 "nbformat_minor": 2
}
