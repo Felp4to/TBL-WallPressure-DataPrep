{
 "cells": [
  {
   "cell_type": "code",
   "execution_count": 1,
   "metadata": {},
   "outputs": [],
   "source": [
    "import sys\n",
    "sys.path.append(\"../npy\")\n",
    "import time_features as t_features\n",
    "import sampling as samp\n",
    "import normalizzation as norm\n",
    "import fourier as fourier\n",
    "import wavelet as wavelet"
   ]
  },
  {
   "cell_type": "code",
   "execution_count": 2,
   "metadata": {},
   "outputs": [
    {
     "data": {
      "text/plain": [
       "0        -21702628.0\n",
       "1         17132264.0\n",
       "2         28665146.0\n",
       "3         36802184.0\n",
       "4         47670068.0\n",
       "             ...    \n",
       "255995    12585612.0\n",
       "255996    20973774.0\n",
       "255997    29113506.0\n",
       "255998    20771420.0\n",
       "255999   -11136255.0\n",
       "Name: singleData, Length: 256000, dtype: float64"
      ]
     },
     "execution_count": 2,
     "metadata": {},
     "output_type": "execute_result"
    }
   ],
   "source": [
    "sliced_and_sampled_data = samp.sampling_csv(samp.slicing(\"../../timeseries/B101/Channel1.csv\", 5), 4)\n",
    "sliced_and_sampled_data.reset_index(drop=True, inplace=True)\n",
    "sliced_and_sampled_data"
   ]
  },
  {
   "cell_type": "code",
   "execution_count": 3,
   "metadata": {},
   "outputs": [
    {
     "data": {
      "text/plain": [
       "0        -0.070310\n",
       "1         0.056011\n",
       "2         0.093525\n",
       "3         0.119994\n",
       "4         0.155344\n",
       "            ...   \n",
       "255995    0.041222\n",
       "255996    0.068507\n",
       "255997    0.094984\n",
       "255998    0.067849\n",
       "255999   -0.035940\n",
       "Name: singleData, Length: 256000, dtype: float64"
      ]
     },
     "execution_count": 3,
     "metadata": {},
     "output_type": "execute_result"
    }
   ],
   "source": [
    "# normalizzation\n",
    "time_series_normalized = norm.normalize_array(sliced_and_sampled_data)\n",
    "time_series_normalized"
   ]
  },
  {
   "cell_type": "code",
   "execution_count": 4,
   "metadata": {},
   "outputs": [
    {
     "name": "stdout",
     "output_type": "stream",
     "text": [
      "Time Domain Features:\n",
      "Cluster_1: \n",
      "\tMean: 0.18039844496527832\n",
      "\tStandard Deviation: 0.15577957193441438\n",
      "\tMin: -0.03723025592536612\n",
      "\tMax: 0.41422649106586357\n",
      "\tRange: 0.4514567469912297\n",
      "Cluster_2: \n",
      "\tSkewness: 0.16294055133492885\n",
      "\tKurtosis: -1.1658199996507472\n",
      "Cluster_3: \n",
      "\tEnergy: 0.28405436988979965\n"
     ]
    },
    {
     "data": {
      "text/plain": [
       "array([ 0.18039844,  0.15577957, -0.03723026,  0.41422649,  0.45145675,\n",
       "        0.16294055, -1.16582   ,  0.28405437])"
      ]
     },
     "execution_count": 4,
     "metadata": {},
     "output_type": "execute_result"
    }
   ],
   "source": [
    "general_features = t_features.extract_time_features(time_series_normalized[20:25], show_result=True)\n",
    "general_features"
   ]
  },
  {
   "cell_type": "code",
   "execution_count": 5,
   "metadata": {},
   "outputs": [
    {
     "name": "stdout",
     "output_type": "stream",
     "text": [
      "5.122892259872097\n",
      "-3.316626769764864\n"
     ]
    }
   ],
   "source": [
    "complex_features = fourier.extract_fft_real_imag(time_series_normalized[:100])\n",
    "print(max(complex_features))\n",
    "print(min(complex_features))"
   ]
  },
  {
   "cell_type": "code",
   "execution_count": 10,
   "metadata": {},
   "outputs": [
    {
     "data": {
      "text/plain": [
       "106"
      ]
     },
     "execution_count": 10,
     "metadata": {},
     "output_type": "execute_result"
    }
   ],
   "source": [
    "wavelet_features = wavelet.wavelet_transform(time_series_normalized[:100])\n",
    "len(wavelet_features)"
   ]
  },
  {
   "cell_type": "code",
   "execution_count": null,
   "metadata": {},
   "outputs": [],
   "source": []
  },
  {
   "cell_type": "code",
   "execution_count": null,
   "metadata": {},
   "outputs": [],
   "source": []
  }
 ],
 "metadata": {
  "kernelspec": {
   "display_name": "myenv-tf",
   "language": "python",
   "name": "python3"
  },
  "language_info": {
   "codemirror_mode": {
    "name": "ipython",
    "version": 3
   },
   "file_extension": ".py",
   "mimetype": "text/x-python",
   "name": "python",
   "nbconvert_exporter": "python",
   "pygments_lexer": "ipython3",
   "version": "3.10.16"
  }
 },
 "nbformat": 4,
 "nbformat_minor": 2
}
