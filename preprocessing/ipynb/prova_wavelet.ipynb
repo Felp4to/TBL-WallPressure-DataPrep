{
 "cells": [
  {
   "cell_type": "code",
   "execution_count": 1,
   "metadata": {},
   "outputs": [],
   "source": [
    "import sys\n",
    "import numpy as np\n",
    "sys.path.append(\"../npy\")\n",
    "import wavelet as wavelet\n",
    "import sampling as samp\n",
    "import normalizzation as norm"
   ]
  },
  {
   "cell_type": "code",
   "execution_count": 2,
   "metadata": {},
   "outputs": [
    {
     "data": {
      "text/plain": [
       "0         -21702628.0\n",
       "1          -8657071.0\n",
       "2           7671702.0\n",
       "3          14368814.0\n",
       "4          17132264.0\n",
       "              ...    \n",
       "1023995    11326485.0\n",
       "1023996   -11136255.0\n",
       "1023997   -26882752.0\n",
       "1023998   -28242384.0\n",
       "1023999   -21182056.0\n",
       "Name: singleData, Length: 1024000, dtype: float64"
      ]
     },
     "execution_count": 2,
     "metadata": {},
     "output_type": "execute_result"
    }
   ],
   "source": [
    "data = samp.slicing(\"../../timeseries/B101/Channel1.csv\", 5)\n",
    "data"
   ]
  },
  {
   "cell_type": "code",
   "execution_count": 3,
   "metadata": {},
   "outputs": [
    {
     "data": {
      "text/plain": [
       "0         -21702628.0\n",
       "4          17132264.0\n",
       "8          28665146.0\n",
       "12         36802184.0\n",
       "16         47670068.0\n",
       "              ...    \n",
       "1023980    12585612.0\n",
       "1023984    20973774.0\n",
       "1023988    29113506.0\n",
       "1023992    20771420.0\n",
       "1023996   -11136255.0\n",
       "Name: singleData, Length: 256000, dtype: float64"
      ]
     },
     "execution_count": 3,
     "metadata": {},
     "output_type": "execute_result"
    }
   ],
   "source": [
    "sampled_channel = samp.sampling_csv(data, 4)\n",
    "sampled_channel"
   ]
  },
  {
   "cell_type": "code",
   "execution_count": 4,
   "metadata": {},
   "outputs": [
    {
     "data": {
      "text/plain": [
       "0        -0.070310\n",
       "1         0.056011\n",
       "2         0.093525\n",
       "3         0.119994\n",
       "4         0.155344\n",
       "            ...   \n",
       "255995    0.041222\n",
       "255996    0.068507\n",
       "255997    0.094984\n",
       "255998    0.067849\n",
       "255999   -0.035940\n",
       "Name: singleData, Length: 256000, dtype: float64"
      ]
     },
     "execution_count": 4,
     "metadata": {},
     "output_type": "execute_result"
    }
   ],
   "source": [
    "normalized_data = norm.normalize_array(sampled_channel)\n",
    "normalized_data.reset_index(drop=True, inplace=True)\n",
    "normalized_data"
   ]
  },
  {
   "cell_type": "code",
   "execution_count": null,
   "metadata": {},
   "outputs": [
    {
     "name": "stderr",
     "output_type": "stream",
     "text": [
      "Computing CWT: 100%|██████████| 255950/255950 [05:48<00:00, 734.21it/s]\n"
     ]
    }
   ],
   "source": [
    "X = wavelet.compute_cwt_windows(normalized_data, wavelet='morl', scales=np.arange(1, 64), seq_length=50)\n",
    "X"
   ]
  },
  {
   "cell_type": "code",
   "execution_count": null,
   "metadata": {},
   "outputs": [],
   "source": []
  },
  {
   "cell_type": "code",
   "execution_count": null,
   "metadata": {},
   "outputs": [],
   "source": []
  },
  {
   "cell_type": "code",
   "execution_count": null,
   "metadata": {},
   "outputs": [],
   "source": []
  },
  {
   "cell_type": "code",
   "execution_count": null,
   "metadata": {},
   "outputs": [],
   "source": []
  }
 ],
 "metadata": {
  "kernelspec": {
   "display_name": "myenv-tf",
   "language": "python",
   "name": "python3"
  },
  "language_info": {
   "codemirror_mode": {
    "name": "ipython",
    "version": 3
   },
   "file_extension": ".py",
   "mimetype": "text/x-python",
   "name": "python",
   "nbconvert_exporter": "python",
   "pygments_lexer": "ipython3",
   "version": "3.10.16"
  }
 },
 "nbformat": 4,
 "nbformat_minor": 2
}
