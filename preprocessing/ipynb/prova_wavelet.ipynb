{
 "cells": [
  {
   "cell_type": "code",
   "execution_count": null,
   "metadata": {},
   "outputs": [],
   "source": [
    "import os\n",
    "import sys\n",
    "import pywt\n",
    "import numpy as np\n",
    "sys.path.append(\"../npy\")\n",
    "import sampling as samp\n",
    "import normalizzation as norm"
   ]
  },
  {
   "cell_type": "code",
   "execution_count": 2,
   "metadata": {},
   "outputs": [],
   "source": [
    "filename = \"Channel1.csv\"\n",
    "file_path = os.path.join(\"../../timeseries/B101\", filename)"
   ]
  },
  {
   "cell_type": "code",
   "execution_count": 3,
   "metadata": {},
   "outputs": [
    {
     "data": {
      "text/plain": [
       "0        -0.070310\n",
       "1         0.056011\n",
       "2         0.093525\n",
       "3         0.119994\n",
       "4         0.155344\n",
       "            ...   \n",
       "255995    0.041222\n",
       "255996    0.068507\n",
       "255997    0.094984\n",
       "255998    0.067849\n",
       "255999   -0.035940\n",
       "Name: singleData, Length: 256000, dtype: float64"
      ]
     },
     "metadata": {},
     "output_type": "display_data"
    }
   ],
   "source": [
    "# slicing and sampling\n",
    "sliced_and_sampled_data = samp.sampling_csv(samp.slicing(file_path, 5), 4)\n",
    "sliced_and_sampled_data.reset_index(drop=True, inplace=True)\n",
    "\n",
    "# normalizzation\n",
    "time_series_normalized = norm.normalize_array(sliced_and_sampled_data)\n",
    "display(time_series_normalized)"
   ]
  },
  {
   "cell_type": "code",
   "execution_count": null,
   "metadata": {},
   "outputs": [],
   "source": [
    "window_size = 30"
   ]
  },
  {
   "cell_type": "code",
   "execution_count": null,
   "metadata": {},
   "outputs": [],
   "source": []
  },
  {
   "cell_type": "code",
   "execution_count": null,
   "metadata": {},
   "outputs": [],
   "source": []
  }
 ],
 "metadata": {
  "kernelspec": {
   "display_name": "myenv-tf",
   "language": "python",
   "name": "python3"
  },
  "language_info": {
   "codemirror_mode": {
    "name": "ipython",
    "version": 3
   },
   "file_extension": ".py",
   "mimetype": "text/x-python",
   "name": "python",
   "nbconvert_exporter": "python",
   "pygments_lexer": "ipython3",
   "version": "3.10.16"
  }
 },
 "nbformat": 4,
 "nbformat_minor": 2
}
