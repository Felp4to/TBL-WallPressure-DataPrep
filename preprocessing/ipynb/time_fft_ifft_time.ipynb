{
 "cells": [
  {
   "cell_type": "code",
   "execution_count": 1,
   "metadata": {},
   "outputs": [],
   "source": [
    "import sys\n",
    "import numpy as np\n",
    "sys.path.append(\"../npy\")\n",
    "import sampling as samp\n",
    "import normalizzation as norm\n",
    "import dft as dft"
   ]
  },
  {
   "cell_type": "code",
   "execution_count": 2,
   "metadata": {},
   "outputs": [
    {
     "data": {
      "text/plain": [
       "array([-0.06960996,  0.05544498,  0.09258282,  0.11878547,  0.1537819 ,\n",
       "        0.04154585, -0.05411866, -0.09278445, -0.10187325, -0.14148393,\n",
       "       -0.01122906,  0.15621136,  0.12357324,  0.02000257,  0.10355012,\n",
       "        0.21904079,  0.21889503, -0.03501005, -0.357636  , -0.09536142,\n",
       "        0.09985994,  0.28324634,  0.41006786,  0.13661079, -0.03686165,\n",
       "       -0.08623357,  0.00415378,  0.02701418, -0.09017972, -0.20143966,\n",
       "       -0.38572407, -0.36937813, -0.21694225, -0.1304854 , -0.04319648,\n",
       "       -0.12748414, -0.22297512, -0.19300334, -0.09940474, -0.06652281,\n",
       "       -0.10236435, -0.131642  , -0.10986966, -0.12352846, -0.11250042,\n",
       "       -0.01057571, -0.05421497, -0.0923003 , -0.07958378, -0.07875516,\n",
       "       -0.10908703, -0.06882299, -0.05243539, -0.09029251, -0.07430577,\n",
       "       -0.10730831, -0.0012188 ,  0.15475542, -0.03373458, -0.28133173,\n",
       "       -0.14183447, -0.09545513,  0.09245614,  0.1162623 ,  0.23749517,\n",
       "        0.35899269,  0.37767875,  0.12590205,  0.14716682,  0.06657193,\n",
       "        0.23810948,  0.15599705,  0.24886072,  0.29369043,  0.21430073,\n",
       "        0.1219698 ,  0.0882471 ,  0.08430703,  0.03882224, -0.06947114,\n",
       "        0.01406166, -0.05555291, -0.0544744 , -0.01984412, -0.00574455,\n",
       "        0.15985122,  0.27735575,  0.4830021 ,  0.58640443,  0.52974588,\n",
       "        0.29566697, -0.00345912, -0.05541148, -0.05337854, -0.03001663,\n",
       "        0.07697004,  0.02182293,  0.04714663,  0.04176103, -0.04808317])"
      ]
     },
     "execution_count": 2,
     "metadata": {},
     "output_type": "execute_result"
    }
   ],
   "source": [
    "data = samp.slicing(\"../../timeseries/B101/Channel1.csv\", 10)\n",
    "data\n",
    "sampled_channel = samp.sampling_csv(data, 4)\n",
    "sampled_channel\n",
    "normalized_data = norm.normalize_array(sampled_channel)\n",
    "normalized_data.reset_index(drop=True, inplace=True)\n",
    "normalized_data\n",
    "\n",
    "# Supponiamo di avere una finestra:\n",
    "original_window = normalized_data.iloc[:100].to_numpy()\n",
    "original_window"
   ]
  },
  {
   "cell_type": "code",
   "execution_count": 3,
   "metadata": {},
   "outputs": [
    {
     "data": {
      "text/plain": [
       "(200,)"
      ]
     },
     "execution_count": 3,
     "metadata": {},
     "output_type": "execute_result"
    }
   ],
   "source": [
    "# Calcoliamo la FFT (Re + Im):\n",
    "fft_vector = dft.compute_fft_re_im(original_window)\n",
    "fft_vector.shape"
   ]
  },
  {
   "cell_type": "code",
   "execution_count": 4,
   "metadata": {},
   "outputs": [
    {
     "data": {
      "text/plain": [
       "(100,)"
      ]
     },
     "execution_count": 4,
     "metadata": {},
     "output_type": "execute_result"
    }
   ],
   "source": [
    "# Ora ricostruiamo il segnale nel dominio temporale:\n",
    "reconstructed_window = dft.inverse_fft_re_im(fft_vector)\n",
    "reconstructed_window.shape"
   ]
  },
  {
   "cell_type": "code",
   "execution_count": 5,
   "metadata": {},
   "outputs": [
    {
     "data": {
      "text/plain": [
       "True"
      ]
     },
     "execution_count": 5,
     "metadata": {},
     "output_type": "execute_result"
    }
   ],
   "source": [
    "# verifica della somiglianza\n",
    "np.allclose(original_window, reconstructed_window, rtol=1e-05, atol=1e-08)"
   ]
  },
  {
   "cell_type": "code",
   "execution_count": null,
   "metadata": {},
   "outputs": [],
   "source": []
  },
  {
   "cell_type": "code",
   "execution_count": null,
   "metadata": {},
   "outputs": [],
   "source": []
  },
  {
   "cell_type": "code",
   "execution_count": null,
   "metadata": {},
   "outputs": [],
   "source": [
    "    "
   ]
  }
 ],
 "metadata": {
  "kernelspec": {
   "display_name": "myenv-tf",
   "language": "python",
   "name": "python3"
  },
  "language_info": {
   "codemirror_mode": {
    "name": "ipython",
    "version": 3
   },
   "file_extension": ".py",
   "mimetype": "text/x-python",
   "name": "python",
   "nbconvert_exporter": "python",
   "pygments_lexer": "ipython3",
   "version": "3.10.16"
  }
 },
 "nbformat": 4,
 "nbformat_minor": 2
}
