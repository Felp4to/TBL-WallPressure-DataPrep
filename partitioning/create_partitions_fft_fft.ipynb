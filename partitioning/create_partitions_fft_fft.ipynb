{
 "cells": [
  {
   "cell_type": "code",
   "execution_count": 1,
   "metadata": {},
   "outputs": [],
   "source": [
    "import os\n",
    "import sys\n",
    "import json\n",
    "import partitioning as part\n",
    "sys.path.append(\"../preprocessing/npy\")\n",
    "import sampling as samp\n",
    "import normalizzation as norm\n",
    "import dft as dft \n",
    "sys.path.append(\"../utilities\")\n",
    "import loadData as loadData"
   ]
  },
  {
   "cell_type": "code",
   "execution_count": 2,
   "metadata": {},
   "outputs": [],
   "source": [
    "file_config_name = \"./Test_cycle_2/configs_fft_fft.json\"\n",
    "filename = \"Channel1.csv\"\n",
    "file_path = os.path.join(\"../timeseries/B101\", filename)"
   ]
  },
  {
   "cell_type": "code",
   "execution_count": 3,
   "metadata": {},
   "outputs": [
    {
     "name": "stdout",
     "output_type": "stream",
     "text": [
      "Configurazioni caricate:\n",
      "config_1: id = 1\n",
      "config_2: id = 2\n",
      "config_3: id = 3\n",
      "config_4: id = 4\n",
      "config_5: id = 5\n",
      "config_6: id = 6\n"
     ]
    }
   ],
   "source": [
    "configs = None\n",
    "\n",
    "# Apri il file e carica i dati in una variabile\n",
    "with open(file_config_name, \"r\") as f:\n",
    "    configs = json.load(f)\n",
    "\n",
    "# Ora configs contiene tutte le configurazioni\n",
    "print(\"Configurazioni caricate:\")\n",
    "for name, conf in configs.items():\n",
    "    print(f\"{name}: id = {conf['id']}\")"
   ]
  },
  {
   "cell_type": "code",
   "execution_count": 4,
   "metadata": {},
   "outputs": [
    {
     "name": "stdout",
     "output_type": "stream",
     "text": [
      "Shape di X: (3816, 1280)\n",
      "Shape di y: (3816, 64)\n",
      "Totale campioni: 3816\n",
      "Train set: X = (2671, 1280), y = (2671, 64)\n",
      "Validation set: X = (572, 1280), y = (572, 64)\n",
      "Test set: X = (573, 1280), y = (573, 64)\n",
      "\n",
      "✅ Partizioni create e salvate in 'partitions/part_fft_fft_1'\n",
      "Shape di X: (7310, 640)\n",
      "Shape di y: (7310, 64)\n",
      "Totale campioni: 7310\n",
      "Train set: X = (5117, 640), y = (5117, 64)\n",
      "Validation set: X = (1096, 640), y = (1096, 64)\n",
      "Test set: X = (1097, 640), y = (1097, 64)\n",
      "\n",
      "✅ Partizioni create e salvate in 'partitions/part_fft_fft_2'\n",
      "Shape di X: (14624, 320)\n",
      "Shape di y: (14624, 32)\n",
      "Totale campioni: 14624\n",
      "Train set: X = (10236, 320), y = (10236, 32)\n",
      "Validation set: X = (2193, 320), y = (2193, 32)\n",
      "Test set: X = (2195, 320), y = (2195, 32)\n",
      "\n",
      "✅ Partizioni create e salvate in 'partitions/part_fft_fft_3'\n",
      "Shape di X: (30113, 160)\n",
      "Shape di y: (30113, 16)\n",
      "Totale campioni: 30113\n",
      "Train set: X = (21079, 160), y = (21079, 16)\n",
      "Validation set: X = (4516, 160), y = (4516, 16)\n",
      "Test set: X = (4518, 160), y = (4518, 16)\n",
      "\n",
      "✅ Partizioni create e salvate in 'partitions/part_fft_fft_4'\n",
      "Shape di X: (63995, 80)\n",
      "Shape di y: (63995, 8)\n",
      "Totale campioni: 63995\n",
      "Train set: X = (44796, 80), y = (44796, 8)\n",
      "Validation set: X = (9599, 80), y = (9599, 8)\n",
      "Test set: X = (9600, 80), y = (9600, 8)\n",
      "\n",
      "✅ Partizioni create e salvate in 'partitions/part_fft_fft_5'\n",
      "Shape di X: (31995, 160)\n",
      "Shape di y: (31995, 8)\n",
      "Totale campioni: 31995\n",
      "Train set: X = (22396, 160), y = (22396, 8)\n",
      "Validation set: X = (4799, 160), y = (4799, 8)\n",
      "Test set: X = (4800, 160), y = (4800, 8)\n",
      "\n",
      "✅ Partizioni create e salvate in 'partitions/part_fft_fft_6'\n"
     ]
    }
   ],
   "source": [
    "for name, config in configs.items():\n",
    "    foldername = \"part_fft_fft_\" + str(config[\"id\"])\n",
    "\n",
    "    # slicing and sampling\n",
    "    sliced_and_sampled_data = samp.sampling_csv(samp.slicing(file_path, config[\"dim_slice\"]), config[\"sampling\"])\n",
    "    sliced_and_sampled_data.reset_index(drop=True, inplace=True)\n",
    "\n",
    "    # normalizzation\n",
    "    time_series_normalized = norm.normalize_array(sliced_and_sampled_data)\n",
    "    #display(time_series_normalized)\n",
    "\n",
    "    # generazione delle sequenze\n",
    "    X, y = part.generate_fft_sequences_with_frequency_target(time_series_normalized, config)\n",
    "\n",
    "    # split delle partizioni\n",
    "    part.split_and_save_dataset(X, y, foldername, config)"
   ]
  }
 ],
 "metadata": {
  "kernelspec": {
   "display_name": "myenv-tf",
   "language": "python",
   "name": "python3"
  },
  "language_info": {
   "codemirror_mode": {
    "name": "ipython",
    "version": 3
   },
   "file_extension": ".py",
   "mimetype": "text/x-python",
   "name": "python",
   "nbconvert_exporter": "python",
   "pygments_lexer": "ipython3",
   "version": "3.10.16"
  }
 },
 "nbformat": 4,
 "nbformat_minor": 2
}
