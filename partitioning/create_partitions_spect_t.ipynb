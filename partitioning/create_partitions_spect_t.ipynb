{
 "cells": [
  {
   "cell_type": "code",
   "execution_count": 1,
   "metadata": {},
   "outputs": [],
   "source": [
    "import os\n",
    "import sys\n",
    "import json\n",
    "import partitioning as part\n",
    "sys.path.append(\"../preprocessing/npy\")\n",
    "import sampling as samp\n",
    "import normalizzation as norm\n",
    "sys.path.append(\"../utilities\")\n",
    "import loadData as loadData"
   ]
  },
  {
   "cell_type": "code",
   "execution_count": null,
   "metadata": {},
   "outputs": [],
   "source": [
    "test_cycle = \"./Test_cycle_5\"\n",
    "file_config_name = \"configs_spect_t.json\"\n",
    "file_config_name = os.path.join(test_cycle, file_config_name)\n",
    "filename = \"Channel1.csv\"\n",
    "file_path = os.path.join(\"../timeseries/B101\", filename)"
   ]
  },
  {
   "cell_type": "code",
   "execution_count": 3,
   "metadata": {},
   "outputs": [
    {
     "name": "stdout",
     "output_type": "stream",
     "text": [
      "Configurazioni caricate:\n",
      "config_1: id = 1\n",
      "config_2: id = 2\n",
      "config_3: id = 3\n"
     ]
    }
   ],
   "source": [
    "configs = None\n",
    "\n",
    "# Apri il file e carica i dati in una variabile\n",
    "with open(file_config_name, \"r\") as f:\n",
    "    configs = json.load(f)\n",
    "\n",
    "# Ora configs contiene tutte le configurazioni\n",
    "print(\"Configurazioni caricate:\")\n",
    "for name, conf in configs.items():\n",
    "    print(f\"{name}: id = {conf['id']}\")"
   ]
  },
  {
   "cell_type": "code",
   "execution_count": 4,
   "metadata": {},
   "outputs": [
    {
     "name": "stdout",
     "output_type": "stream",
     "text": [
      "Shape di X: (1022, 1380)\n",
      "Shape di y: (1022,)\n",
      "Totale campioni: 1022\n",
      "Train set: X = (715, 1380), y = (715,)\n",
      "Validation set: X = (153, 1380), y = (153,)\n",
      "Test set: X = (154, 1380), y = (154,)\n",
      "\n",
      "✅ Partizioni create e salvate in 'partitions/part_spect_t_1'\n",
      "Shape di X: (510, 2760)\n",
      "Shape di y: (510,)\n",
      "Totale campioni: 510\n",
      "Train set: X = (357, 2760), y = (357,)\n",
      "Validation set: X = (76, 2760), y = (76,)\n",
      "Test set: X = (77, 2760), y = (77,)\n",
      "\n",
      "✅ Partizioni create e salvate in 'partitions/part_spect_t_2'\n",
      "Shape di X: (1278, 1320)\n",
      "Shape di y: (1278,)\n",
      "Totale campioni: 1278\n",
      "Train set: X = (894, 1320), y = (894,)\n",
      "Validation set: X = (191, 1320), y = (191,)\n",
      "Test set: X = (193, 1320), y = (193,)\n",
      "\n",
      "✅ Partizioni create e salvate in 'partitions/part_spect_t_3'\n"
     ]
    }
   ],
   "source": [
    "for name, config in configs.items():\n",
    "    foldername = \"part_spect_t_\" + str(config[\"id\"])\n",
    "\n",
    "    # slicing and sampling\n",
    "    sliced_and_sampled_data = samp.sampling_csv(samp.slicing(file_path, config[\"dim_slice\"]), config[\"sampling\"])\n",
    "    sliced_and_sampled_data.reset_index(drop=True, inplace=True)\n",
    "\n",
    "    # normalizzation\n",
    "    time_series_normalized = norm.normalize_array(sliced_and_sampled_data)\n",
    "    #display(time_series_normalized)\n",
    "\n",
    "    # generazione delle sequenze\n",
    "    X, y = part.generate_spectrogram_sequences_with_temporal_target(time_series_normalized, config)\n",
    "    \n",
    "    # split delle partizioni\n",
    "    part.split_and_save_dataset(X, y, foldername, config)"
   ]
  }
 ],
 "metadata": {
  "kernelspec": {
   "display_name": "myenv-tf",
   "language": "python",
   "name": "python3"
  },
  "language_info": {
   "codemirror_mode": {
    "name": "ipython",
    "version": 3
   },
   "file_extension": ".py",
   "mimetype": "text/x-python",
   "name": "python",
   "nbconvert_exporter": "python",
   "pygments_lexer": "ipython3",
   "version": "3.10.16"
  }
 },
 "nbformat": 4,
 "nbformat_minor": 2
}
