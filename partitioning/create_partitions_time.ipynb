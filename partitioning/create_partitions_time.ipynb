{
 "cells": [
  {
   "cell_type": "code",
   "execution_count": 1,
   "metadata": {},
   "outputs": [],
   "source": [
    "import os\n",
    "import sys\n",
    "import partitioning as part\n",
    "# Aggiungi al sys.path\n",
    "sys.path.append(\"../preprocessing/npy\")\n",
    "import sampling as samp\n",
    "import normalizzation as norm"
   ]
  },
  {
   "cell_type": "code",
   "execution_count": 2,
   "metadata": {},
   "outputs": [],
   "source": [
    "# FEATURES PARTITIONING\n",
    "config = {\n",
    "    \"seq_length\": 200,\n",
    "    \"dim_slice\": 5,\n",
    "    \"sampling\": 4,\n",
    "    \"overlapping\": 0,\n",
    "    \"train_ratio\" : 0.7,\n",
    "    \"test_ratio\" : 0.15,\n",
    "    \"val_ratio\" : 0.15,\n",
    "    \"shuffle\": False,\n",
    "    \"batch_size\": 1024,\n",
    "    \"factor\": 100,\n",
    "    \"csv_format\": True\n",
    "}\n",
    "\n",
    "filename = \"Channel1.csv\"\n",
    "file_path = os.path.join(\"../timeseries/B101\", filename)\n",
    "#file_path\n",
    "foldername = \"pt_\" + \"sq\" + str(config[\"seq_length\"]) + \"_\" + \"over\" + str(config['overlapping'])\n",
    "#print(foldername)"
   ]
  },
  {
   "cell_type": "code",
   "execution_count": 3,
   "metadata": {},
   "outputs": [
    {
     "data": {
      "text/plain": [
       "0        -0.070310\n",
       "1         0.056011\n",
       "2         0.093525\n",
       "3         0.119994\n",
       "4         0.155344\n",
       "            ...   \n",
       "255995    0.041222\n",
       "255996    0.068507\n",
       "255997    0.094984\n",
       "255998    0.067849\n",
       "255999   -0.035940\n",
       "Name: singleData, Length: 256000, dtype: float64"
      ]
     },
     "metadata": {},
     "output_type": "display_data"
    },
    {
     "name": "stdout",
     "output_type": "stream",
     "text": [
      "<class 'pandas.core.series.Series'>\n"
     ]
    }
   ],
   "source": [
    "# slicing and sampling\n",
    "sliced_and_sampled_data = samp.sampling_csv(samp.slicing(\"../timeseries/B101/Channel1.csv\", config[\"dim_slice\"]), config[\"sampling\"])\n",
    "\n",
    "# normalization data\n",
    "normalized_data = norm.normalize_array(sliced_and_sampled_data)\n",
    "normalized_data.reset_index(drop=True, inplace=True)\n",
    "display(normalized_data)\n",
    "print(type(normalized_data))"
   ]
  },
  {
   "cell_type": "code",
   "execution_count": 4,
   "metadata": {},
   "outputs": [
    {
     "name": "stderr",
     "output_type": "stream",
     "text": [
      "Salvataggio Train: 1batch [00:00,  7.82batch/s]"
     ]
    },
    {
     "name": "stdout",
     "output_type": "stream",
     "text": [
      "Unione dei file temporanei per train in un unico file CSV...\n"
     ]
    },
    {
     "name": "stderr",
     "output_type": "stream",
     "text": [
      "\n"
     ]
    },
    {
     "name": "stdout",
     "output_type": "stream",
     "text": [
      "✅ File CSV per train salvati correttamente: npy/pt_sq200_over0/X_train.csv, npy/pt_sq200_over0/y_train.csv\n"
     ]
    },
    {
     "name": "stderr",
     "output_type": "stream",
     "text": [
      "Salvataggio Val: 1batch [00:00, 37.30batch/s]\n"
     ]
    },
    {
     "name": "stdout",
     "output_type": "stream",
     "text": [
      "Unione dei file temporanei per val in un unico file CSV...\n",
      "✅ File CSV per val salvati correttamente: npy/pt_sq200_over0/X_val.csv, npy/pt_sq200_over0/y_val.csv\n"
     ]
    },
    {
     "name": "stderr",
     "output_type": "stream",
     "text": [
      "Salvataggio Test: 1batch [00:00, 37.68batch/s]"
     ]
    },
    {
     "name": "stdout",
     "output_type": "stream",
     "text": [
      "Unione dei file temporanei per test in un unico file CSV...\n",
      "✅ File CSV per test salvati correttamente: npy/pt_sq200_over0/X_test.csv, npy/pt_sq200_over0/y_test.csv\n",
      "📏 Shapes finali delle partizioni salvate in npy/pt_sq200_over0/shapes.txt\n",
      "Configurazione salvata in npy/pt_sq200_over0/config.json\n",
      "I file sono stati salvati in npy/pt_sq200_over0\n"
     ]
    },
    {
     "name": "stderr",
     "output_type": "stream",
     "text": [
      "\n"
     ]
    }
   ],
   "source": [
    "part.create_partitions_with_generators(normalized_data, config, foldername)"
   ]
  }
 ],
 "metadata": {
  "kernelspec": {
   "display_name": "myenv-tf",
   "language": "python",
   "name": "python3"
  },
  "language_info": {
   "codemirror_mode": {
    "name": "ipython",
    "version": 3
   },
   "file_extension": ".py",
   "mimetype": "text/x-python",
   "name": "python",
   "nbconvert_exporter": "python",
   "pygments_lexer": "ipython3",
   "version": "3.10.16"
  }
 },
 "nbformat": 4,
 "nbformat_minor": 2
}
