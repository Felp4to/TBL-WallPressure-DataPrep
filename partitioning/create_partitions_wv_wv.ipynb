{
 "cells": [
  {
   "cell_type": "code",
   "execution_count": 1,
   "metadata": {},
   "outputs": [],
   "source": [
    "import os\n",
    "import sys\n",
    "import json\n",
    "import partitioning as part\n",
    "sys.path.append(\"../preprocessing/npy\")\n",
    "import dft as dft\n",
    "import sampling as samp\n",
    "import normalizzation as norm\n",
    "sys.path.append(\"../utilities\")\n",
    "import loadData as loadData"
   ]
  },
  {
   "cell_type": "code",
   "execution_count": 2,
   "metadata": {},
   "outputs": [],
   "source": [
    "file_config_name = \"configs_wavelet_wv.json\"\n",
    "filename = \"Channel1.csv\"\n",
    "file_path = os.path.join(\"../timeseries/B101\", filename)"
   ]
  },
  {
   "cell_type": "code",
   "execution_count": 3,
   "metadata": {},
   "outputs": [
    {
     "name": "stdout",
     "output_type": "stream",
     "text": [
      "Configurazioni caricate:\n",
      "config_1: id = 1\n",
      "config_2: id = 2\n",
      "config_3: id = 3\n",
      "config_4: id = 4\n",
      "config_5: id = 5\n",
      "config_6: id = 6\n",
      "config_7: id = 7\n",
      "config_8: id = 8\n",
      "config_9: id = 9\n",
      "config_10: id = 10\n",
      "config_11: id = 11\n",
      "config_12: id = 12\n"
     ]
    }
   ],
   "source": [
    "configs = None\n",
    "\n",
    "# Apri il file e carica i dati in una variabile\n",
    "with open(file_config_name, \"r\") as f:\n",
    "    configs = json.load(f)\n",
    "\n",
    "# Ora configs contiene tutte le configurazioni\n",
    "print(\"Configurazioni caricate:\")\n",
    "for name, conf in configs.items():\n",
    "    print(f\"{name}: id = {conf['id']}\")"
   ]
  },
  {
   "cell_type": "code",
   "execution_count": 4,
   "metadata": {},
   "outputs": [
    {
     "name": "stderr",
     "output_type": "stream",
     "text": [
      "/home/paolo/miniconda3/envs/myenv-tf/lib/python3.10/site-packages/pywt/_multilevel.py:43: UserWarning: Level value of 3 is too high: all coefficients will experience boundary effects.\n",
      "  warnings.warn(\n"
     ]
    },
    {
     "name": "stdout",
     "output_type": "stream",
     "text": [
      "wavelet_windows:  16000\n",
      "num_windows:  16000\n",
      "num_coeff:  36\n",
      "Totale campioni: 1454\n",
      "Train set: X = (1017, 360), y = (1017, 36)\n",
      "Validation set: X = (218, 360), y = (218, 36)\n",
      "Test set: X = (219, 360), y = (219, 36)\n",
      "\n",
      "✅ Partizioni create e salvate in 'partitions/part_wv_wv_1'\n"
     ]
    },
    {
     "name": "stderr",
     "output_type": "stream",
     "text": [
      "/home/paolo/miniconda3/envs/myenv-tf/lib/python3.10/site-packages/pywt/_multilevel.py:43: UserWarning: Level value of 3 is too high: all coefficients will experience boundary effects.\n",
      "  warnings.warn(\n"
     ]
    },
    {
     "name": "stdout",
     "output_type": "stream",
     "text": [
      "wavelet_windows:  16000\n",
      "num_windows:  16000\n",
      "num_coeff:  36\n",
      "Totale campioni: 761\n",
      "Train set: X = (532, 720), y = (532, 36)\n",
      "Validation set: X = (114, 720), y = (114, 36)\n",
      "Test set: X = (115, 720), y = (115, 36)\n",
      "\n",
      "✅ Partizioni create e salvate in 'partitions/part_wv_wv_2'\n"
     ]
    },
    {
     "name": "stderr",
     "output_type": "stream",
     "text": [
      "/home/paolo/miniconda3/envs/myenv-tf/lib/python3.10/site-packages/pywt/_multilevel.py:43: UserWarning: Level value of 3 is too high: all coefficients will experience boundary effects.\n",
      "  warnings.warn(\n"
     ]
    },
    {
     "name": "stdout",
     "output_type": "stream",
     "text": [
      "wavelet_windows:  16000\n",
      "num_windows:  16000\n",
      "num_coeff:  36\n",
      "Totale campioni: 313\n",
      "Train set: X = (219, 1800), y = (219, 36)\n",
      "Validation set: X = (46, 1800), y = (46, 36)\n",
      "Test set: X = (48, 1800), y = (48, 36)\n",
      "\n",
      "✅ Partizioni create e salvate in 'partitions/part_wv_wv_3'\n"
     ]
    },
    {
     "name": "stderr",
     "output_type": "stream",
     "text": [
      "/home/paolo/miniconda3/envs/myenv-tf/lib/python3.10/site-packages/pywt/_multilevel.py:43: UserWarning: Level value of 3 is too high: all coefficients will experience boundary effects.\n",
      "  warnings.warn(\n"
     ]
    },
    {
     "name": "stdout",
     "output_type": "stream",
     "text": [
      "wavelet_windows:  16000\n",
      "num_windows:  16000\n",
      "num_coeff:  36\n",
      "Totale campioni: 158\n",
      "Train set: X = (110, 3600), y = (110, 36)\n",
      "Validation set: X = (23, 3600), y = (23, 36)\n",
      "Test set: X = (25, 3600), y = (25, 36)\n",
      "\n",
      "✅ Partizioni create e salvate in 'partitions/part_wv_wv_4'\n"
     ]
    },
    {
     "name": "stderr",
     "output_type": "stream",
     "text": [
      "/home/paolo/miniconda3/envs/myenv-tf/lib/python3.10/site-packages/pywt/_multilevel.py:43: UserWarning: Level value of 3 is too high: all coefficients will experience boundary effects.\n",
      "  warnings.warn(\n"
     ]
    },
    {
     "name": "stdout",
     "output_type": "stream",
     "text": [
      "wavelet_windows:  16000\n",
      "num_windows:  16000\n",
      "num_coeff:  36\n",
      "Totale campioni: 79\n",
      "Train set: X = (55, 7200), y = (55, 36)\n",
      "Validation set: X = (11, 7200), y = (11, 36)\n",
      "Test set: X = (13, 7200), y = (13, 36)\n",
      "\n",
      "✅ Partizioni create e salvate in 'partitions/part_wv_wv_5'\n"
     ]
    },
    {
     "name": "stderr",
     "output_type": "stream",
     "text": [
      "/home/paolo/miniconda3/envs/myenv-tf/lib/python3.10/site-packages/pywt/_multilevel.py:43: UserWarning: Level value of 3 is too high: all coefficients will experience boundary effects.\n",
      "  warnings.warn(\n"
     ]
    },
    {
     "name": "stdout",
     "output_type": "stream",
     "text": [
      "wavelet_windows:  8000\n",
      "num_windows:  8000\n",
      "num_coeff:  52\n",
      "Totale campioni: 380\n",
      "Train set: X = (266, 1040), y = (266, 52)\n",
      "Validation set: X = (57, 1040), y = (57, 52)\n",
      "Test set: X = (57, 1040), y = (57, 52)\n",
      "\n",
      "✅ Partizioni create e salvate in 'partitions/part_wv_wv_6'\n",
      "wavelet_windows:  4000\n",
      "num_windows:  4000\n",
      "num_coeff:  84\n",
      "Totale campioni: 190\n",
      "Train set: X = (133, 1680), y = (133, 84)\n",
      "Validation set: X = (28, 1680), y = (28, 84)\n",
      "Test set: X = (29, 1680), y = (29, 84)\n",
      "\n",
      "✅ Partizioni create e salvate in 'partitions/part_wv_wv_7'\n",
      "wavelet_windows:  2666\n",
      "num_windows:  2666\n",
      "num_coeff:  116\n",
      "Totale campioni: 126\n",
      "Train set: X = (88, 2320), y = (88, 116)\n",
      "Validation set: X = (18, 2320), y = (18, 116)\n",
      "Test set: X = (20, 2320), y = (20, 116)\n",
      "\n",
      "✅ Partizioni create e salvate in 'partitions/part_wv_wv_8'\n"
     ]
    },
    {
     "name": "stderr",
     "output_type": "stream",
     "text": [
      "/home/paolo/miniconda3/envs/myenv-tf/lib/python3.10/site-packages/pywt/_multilevel.py:43: UserWarning: Level value of 3 is too high: all coefficients will experience boundary effects.\n",
      "  warnings.warn(\n"
     ]
    },
    {
     "name": "stdout",
     "output_type": "stream",
     "text": [
      "wavelet_windows:  32000\n",
      "num_windows:  32000\n",
      "num_coeff:  28\n",
      "Totale campioni: 1523\n",
      "Train set: X = (1066, 560), y = (1066, 28)\n",
      "Validation set: X = (228, 560), y = (228, 28)\n",
      "Test set: X = (229, 560), y = (229, 28)\n",
      "\n",
      "✅ Partizioni create e salvate in 'partitions/part_wv_wv_9'\n"
     ]
    },
    {
     "name": "stderr",
     "output_type": "stream",
     "text": [
      "/home/paolo/miniconda3/envs/myenv-tf/lib/python3.10/site-packages/pywt/_multilevel.py:43: UserWarning: Level value of 3 is too high: all coefficients will experience boundary effects.\n",
      "  warnings.warn(\n"
     ]
    },
    {
     "name": "stdout",
     "output_type": "stream",
     "text": [
      "wavelet_windows:  64000\n",
      "num_windows:  64000\n",
      "num_coeff:  23\n",
      "Totale campioni: 3047\n",
      "Train set: X = (2132, 460), y = (2132, 23)\n",
      "Validation set: X = (457, 460), y = (457, 23)\n",
      "Test set: X = (458, 460), y = (458, 23)\n",
      "\n",
      "✅ Partizioni create e salvate in 'partitions/part_wv_wv_10'\n"
     ]
    },
    {
     "name": "stderr",
     "output_type": "stream",
     "text": [
      "/home/paolo/miniconda3/envs/myenv-tf/lib/python3.10/site-packages/pywt/_multilevel.py:43: UserWarning: Level value of 3 is too high: all coefficients will experience boundary effects.\n",
      "  warnings.warn(\n"
     ]
    },
    {
     "name": "stdout",
     "output_type": "stream",
     "text": [
      "wavelet_windows:  28443\n",
      "num_windows:  28443\n",
      "num_coeff:  36\n",
      "Totale campioni: 1354\n",
      "Train set: X = (947, 720), y = (947, 36)\n",
      "Validation set: X = (203, 720), y = (203, 36)\n",
      "Test set: X = (204, 720), y = (204, 36)\n",
      "\n",
      "✅ Partizioni create e salvate in 'partitions/part_wv_wv_11'\n"
     ]
    },
    {
     "name": "stderr",
     "output_type": "stream",
     "text": [
      "/home/paolo/miniconda3/envs/myenv-tf/lib/python3.10/site-packages/pywt/_multilevel.py:43: UserWarning: Level value of 3 is too high: all coefficients will experience boundary effects.\n",
      "  warnings.warn(\n"
     ]
    },
    {
     "name": "stdout",
     "output_type": "stream",
     "text": [
      "wavelet_windows:  85329\n",
      "num_windows:  85329\n",
      "num_coeff:  36\n",
      "Totale campioni: 4063\n",
      "Train set: X = (2844, 720), y = (2844, 36)\n",
      "Validation set: X = (609, 720), y = (609, 36)\n",
      "Test set: X = (610, 720), y = (610, 36)\n",
      "\n",
      "✅ Partizioni create e salvate in 'partitions/part_wv_wv_12'\n"
     ]
    }
   ],
   "source": [
    "for name, config in configs.items():\n",
    "    foldername = \"part_wv_wv_\" + str(config[\"id\"])\n",
    "\n",
    "    # slicing and sampling\n",
    "    sliced_and_sampled_data = samp.sampling_csv(samp.slicing(file_path, config[\"dim_slice\"]), config[\"sampling\"])\n",
    "    sliced_and_sampled_data.reset_index(drop=True, inplace=True)\n",
    "\n",
    "    # normalizzation\n",
    "    time_series_normalized = norm.normalize_array(sliced_and_sampled_data)\n",
    "    #display(time_series_normalized)\n",
    "\n",
    "    # generazione delle sequenze\n",
    "    X, y = part.generate_wavelet_sequences_with_wavelet_target(time_series_normalized, config)\n",
    "\n",
    "    # split delle partizioni\n",
    "    part.split_and_save_dataset(X, y, foldername, config)"
   ]
  }
 ],
 "metadata": {
  "kernelspec": {
   "display_name": "myenv-tf",
   "language": "python",
   "name": "python3"
  },
  "language_info": {
   "codemirror_mode": {
    "name": "ipython",
    "version": 3
   },
   "file_extension": ".py",
   "mimetype": "text/x-python",
   "name": "python",
   "nbconvert_exporter": "python",
   "pygments_lexer": "ipython3",
   "version": "3.10.16"
  }
 },
 "nbformat": 4,
 "nbformat_minor": 2
}
