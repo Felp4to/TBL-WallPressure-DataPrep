{
 "cells": [
  {
   "cell_type": "code",
   "execution_count": 1,
   "metadata": {},
   "outputs": [],
   "source": [
    "import os\n",
    "import sys\n",
    "import json\n",
    "import partitioning as part\n",
    "sys.path.append(\"../preprocessing/npy\")\n",
    "import dft as dft\n",
    "import sampling as samp\n",
    "import normalizzation as norm\n",
    "sys.path.append(\"../utilities\")\n",
    "import loadData as loadData"
   ]
  },
  {
   "cell_type": "code",
   "execution_count": 2,
   "metadata": {},
   "outputs": [],
   "source": [
    "file_config_name = \"./Test_cycle_2/configs_wavelet_wv.json\"\n",
    "filename = \"Channel1.csv\"\n",
    "file_path = os.path.join(\"../timeseries/B101\", filename)"
   ]
  },
  {
   "cell_type": "code",
   "execution_count": 3,
   "metadata": {},
   "outputs": [
    {
     "name": "stdout",
     "output_type": "stream",
     "text": [
      "Configurazioni caricate:\n",
      "config_1: id = 1\n",
      "config_2: id = 2\n",
      "config_3: id = 3\n",
      "config_4: id = 4\n",
      "config_5: id = 5\n",
      "config_6: id = 6\n"
     ]
    }
   ],
   "source": [
    "configs = None\n",
    "\n",
    "# Apri il file e carica i dati in una variabile\n",
    "with open(file_config_name, \"r\") as f:\n",
    "    configs = json.load(f)\n",
    "\n",
    "# Ora configs contiene tutte le configurazioni\n",
    "print(\"Configurazioni caricate:\")\n",
    "for name, conf in configs.items():\n",
    "    print(f\"{name}: id = {conf['id']}\")"
   ]
  },
  {
   "cell_type": "code",
   "execution_count": 4,
   "metadata": {},
   "outputs": [
    {
     "name": "stderr",
     "output_type": "stream",
     "text": [
      "/home/paolo/miniconda3/envs/myenv-tf/lib/python3.10/site-packages/pywt/_multilevel.py:43: UserWarning: Level value of 3 is too high: all coefficients will experience boundary effects.\n",
      "  warnings.warn(\n"
     ]
    },
    {
     "name": "stdout",
     "output_type": "stream",
     "text": [
      "wavelet_windows:  85329\n",
      "num_windows:  85329\n",
      "num_coeff:  52\n",
      "Totale campioni: 4063\n",
      "Train set: X = (2844, 1040), y = (2844, 52)\n",
      "Validation set: X = (609, 1040), y = (609, 52)\n",
      "Test set: X = (610, 1040), y = (610, 52)\n",
      "\n",
      "✅ Partizioni create e salvate in 'partitions/part_wv_wv_1'\n"
     ]
    },
    {
     "name": "stderr",
     "output_type": "stream",
     "text": [
      "/home/paolo/miniconda3/envs/myenv-tf/lib/python3.10/site-packages/pywt/_multilevel.py:43: UserWarning: Level value of 3 is too high: all coefficients will experience boundary effects.\n",
      "  warnings.warn(\n"
     ]
    },
    {
     "name": "stdout",
     "output_type": "stream",
     "text": [
      "wavelet_windows:  85329\n",
      "num_windows:  85329\n",
      "num_coeff:  52\n",
      "Totale campioni: 7757\n",
      "Train set: X = (5429, 520), y = (5429, 52)\n",
      "Validation set: X = (1163, 520), y = (1163, 52)\n",
      "Test set: X = (1165, 520), y = (1165, 52)\n",
      "\n",
      "✅ Partizioni create e salvate in 'partitions/part_wv_wv_2'\n"
     ]
    },
    {
     "name": "stderr",
     "output_type": "stream",
     "text": [
      "/home/paolo/miniconda3/envs/myenv-tf/lib/python3.10/site-packages/pywt/_multilevel.py:43: UserWarning: Level value of 3 is too high: all coefficients will experience boundary effects.\n",
      "  warnings.warn(\n"
     ]
    },
    {
     "name": "stdout",
     "output_type": "stream",
     "text": [
      "wavelet_windows:  170662\n",
      "num_windows:  170662\n",
      "num_coeff:  36\n",
      "Totale campioni: 15514\n",
      "Train set: X = (10859, 360), y = (10859, 36)\n",
      "Validation set: X = (2327, 360), y = (2327, 36)\n",
      "Test set: X = (2328, 360), y = (2328, 36)\n",
      "\n",
      "✅ Partizioni create e salvate in 'partitions/part_wv_wv_3'\n"
     ]
    },
    {
     "name": "stderr",
     "output_type": "stream",
     "text": [
      "/home/paolo/miniconda3/envs/myenv-tf/lib/python3.10/site-packages/pywt/_multilevel.py:43: UserWarning: Level value of 3 is too high: all coefficients will experience boundary effects.\n",
      "  warnings.warn(\n"
     ]
    },
    {
     "name": "stdout",
     "output_type": "stream",
     "text": [
      "wavelet_windows:  511993\n",
      "num_windows:  511993\n",
      "num_coeff:  28\n",
      "Totale campioni: 46544\n",
      "Train set: X = (32580, 280), y = (32580, 28)\n",
      "Validation set: X = (6981, 280), y = (6981, 28)\n",
      "Test set: X = (6983, 280), y = (6983, 28)\n",
      "\n",
      "✅ Partizioni create e salvate in 'partitions/part_wv_wv_4'\n"
     ]
    },
    {
     "name": "stderr",
     "output_type": "stream",
     "text": [
      "/home/paolo/miniconda3/envs/myenv-tf/lib/python3.10/site-packages/pywt/_multilevel.py:43: UserWarning: Level value of 3 is too high: all coefficients will experience boundary effects.\n",
      "  warnings.warn(\n"
     ]
    },
    {
     "name": "stdout",
     "output_type": "stream",
     "text": [
      "wavelet_windows:  511997\n",
      "num_windows:  511997\n",
      "num_coeff:  23\n",
      "Totale campioni: 46545\n",
      "Train set: X = (32581, 230), y = (32581, 23)\n",
      "Validation set: X = (6981, 230), y = (6981, 23)\n",
      "Test set: X = (6983, 230), y = (6983, 23)\n",
      "\n",
      "✅ Partizioni create e salvate in 'partitions/part_wv_wv_5'\n"
     ]
    },
    {
     "name": "stderr",
     "output_type": "stream",
     "text": [
      "/home/paolo/miniconda3/envs/myenv-tf/lib/python3.10/site-packages/pywt/_multilevel.py:43: UserWarning: Level value of 3 is too high: all coefficients will experience boundary effects.\n",
      "  warnings.warn(\n"
     ]
    },
    {
     "name": "stdout",
     "output_type": "stream",
     "text": [
      "wavelet_windows:  511997\n",
      "num_windows:  511997\n",
      "num_coeff:  23\n",
      "Totale campioni: 24380\n",
      "Train set: X = (17066, 460), y = (17066, 23)\n",
      "Validation set: X = (3657, 460), y = (3657, 23)\n",
      "Test set: X = (3657, 460), y = (3657, 23)\n",
      "\n",
      "✅ Partizioni create e salvate in 'partitions/part_wv_wv_6'\n"
     ]
    }
   ],
   "source": [
    "for name, config in configs.items():\n",
    "    foldername = \"part_wv_wv_\" + str(config[\"id\"])\n",
    "\n",
    "    # slicing and sampling\n",
    "    sliced_and_sampled_data = samp.sampling_csv(samp.slicing(file_path, config[\"dim_slice\"]), config[\"sampling\"])\n",
    "    sliced_and_sampled_data.reset_index(drop=True, inplace=True)\n",
    "\n",
    "    # normalizzation\n",
    "    time_series_normalized = norm.normalize_array(sliced_and_sampled_data)\n",
    "    #display(time_series_normalized)\n",
    "\n",
    "    # generazione delle sequenze\n",
    "    X, y = part.generate_wavelet_sequences_with_wavelet_target(time_series_normalized, config)\n",
    "\n",
    "    # split delle partizioni\n",
    "    part.split_and_save_dataset(X, y, foldername, config)"
   ]
  }
 ],
 "metadata": {
  "kernelspec": {
   "display_name": "myenv-tf",
   "language": "python",
   "name": "python3"
  },
  "language_info": {
   "codemirror_mode": {
    "name": "ipython",
    "version": 3
   },
   "file_extension": ".py",
   "mimetype": "text/x-python",
   "name": "python",
   "nbconvert_exporter": "python",
   "pygments_lexer": "ipython3",
   "version": "3.10.16"
  }
 },
 "nbformat": 4,
 "nbformat_minor": 2
}
