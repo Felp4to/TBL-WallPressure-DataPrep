{
 "cells": [
  {
   "cell_type": "code",
   "execution_count": 1,
   "metadata": {},
   "outputs": [],
   "source": [
    "import partitioning as part\n",
    "import pandas as pd\n",
    "import sys\n",
    "# Aggiungi al sys.path\n",
    "sys.path.append(\"../preprocessing\")\n",
    "import sampling as samp\n",
    "import normalizzation as norm"
   ]
  },
  {
   "cell_type": "code",
   "execution_count": 2,
   "metadata": {},
   "outputs": [],
   "source": [
    "# FEATURES PARTITIONING\n",
    "\n",
    "config = {\n",
    "    \"seq_length\": 100,\n",
    "    \"test_size\": 0.15,\n",
    "    \"overlapping\": 0,\n",
    "    \"shuffle\": False,\n",
    "    \"batch_size\": 1024,\n",
    "    \"factor\": 100,\n",
    "    \"sampling\": 4, \n",
    "    \"dim_slice\": 10,\n",
    "    \"csv_format\": True\n",
    "}"
   ]
  },
  {
   "cell_type": "code",
   "execution_count": 3,
   "metadata": {},
   "outputs": [
    {
     "data": {
      "text/html": [
       "<div>\n",
       "<style scoped>\n",
       "    .dataframe tbody tr th:only-of-type {\n",
       "        vertical-align: middle;\n",
       "    }\n",
       "\n",
       "    .dataframe tbody tr th {\n",
       "        vertical-align: top;\n",
       "    }\n",
       "\n",
       "    .dataframe thead th {\n",
       "        text-align: right;\n",
       "    }\n",
       "</style>\n",
       "<table border=\"1\" class=\"dataframe\">\n",
       "  <thead>\n",
       "    <tr style=\"text-align: right;\">\n",
       "      <th></th>\n",
       "      <th>singleData</th>\n",
       "    </tr>\n",
       "  </thead>\n",
       "  <tbody>\n",
       "    <tr>\n",
       "      <th>0</th>\n",
       "      <td>-0.069610</td>\n",
       "    </tr>\n",
       "    <tr>\n",
       "      <th>1</th>\n",
       "      <td>0.055445</td>\n",
       "    </tr>\n",
       "    <tr>\n",
       "      <th>2</th>\n",
       "      <td>0.092583</td>\n",
       "    </tr>\n",
       "    <tr>\n",
       "      <th>3</th>\n",
       "      <td>0.118785</td>\n",
       "    </tr>\n",
       "    <tr>\n",
       "      <th>4</th>\n",
       "      <td>0.153782</td>\n",
       "    </tr>\n",
       "    <tr>\n",
       "      <th>...</th>\n",
       "      <td>...</td>\n",
       "    </tr>\n",
       "    <tr>\n",
       "      <th>511995</th>\n",
       "      <td>-0.015252</td>\n",
       "    </tr>\n",
       "    <tr>\n",
       "      <th>511996</th>\n",
       "      <td>0.066742</td>\n",
       "    </tr>\n",
       "    <tr>\n",
       "      <th>511997</th>\n",
       "      <td>0.046031</td>\n",
       "    </tr>\n",
       "    <tr>\n",
       "      <th>511998</th>\n",
       "      <td>0.015067</td>\n",
       "    </tr>\n",
       "    <tr>\n",
       "      <th>511999</th>\n",
       "      <td>-0.108181</td>\n",
       "    </tr>\n",
       "  </tbody>\n",
       "</table>\n",
       "<p>512000 rows × 1 columns</p>\n",
       "</div>"
      ],
      "text/plain": [
       "        singleData\n",
       "0        -0.069610\n",
       "1         0.055445\n",
       "2         0.092583\n",
       "3         0.118785\n",
       "4         0.153782\n",
       "...            ...\n",
       "511995   -0.015252\n",
       "511996    0.066742\n",
       "511997    0.046031\n",
       "511998    0.015067\n",
       "511999   -0.108181\n",
       "\n",
       "[512000 rows x 1 columns]"
      ]
     },
     "metadata": {},
     "output_type": "display_data"
    }
   ],
   "source": [
    "# slicing and sampling\n",
    "sliced_and_sampled_data = samp.sampling_csv(samp.slicing(\"../timeseries/B101/Channel1.csv\", config[\"dim_slice\"]), config[\"sampling\"])\n",
    "\n",
    "# normalization data\n",
    "normalized_data = norm.normalize_dataframe(sliced_and_sampled_data)\n",
    "normalized_data.reset_index(drop=True, inplace=True)\n",
    "display(normalized_data)"
   ]
  },
  {
   "cell_type": "code",
   "execution_count": 4,
   "metadata": {},
   "outputs": [
    {
     "name": "stdout",
     "output_type": "stream",
     "text": [
      "Nome inserito:  partitions_8\n"
     ]
    }
   ],
   "source": [
    "foldername = input(\"Specifica il nome della cartella nel quale salvare le partizioni: \")\n",
    "print(\"Nome inserito: \", foldername)"
   ]
  },
  {
   "cell_type": "code",
   "execution_count": 5,
   "metadata": {},
   "outputs": [
    {
     "name": "stderr",
     "output_type": "stream",
     "text": [
      "Salvataggio Train: 4batch [00:00, 13.96batch/s]\n"
     ]
    },
    {
     "name": "stdout",
     "output_type": "stream",
     "text": [
      "Unione dei file temporanei per train in un unico buffer...\n",
      "✅ File .buffer per train salvato correttamente: npy/partitions_8/dtrain.buffer\n"
     ]
    },
    {
     "name": "stderr",
     "output_type": "stream",
     "text": [
      "Salvataggio Val: 1batch [00:00, 17.14batch/s]\n"
     ]
    },
    {
     "name": "stdout",
     "output_type": "stream",
     "text": [
      "Unione dei file temporanei per val in un unico buffer...\n",
      "✅ File .buffer per val salvato correttamente: npy/partitions_8/dval.buffer\n"
     ]
    },
    {
     "name": "stderr",
     "output_type": "stream",
     "text": [
      "Salvataggio Test: 1batch [00:00, 17.19batch/s]\n"
     ]
    },
    {
     "name": "stdout",
     "output_type": "stream",
     "text": [
      "Unione dei file temporanei per test in un unico buffer...\n",
      "✅ File .buffer per test salvato correttamente: npy/partitions_8/dtest.buffer\n",
      "Configurazione salvata in npy/partitions_8/config.json\n",
      "I file sono stati salvati in npy/partitions_8\n"
     ]
    }
   ],
   "source": [
    "#part.create_partitions_with_generators(normalized_data, \n",
    "#                                       config[\"seq_length\"],\n",
    "#                                        config[\"test_size\"],\n",
    "#                                          config[\"overlapping\"],\n",
    "#                                            foldername, config[\"batch_size\"] * config[\"factor\"],\n",
    "#                                              config[\"csv_format\"])\n",
    "\n",
    "part.create_partitions_with_generators_B(normalized_data, config, foldername)"
   ]
  }
 ],
 "metadata": {
  "kernelspec": {
   "display_name": "myenv-tf",
   "language": "python",
   "name": "python3"
  },
  "language_info": {
   "codemirror_mode": {
    "name": "ipython",
    "version": 3
   },
   "file_extension": ".py",
   "mimetype": "text/x-python",
   "name": "python",
   "nbconvert_exporter": "python",
   "pygments_lexer": "ipython3",
   "version": "3.10.16"
  }
 },
 "nbformat": 4,
 "nbformat_minor": 2
}
