{
 "cells": [
  {
   "cell_type": "code",
   "execution_count": 1,
   "metadata": {},
   "outputs": [],
   "source": [
    "import partitioning as part\n",
    "import pandas as pd\n",
    "import sys\n",
    "# Aggiungi al sys.path\n",
    "sys.path.append(\"../preprocessing\")\n",
    "import sampling as samp\n",
    "import normalizzation as norm"
   ]
  },
  {
   "cell_type": "code",
   "execution_count": 2,
   "metadata": {},
   "outputs": [],
   "source": [
    "# FEATURES PARTITIONING\n",
    "seq_length = 50\n",
    "test_size = 0.15\n",
    "overlapping = 0\n",
    "shuffle = False\n",
    "batch_size = 1024\n",
    "factor = 100\n",
    "sampling = 4                    # 50 khz\n",
    "dim_slice = 5\n",
    "csv_format = True               # False: solo .buffer, True: anche csv files"
   ]
  },
  {
   "cell_type": "code",
   "execution_count": 3,
   "metadata": {},
   "outputs": [],
   "source": [
    "# slicing and sampling\n",
    "sliced_and_sampled_data = samp.sampling_csv(samp.slicing(\"../timeseries/B101/Channel1.csv\", dim_slice), sampling)\n",
    "\n",
    "# normalization data\n",
    "normalized_data = norm.z_score_normalizzation(sliced_and_sampled_data)\n",
    "normalized_data.reset_index(drop=True, inplace=True)"
   ]
  },
  {
   "cell_type": "code",
   "execution_count": 4,
   "metadata": {},
   "outputs": [
    {
     "name": "stdout",
     "output_type": "stream",
     "text": [
      "Nome inserito:  partitions_1\n"
     ]
    }
   ],
   "source": [
    "foldername = input(\"Specifica il nome della cartella nel quale salvare le partizioni: \")\n",
    "print(\"Nome inserito: \", foldername)"
   ]
  },
  {
   "cell_type": "code",
   "execution_count": 5,
   "metadata": {},
   "outputs": [
    {
     "name": "stderr",
     "output_type": "stream",
     "text": [
      "Salvataggio Train: 1batch [00:00,  2.35batch/s]\n"
     ]
    },
    {
     "name": "stdout",
     "output_type": "stream",
     "text": [
      "Unione dei file temporanei per train in un unico buffer...\n",
      "✅ File .buffer per train salvato correttamente: npy/partitions_1/dtrain.buffer\n"
     ]
    },
    {
     "name": "stderr",
     "output_type": "stream",
     "text": [
      "Salvataggio Val: 1batch [00:00, 22.82batch/s]\n"
     ]
    },
    {
     "name": "stdout",
     "output_type": "stream",
     "text": [
      "Unione dei file temporanei per val in un unico buffer...\n",
      "✅ File .buffer per val salvato correttamente: npy/partitions_1/dval.buffer\n"
     ]
    },
    {
     "name": "stderr",
     "output_type": "stream",
     "text": [
      "Salvataggio Test: 1batch [00:00, 22.32batch/s]\n"
     ]
    },
    {
     "name": "stdout",
     "output_type": "stream",
     "text": [
      "Unione dei file temporanei per test in un unico buffer...\n",
      "✅ File .buffer per test salvato correttamente: npy/partitions_1/dtest.buffer\n",
      "I file sono stati salvati in npy/partitions_1\n"
     ]
    }
   ],
   "source": [
    "part.create_partitions_with_generators(normalized_data, seq_length, test_size, overlapping, foldername, batch_size * factor, csv_format)"
   ]
  }
 ],
 "metadata": {
  "kernelspec": {
   "display_name": "myenv-tf",
   "language": "python",
   "name": "python3"
  },
  "language_info": {
   "codemirror_mode": {
    "name": "ipython",
    "version": 3
   },
   "file_extension": ".py",
   "mimetype": "text/x-python",
   "name": "python",
   "nbconvert_exporter": "python",
   "pygments_lexer": "ipython3",
   "version": "3.10.16"
  }
 },
 "nbformat": 4,
 "nbformat_minor": 2
}
