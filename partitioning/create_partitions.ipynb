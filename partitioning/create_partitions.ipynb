{
 "cells": [
  {
   "cell_type": "code",
   "execution_count": 1,
   "metadata": {},
   "outputs": [],
   "source": [
    "import os\n",
    "import sys\n",
    "import json\n",
    "import numpy as np\n",
    "import pandas as pd\n",
    "import partitioning as part\n",
    "sys.path.append(\"../preprocessing/npy\")\n",
    "import sampling as samp\n",
    "import normalizzation as norm\n",
    "sys.path.append(\"../data_analysis/npy\")\n",
    "import analysis as analysis"
   ]
  },
  {
   "cell_type": "code",
   "execution_count": 2,
   "metadata": {},
   "outputs": [],
   "source": [
    "model = \"XGBOOST\"\n",
    "filename = \"Channel1.csv\"\n",
    "test_cycle = \"./Test_cycle_8\"\n",
    "file_config_name = \"config.json\"\n",
    "relative_path = os.path.join(test_cycle, file_config_name)\n",
    "csv_time_series_path = os.path.join(\"../timeseries/B101\", filename)"
   ]
  },
  {
   "cell_type": "code",
   "execution_count": 3,
   "metadata": {},
   "outputs": [
    {
     "name": "stdout",
     "output_type": "stream",
     "text": [
      "Configurazioni caricate:\n",
      "config_1: id = 1\n",
      "config_2: id = 2\n",
      "config_3: id = 3\n",
      "config_4: id = 4\n",
      "config_5: id = 5\n"
     ]
    }
   ],
   "source": [
    "configs = None\n",
    "\n",
    "# Apri il file e carica i dati in una variabile\n",
    "with open(relative_path, \"r\") as f:\n",
    "    configs = json.load(f)\n",
    "\n",
    "# Ora configs contiene tutte le configurazioni\n",
    "print(\"Configurazioni caricate:\")\n",
    "for name, conf in configs.items():\n",
    "    print(f\"{name}: id = {conf['id']}\")"
   ]
  },
  {
   "cell_type": "code",
   "execution_count": null,
   "metadata": {},
   "outputs": [],
   "source": [
    "# read csv file and extract ts into dataframe pandas\n",
    "time_series = pd.read_csv(csv_time_series_path)\n",
    "\n",
    "# calculate max abs value \n",
    "max_abs_value = np.max(np.abs(time_series))\n",
    "\n",
    "for name, config in configs.items():\n",
    "    \n",
    "    foldername = os.path.join(test_cycle, \"part_t_t_\" + str(config[\"id\"]))\n",
    "    \n",
    "    # slicing and sampling\n",
    "    sliced_and_sampled_data = samp.sampling_csv(samp.slicing(time_series, config[\"dim_slice\"]), config[\"sampling\"])\n",
    "    sliced_and_sampled_data.reset_index(drop=True, inplace=True)\n",
    "\n",
    "    # normalizzation\n",
    "    time_series_normalized = norm.normalize_array(sliced_and_sampled_data)\n",
    "    \n",
    "    # generate sequences\n",
    "    X, y, y2 = part.generate_time_sequences(sliced_and_sampled_data, time_series_normalized, config)\n",
    "    \n",
    "    # split delle partizioni\n",
    "    part.split_and_save_dataset(X, y, foldername, config)"
   ]
  },
  {
   "cell_type": "code",
   "execution_count": null,
   "metadata": {},
   "outputs": [],
   "source": [
    "required_features ={\n",
    "    \"0\" : \"\",\n",
    "    \"1\" : \"\",\n",
    "    \"2\" : \"\",\n",
    "    \"3\" : \"\",\n",
    "    \"4\" : \"\",\n",
    "    \"5\" : \"\"\n",
    "}"
   ]
  },
  {
   "cell_type": "code",
   "execution_count": 4,
   "metadata": {},
   "outputs": [
    {
     "name": "stdout",
     "output_type": "stream",
     "text": [
      "Shape di X: (5069, 180)\n",
      "Shape di y: (5069,)\n",
      "Totale campioni: 5069\n",
      "Train set: X = (3548, 180), y = (3548,)\n",
      "Validation set: X = (760, 180), y = (760,)\n",
      "Test set: X = (761, 180), y = (761,)\n",
      "\n",
      "✅ Partizioni create e salvate in './Test_cycle_8/part_fft_t_1'\n",
      "Shape di X: (5069, 200)\n",
      "Shape di y: (5069,)\n",
      "Totale campioni: 5069\n",
      "Train set: X = (3548, 200), y = (3548,)\n",
      "Validation set: X = (760, 200), y = (760,)\n",
      "Test set: X = (761, 200), y = (761,)\n",
      "\n",
      "✅ Partizioni create e salvate in './Test_cycle_8/part_fft_t_2'\n",
      "Shape di X: (5069, 200)\n",
      "Shape di y: (5069,)\n",
      "Totale campioni: 5069\n",
      "Train set: X = (3548, 200), y = (3548,)\n",
      "Validation set: X = (760, 200), y = (760,)\n",
      "Test set: X = (761, 200), y = (761,)\n",
      "\n",
      "✅ Partizioni create e salvate in './Test_cycle_8/part_fft_t_3'\n",
      "Shape di X: (5069, 196)\n",
      "Shape di y: (5069,)\n",
      "Totale campioni: 5069\n",
      "Train set: X = (3548, 196), y = (3548,)\n",
      "Validation set: X = (760, 196), y = (760,)\n",
      "Test set: X = (761, 196), y = (761,)\n",
      "\n",
      "✅ Partizioni create e salvate in './Test_cycle_8/part_fft_t_4'\n",
      "Shape di X: (5069, 200)\n",
      "Shape di y: (5069,)\n",
      "Totale campioni: 5069\n",
      "Train set: X = (3548, 200), y = (3548,)\n",
      "Validation set: X = (760, 200), y = (760,)\n",
      "Test set: X = (761, 200), y = (761,)\n",
      "\n",
      "✅ Partizioni create e salvate in './Test_cycle_8/part_fft_t_5'\n"
     ]
    }
   ],
   "source": [
    "# FOURIER E TEMPO\n",
    "# { [ts[0], fft[0]] , [ts[1], fft[1]] , ... , [ts[n], fft[n]] } --> t_next\n",
    "\n",
    "# read csv file and extract ts into dataframe pandas\n",
    "time_series = pd.read_csv(csv_time_series_path)\n",
    "\n",
    "# calculate max abs value \n",
    "max_abs_value = np.max(np.abs(time_series))\n",
    "\n",
    "for name, config in configs.items():\n",
    "    \n",
    "    foldername = os.path.join(test_cycle, \"part_fft_t_\" + str(config[\"id\"]))\n",
    "    \n",
    "    # slicing and sampling\n",
    "    sliced_and_sampled_data = samp.sampling_csv(samp.slicing(time_series, config[\"dim_slice\"]), config[\"sampling\"])\n",
    "    sliced_and_sampled_data.reset_index(drop=True, inplace=True)\n",
    "\n",
    "    # normalizzation\n",
    "    time_series_normalized = norm.normalize_array(sliced_and_sampled_data)\n",
    "    \n",
    "    # generate sequences\n",
    "    X, y, y2 = part.generate_multi_feature_sequences(sliced_and_sampled_data, time_series_normalized, config)\n",
    "    \n",
    "    # split delle partizioni\n",
    "    part.split_and_save_dataset(X, y, foldername, config)"
   ]
  }
 ],
 "metadata": {
  "kernelspec": {
   "display_name": "myenv-tf",
   "language": "python",
   "name": "python3"
  },
  "language_info": {
   "codemirror_mode": {
    "name": "ipython",
    "version": 3
   },
   "file_extension": ".py",
   "mimetype": "text/x-python",
   "name": "python",
   "nbconvert_exporter": "python",
   "pygments_lexer": "ipython3",
   "version": "3.10.16"
  }
 },
 "nbformat": 4,
 "nbformat_minor": 2
}
