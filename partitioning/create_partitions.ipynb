{
 "cells": [
  {
   "cell_type": "code",
   "execution_count": 1,
   "metadata": {},
   "outputs": [],
   "source": [
    "import partitioning as part\n",
    "import pandas as pd\n",
    "import sys\n",
    "# Aggiungi al sys.path\n",
    "sys.path.append(\"../preprocessing\")\n",
    "import sampling as samp\n",
    "import normalizzation as norm"
   ]
  },
  {
   "cell_type": "code",
   "execution_count": 2,
   "metadata": {},
   "outputs": [],
   "source": [
    "# FEATURES PARTITIONING\n",
    "seq_length = 50\n",
    "test_size = 0.15\n",
    "overlapping = 0\n",
    "shuffle = False\n",
    "batch_size = 1024\n",
    "factor = 100\n",
    "sampling = 4                    # 50 khz\n",
    "dim_slice = 5\n",
    "csv_format = True               # False: solo .buffer, True: anche csv files"
   ]
  },
  {
   "cell_type": "code",
   "execution_count": 3,
   "metadata": {},
   "outputs": [
    {
     "data": {
      "text/html": [
       "<div>\n",
       "<style scoped>\n",
       "    .dataframe tbody tr th:only-of-type {\n",
       "        vertical-align: middle;\n",
       "    }\n",
       "\n",
       "    .dataframe tbody tr th {\n",
       "        vertical-align: top;\n",
       "    }\n",
       "\n",
       "    .dataframe thead th {\n",
       "        text-align: right;\n",
       "    }\n",
       "</style>\n",
       "<table border=\"1\" class=\"dataframe\">\n",
       "  <thead>\n",
       "    <tr style=\"text-align: right;\">\n",
       "      <th></th>\n",
       "      <th>singleData</th>\n",
       "    </tr>\n",
       "  </thead>\n",
       "  <tbody>\n",
       "    <tr>\n",
       "      <th>0</th>\n",
       "      <td>-0.070310</td>\n",
       "    </tr>\n",
       "    <tr>\n",
       "      <th>1</th>\n",
       "      <td>0.056011</td>\n",
       "    </tr>\n",
       "    <tr>\n",
       "      <th>2</th>\n",
       "      <td>0.093525</td>\n",
       "    </tr>\n",
       "    <tr>\n",
       "      <th>3</th>\n",
       "      <td>0.119994</td>\n",
       "    </tr>\n",
       "    <tr>\n",
       "      <th>4</th>\n",
       "      <td>0.155344</td>\n",
       "    </tr>\n",
       "    <tr>\n",
       "      <th>...</th>\n",
       "      <td>...</td>\n",
       "    </tr>\n",
       "    <tr>\n",
       "      <th>255995</th>\n",
       "      <td>0.041222</td>\n",
       "    </tr>\n",
       "    <tr>\n",
       "      <th>255996</th>\n",
       "      <td>0.068507</td>\n",
       "    </tr>\n",
       "    <tr>\n",
       "      <th>255997</th>\n",
       "      <td>0.094984</td>\n",
       "    </tr>\n",
       "    <tr>\n",
       "      <th>255998</th>\n",
       "      <td>0.067849</td>\n",
       "    </tr>\n",
       "    <tr>\n",
       "      <th>255999</th>\n",
       "      <td>-0.035940</td>\n",
       "    </tr>\n",
       "  </tbody>\n",
       "</table>\n",
       "<p>256000 rows × 1 columns</p>\n",
       "</div>"
      ],
      "text/plain": [
       "        singleData\n",
       "0        -0.070310\n",
       "1         0.056011\n",
       "2         0.093525\n",
       "3         0.119994\n",
       "4         0.155344\n",
       "...            ...\n",
       "255995    0.041222\n",
       "255996    0.068507\n",
       "255997    0.094984\n",
       "255998    0.067849\n",
       "255999   -0.035940\n",
       "\n",
       "[256000 rows x 1 columns]"
      ]
     },
     "metadata": {},
     "output_type": "display_data"
    }
   ],
   "source": [
    "# slicing and sampling\n",
    "sliced_and_sampled_data = samp.sampling_csv(samp.slicing(\"../timeseries/B101/Channel1.csv\", dim_slice), sampling)\n",
    "\n",
    "# normalization data\n",
    "normalized_data = norm.normalize_dataframe(sliced_and_sampled_data)\n",
    "normalized_data.reset_index(drop=True, inplace=True)\n",
    "display(normalized_data)"
   ]
  },
  {
   "cell_type": "code",
   "execution_count": 4,
   "metadata": {},
   "outputs": [
    {
     "name": "stdout",
     "output_type": "stream",
     "text": [
      "Nome inserito:  partitions_1\n"
     ]
    }
   ],
   "source": [
    "foldername = input(\"Specifica il nome della cartella nel quale salvare le partizioni: \")\n",
    "print(\"Nome inserito: \", foldername)"
   ]
  },
  {
   "cell_type": "code",
   "execution_count": 5,
   "metadata": {},
   "outputs": [
    {
     "name": "stderr",
     "output_type": "stream",
     "text": [
      "Salvataggio Train: 1batch [00:00,  3.13batch/s]\n"
     ]
    },
    {
     "name": "stdout",
     "output_type": "stream",
     "text": [
      "Unione dei file temporanei per train in un unico buffer...\n",
      "✅ File .buffer per train salvato correttamente: npy/partitions_1/dtrain.buffer\n"
     ]
    },
    {
     "name": "stderr",
     "output_type": "stream",
     "text": [
      "Salvataggio Val: 1batch [00:00, 12.36batch/s]\n"
     ]
    },
    {
     "name": "stdout",
     "output_type": "stream",
     "text": [
      "Unione dei file temporanei per val in un unico buffer...\n",
      "✅ File .buffer per val salvato correttamente: npy/partitions_1/dval.buffer\n"
     ]
    },
    {
     "name": "stderr",
     "output_type": "stream",
     "text": [
      "Salvataggio Test: 1batch [00:00,  7.58batch/s]\n"
     ]
    },
    {
     "name": "stdout",
     "output_type": "stream",
     "text": [
      "Unione dei file temporanei per test in un unico buffer...\n",
      "✅ File .buffer per test salvato correttamente: npy/partitions_1/dtest.buffer\n",
      "I file sono stati salvati in npy/partitions_1\n"
     ]
    }
   ],
   "source": [
    "part.create_partitions_with_generators(normalized_data, seq_length, test_size, overlapping, foldername, batch_size * factor, csv_format)"
   ]
  }
 ],
 "metadata": {
  "kernelspec": {
   "display_name": "myenv-tf",
   "language": "python",
   "name": "python3"
  },
  "language_info": {
   "codemirror_mode": {
    "name": "ipython",
    "version": 3
   },
   "file_extension": ".py",
   "mimetype": "text/x-python",
   "name": "python",
   "nbconvert_exporter": "python",
   "pygments_lexer": "ipython3",
   "version": "3.10.16"
  }
 },
 "nbformat": 4,
 "nbformat_minor": 2
}
