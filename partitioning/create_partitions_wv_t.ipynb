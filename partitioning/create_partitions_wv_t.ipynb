{
 "cells": [
  {
   "cell_type": "code",
   "execution_count": 1,
   "metadata": {},
   "outputs": [],
   "source": [
    "import os\n",
    "import sys\n",
    "import json\n",
    "import partitioning as part\n",
    "sys.path.append(\"../preprocessing/npy\")\n",
    "import dft as dft\n",
    "import sampling as samp\n",
    "import normalizzation as norm\n",
    "sys.path.append(\"../utilities\")\n",
    "import loadData as loadData"
   ]
  },
  {
   "cell_type": "code",
   "execution_count": 2,
   "metadata": {},
   "outputs": [],
   "source": [
    "file_config_name = \"configs_wavelet.json\"\n",
    "filename = \"Channel1.csv\"\n",
    "file_path = os.path.join(\"../timeseries/B101\", filename)"
   ]
  },
  {
   "cell_type": "code",
   "execution_count": 3,
   "metadata": {},
   "outputs": [
    {
     "name": "stdout",
     "output_type": "stream",
     "text": [
      "Configurazioni caricate:\n",
      "config_1: id = 1\n",
      "config_2: id = 2\n",
      "config_3: id = 3\n",
      "config_4: id = 4\n",
      "config_5: id = 5\n",
      "config_6: id = 6\n",
      "config_7: id = 7\n",
      "config_8: id = 8\n",
      "config_9: id = 9\n",
      "config_10: id = 10\n",
      "config_11: id = 11\n",
      "config_12: id = 12\n"
     ]
    }
   ],
   "source": [
    "configs = None\n",
    "\n",
    "# Apri il file e carica i dati in una variabile\n",
    "with open(file_config_name, \"r\") as f:\n",
    "    configs = json.load(f)\n",
    "\n",
    "# Ora configs contiene tutte le configurazioni\n",
    "print(\"Configurazioni caricate:\")\n",
    "for name, conf in configs.items():\n",
    "    print(f\"{name}: id = {conf['id']}\")"
   ]
  },
  {
   "cell_type": "code",
   "execution_count": 4,
   "metadata": {},
   "outputs": [
    {
     "name": "stderr",
     "output_type": "stream",
     "text": [
      "/home/paolo/miniconda3/envs/myenv-tf/lib/python3.10/site-packages/pywt/_multilevel.py:43: UserWarning: Level value of 3 is too high: all coefficients will experience boundary effects.\n",
      "  warnings.warn(\n"
     ]
    },
    {
     "name": "stdout",
     "output_type": "stream",
     "text": [
      "Shape di X: (1590, 360)\n",
      "Shape di y: (1590,)\n",
      "Totale campioni: 1590\n",
      "Train set: X = (1113, 360), y = (1113,)\n",
      "Validation set: X = (238, 360), y = (238,)\n",
      "Test set: X = (239, 360), y = (239,)\n",
      "\n",
      "✅ Partizioni create e salvate in 'partitions/part_wv_t_1'\n"
     ]
    },
    {
     "name": "stderr",
     "output_type": "stream",
     "text": [
      "/home/paolo/miniconda3/envs/myenv-tf/lib/python3.10/site-packages/pywt/_multilevel.py:43: UserWarning: Level value of 3 is too high: all coefficients will experience boundary effects.\n",
      "  warnings.warn(\n"
     ]
    },
    {
     "name": "stdout",
     "output_type": "stream",
     "text": [
      "Shape di X: (797, 720)\n",
      "Shape di y: (797,)\n",
      "Totale campioni: 797\n",
      "Train set: X = (557, 720), y = (557,)\n",
      "Validation set: X = (119, 720), y = (119,)\n",
      "Test set: X = (121, 720), y = (121,)\n",
      "\n",
      "✅ Partizioni create e salvate in 'partitions/part_wv_t_2'\n"
     ]
    },
    {
     "name": "stderr",
     "output_type": "stream",
     "text": [
      "/home/paolo/miniconda3/envs/myenv-tf/lib/python3.10/site-packages/pywt/_multilevel.py:43: UserWarning: Level value of 3 is too high: all coefficients will experience boundary effects.\n",
      "  warnings.warn(\n"
     ]
    },
    {
     "name": "stdout",
     "output_type": "stream",
     "text": [
      "Shape di X: (319, 1800)\n",
      "Shape di y: (319,)\n",
      "Totale campioni: 319\n",
      "Train set: X = (223, 1800), y = (223,)\n",
      "Validation set: X = (47, 1800), y = (47,)\n",
      "Test set: X = (49, 1800), y = (49,)\n",
      "\n",
      "✅ Partizioni create e salvate in 'partitions/part_wv_t_3'\n"
     ]
    },
    {
     "name": "stderr",
     "output_type": "stream",
     "text": [
      "/home/paolo/miniconda3/envs/myenv-tf/lib/python3.10/site-packages/pywt/_multilevel.py:43: UserWarning: Level value of 3 is too high: all coefficients will experience boundary effects.\n",
      "  warnings.warn(\n"
     ]
    },
    {
     "name": "stdout",
     "output_type": "stream",
     "text": [
      "Shape di X: (159, 3600)\n",
      "Shape di y: (159,)\n",
      "Totale campioni: 159\n",
      "Train set: X = (111, 3600), y = (111,)\n",
      "Validation set: X = (23, 3600), y = (23,)\n",
      "Test set: X = (25, 3600), y = (25,)\n",
      "\n",
      "✅ Partizioni create e salvate in 'partitions/part_wv_t_4'\n"
     ]
    },
    {
     "name": "stderr",
     "output_type": "stream",
     "text": [
      "/home/paolo/miniconda3/envs/myenv-tf/lib/python3.10/site-packages/pywt/_multilevel.py:43: UserWarning: Level value of 3 is too high: all coefficients will experience boundary effects.\n",
      "  warnings.warn(\n"
     ]
    },
    {
     "name": "stdout",
     "output_type": "stream",
     "text": [
      "Shape di X: (79, 7200)\n",
      "Shape di y: (79,)\n",
      "Totale campioni: 79\n",
      "Train set: X = (55, 7200), y = (55,)\n",
      "Validation set: X = (11, 7200), y = (11,)\n",
      "Test set: X = (13, 7200), y = (13,)\n",
      "\n",
      "✅ Partizioni create e salvate in 'partitions/part_wv_t_5'\n"
     ]
    },
    {
     "name": "stderr",
     "output_type": "stream",
     "text": [
      "/home/paolo/miniconda3/envs/myenv-tf/lib/python3.10/site-packages/pywt/_multilevel.py:43: UserWarning: Level value of 3 is too high: all coefficients will experience boundary effects.\n",
      "  warnings.warn(\n"
     ]
    },
    {
     "name": "stdout",
     "output_type": "stream",
     "text": [
      "Shape di X: (399, 1040)\n",
      "Shape di y: (399,)\n",
      "Totale campioni: 399\n",
      "Train set: X = (279, 1040), y = (279,)\n",
      "Validation set: X = (59, 1040), y = (59,)\n",
      "Test set: X = (61, 1040), y = (61,)\n",
      "\n",
      "✅ Partizioni create e salvate in 'partitions/part_wv_t_6'\n",
      "Shape di X: (199, 1680)\n",
      "Shape di y: (199,)\n",
      "Totale campioni: 199\n",
      "Train set: X = (139, 1680), y = (139,)\n",
      "Validation set: X = (29, 1680), y = (29,)\n",
      "Test set: X = (31, 1680), y = (31,)\n",
      "\n",
      "✅ Partizioni create e salvate in 'partitions/part_wv_t_7'\n",
      "Shape di X: (133, 2320)\n",
      "Shape di y: (133,)\n",
      "Totale campioni: 133\n",
      "Train set: X = (93, 2320), y = (93,)\n",
      "Validation set: X = (19, 2320), y = (19,)\n",
      "Test set: X = (21, 2320), y = (21,)\n",
      "\n",
      "✅ Partizioni create e salvate in 'partitions/part_wv_t_8'\n"
     ]
    },
    {
     "name": "stderr",
     "output_type": "stream",
     "text": [
      "/home/paolo/miniconda3/envs/myenv-tf/lib/python3.10/site-packages/pywt/_multilevel.py:43: UserWarning: Level value of 3 is too high: all coefficients will experience boundary effects.\n",
      "  warnings.warn(\n"
     ]
    },
    {
     "name": "stdout",
     "output_type": "stream",
     "text": [
      "Shape di X: (1590, 560)\n",
      "Shape di y: (1590,)\n",
      "Totale campioni: 1590\n",
      "Train set: X = (1113, 560), y = (1113,)\n",
      "Validation set: X = (238, 560), y = (238,)\n",
      "Test set: X = (239, 560), y = (239,)\n",
      "\n",
      "✅ Partizioni create e salvate in 'partitions/part_wv_t_9'\n"
     ]
    },
    {
     "name": "stderr",
     "output_type": "stream",
     "text": [
      "/home/paolo/miniconda3/envs/myenv-tf/lib/python3.10/site-packages/pywt/_multilevel.py:43: UserWarning: Level value of 3 is too high: all coefficients will experience boundary effects.\n",
      "  warnings.warn(\n"
     ]
    },
    {
     "name": "stdout",
     "output_type": "stream",
     "text": [
      "Shape di X: (3160, 460)\n",
      "Shape di y: (3160,)\n",
      "Totale campioni: 3160\n",
      "Train set: X = (2212, 460), y = (2212,)\n",
      "Validation set: X = (474, 460), y = (474,)\n",
      "Test set: X = (474, 460), y = (474,)\n",
      "\n",
      "✅ Partizioni create e salvate in 'partitions/part_wv_t_10'\n"
     ]
    },
    {
     "name": "stderr",
     "output_type": "stream",
     "text": [
      "/home/paolo/miniconda3/envs/myenv-tf/lib/python3.10/site-packages/pywt/_multilevel.py:43: UserWarning: Level value of 3 is too high: all coefficients will experience boundary effects.\n",
      "  warnings.warn(\n"
     ]
    },
    {
     "name": "stdout",
     "output_type": "stream",
     "text": [
      "Shape di X: (1332, 720)\n",
      "Shape di y: (1332,)\n",
      "Totale campioni: 1332\n",
      "Train set: X = (932, 720), y = (932,)\n",
      "Validation set: X = (199, 720), y = (199,)\n",
      "Test set: X = (201, 720), y = (201,)\n",
      "\n",
      "✅ Partizioni create e salvate in 'partitions/part_wv_t_11'\n"
     ]
    },
    {
     "name": "stderr",
     "output_type": "stream",
     "text": [
      "/home/paolo/miniconda3/envs/myenv-tf/lib/python3.10/site-packages/pywt/_multilevel.py:43: UserWarning: Level value of 3 is too high: all coefficients will experience boundary effects.\n",
      "  warnings.warn(\n"
     ]
    },
    {
     "name": "stdout",
     "output_type": "stream",
     "text": [
      "Shape di X: (3995, 720)\n",
      "Shape di y: (3995,)\n",
      "Totale campioni: 3995\n",
      "Train set: X = (2796, 720), y = (2796,)\n",
      "Validation set: X = (599, 720), y = (599,)\n",
      "Test set: X = (600, 720), y = (600,)\n",
      "\n",
      "✅ Partizioni create e salvate in 'partitions/part_wv_t_12'\n"
     ]
    }
   ],
   "source": [
    "for name, config in configs.items():\n",
    "    foldername = \"part_wv_t_\" + str(config[\"id\"])\n",
    "\n",
    "    # slicing and sampling\n",
    "    sliced_and_sampled_data = samp.sampling_csv(samp.slicing(file_path, config[\"dim_slice\"]), config[\"sampling\"])\n",
    "    sliced_and_sampled_data.reset_index(drop=True, inplace=True)\n",
    "\n",
    "    # normalizzation\n",
    "    time_series_normalized = norm.normalize_array(sliced_and_sampled_data)\n",
    "    #display(time_series_normalized)\n",
    "    \n",
    "    # generazione delle sequenze\n",
    "    X, y = part.generate_wavelet_sequences_with_temporal_target(time_series_normalized, config)\n",
    "\n",
    "    # split delle partizioni\n",
    "    part.split_and_save_dataset(X, y, foldername, config)"
   ]
  }
 ],
 "metadata": {
  "kernelspec": {
   "display_name": "myenv-tf",
   "language": "python",
   "name": "python3"
  },
  "language_info": {
   "codemirror_mode": {
    "name": "ipython",
    "version": 3
   },
   "file_extension": ".py",
   "mimetype": "text/x-python",
   "name": "python",
   "nbconvert_exporter": "python",
   "pygments_lexer": "ipython3",
   "version": "3.10.16"
  }
 },
 "nbformat": 4,
 "nbformat_minor": 2
}
