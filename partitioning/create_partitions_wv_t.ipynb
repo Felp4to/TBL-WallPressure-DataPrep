{
 "cells": [
  {
   "cell_type": "code",
   "execution_count": 1,
   "metadata": {},
   "outputs": [],
   "source": [
    "import os\n",
    "import sys\n",
    "import json\n",
    "import partitioning as part\n",
    "sys.path.append(\"../preprocessing/npy\")\n",
    "import sampling as samp\n",
    "import normalizzation as norm\n",
    "sys.path.append(\"../utilities\")\n",
    "import loadData as loadData"
   ]
  },
  {
   "cell_type": "code",
   "execution_count": 2,
   "metadata": {},
   "outputs": [],
   "source": [
    "test_cycle = \"./Test_cycle_3\"\n",
    "file_config_name = \"configs_wavelet_t.json\"\n",
    "file_config_name = os.path.join(test_cycle, file_config_name)\n",
    "filename = \"Channel1.csv\"\n",
    "file_path = os.path.join(\"../timeseries/B101\", filename)"
   ]
  },
  {
   "cell_type": "code",
   "execution_count": 3,
   "metadata": {},
   "outputs": [
    {
     "name": "stdout",
     "output_type": "stream",
     "text": [
      "Configurazioni caricate:\n",
      "config_1: id = 1\n",
      "config_2: id = 2\n",
      "config_3: id = 3\n",
      "config_4: id = 4\n",
      "config_5: id = 5\n",
      "config_6: id = 6\n",
      "config_7: id = 7\n",
      "config_8: id = 5\n"
     ]
    }
   ],
   "source": [
    "configs = None\n",
    "\n",
    "# Apri il file e carica i dati in una variabile\n",
    "with open(file_config_name, \"r\") as f:\n",
    "    configs = json.load(f)\n",
    "\n",
    "# Ora configs contiene tutte le configurazioni\n",
    "print(\"Configurazioni caricate:\")\n",
    "for name, conf in configs.items():\n",
    "    print(f\"{name}: id = {conf['id']}\")"
   ]
  },
  {
   "cell_type": "code",
   "execution_count": 4,
   "metadata": {},
   "outputs": [
    {
     "name": "stderr",
     "output_type": "stream",
     "text": [
      "/home/paolo/miniconda3/envs/myenv-tf/lib/python3.10/site-packages/pywt/_multilevel.py:43: UserWarning: Level value of 3 is too high: all coefficients will experience boundary effects.\n",
      "  warnings.warn(\n"
     ]
    },
    {
     "name": "stdout",
     "output_type": "stream",
     "text": [
      "Shape di X: (9846, 84)\n",
      "Shape di y: (9846,)\n",
      "Totale campioni: 9846\n",
      "Train set: X = (6892, 84), y = (6892,)\n",
      "Validation set: X = (1476, 84), y = (1476,)\n",
      "Test set: X = (1478, 84), y = (1478,)\n",
      "\n",
      "✅ Partizioni create e salvate in 'partitions/part_wv_t_1'\n"
     ]
    },
    {
     "name": "stderr",
     "output_type": "stream",
     "text": [
      "/home/paolo/miniconda3/envs/myenv-tf/lib/python3.10/site-packages/pywt/_multilevel.py:43: UserWarning: Level value of 3 is too high: all coefficients will experience boundary effects.\n",
      "  warnings.warn(\n"
     ]
    },
    {
     "name": "stdout",
     "output_type": "stream",
     "text": [
      "Shape di X: (5120, 168)\n",
      "Shape di y: (5120,)\n",
      "Totale campioni: 5120\n",
      "Train set: X = (3584, 168), y = (3584,)\n",
      "Validation set: X = (768, 168), y = (768,)\n",
      "Test set: X = (768, 168), y = (768,)\n",
      "\n",
      "✅ Partizioni create e salvate in 'partitions/part_wv_t_2'\n"
     ]
    },
    {
     "name": "stderr",
     "output_type": "stream",
     "text": [
      "/home/paolo/miniconda3/envs/myenv-tf/lib/python3.10/site-packages/pywt/_multilevel.py:43: UserWarning: Level value of 3 is too high: all coefficients will experience boundary effects.\n",
      "  warnings.warn(\n"
     ]
    },
    {
     "name": "stdout",
     "output_type": "stream",
     "text": [
      "Shape di X: (2098, 420)\n",
      "Shape di y: (2098,)\n",
      "Totale campioni: 2098\n",
      "Train set: X = (1468, 420), y = (1468,)\n",
      "Validation set: X = (314, 420), y = (314,)\n",
      "Test set: X = (316, 420), y = (316,)\n",
      "\n",
      "✅ Partizioni create e salvate in 'partitions/part_wv_t_3'\n"
     ]
    },
    {
     "name": "stderr",
     "output_type": "stream",
     "text": [
      "/home/paolo/miniconda3/envs/myenv-tf/lib/python3.10/site-packages/pywt/_multilevel.py:43: UserWarning: Level value of 3 is too high: all coefficients will experience boundary effects.\n",
      "  warnings.warn(\n"
     ]
    },
    {
     "name": "stdout",
     "output_type": "stream",
     "text": [
      "Shape di X: (6095, 230)\n",
      "Shape di y: (6095,)\n",
      "Totale campioni: 6095\n",
      "Train set: X = (4266, 230), y = (4266,)\n",
      "Validation set: X = (914, 230), y = (914,)\n",
      "Test set: X = (915, 230), y = (915,)\n",
      "\n",
      "✅ Partizioni create e salvate in 'partitions/part_wv_t_4'\n"
     ]
    },
    {
     "name": "stderr",
     "output_type": "stream",
     "text": [
      "/home/paolo/miniconda3/envs/myenv-tf/lib/python3.10/site-packages/pywt/_multilevel.py:43: UserWarning: Level value of 3 is too high: all coefficients will experience boundary effects.\n",
      "  warnings.warn(\n"
     ]
    },
    {
     "name": "stdout",
     "output_type": "stream",
     "text": [
      "Shape di X: (3121, 280)\n",
      "Shape di y: (3121,)\n",
      "Totale campioni: 3121\n",
      "Train set: X = (2184, 280), y = (2184,)\n",
      "Validation set: X = (468, 280), y = (468,)\n",
      "Test set: X = (469, 280), y = (469,)\n",
      "\n",
      "✅ Partizioni create e salvate in 'partitions/part_wv_t_5'\n"
     ]
    },
    {
     "name": "stderr",
     "output_type": "stream",
     "text": [
      "/home/paolo/miniconda3/envs/myenv-tf/lib/python3.10/site-packages/pywt/_multilevel.py:43: UserWarning: Level value of 3 is too high: all coefficients will experience boundary effects.\n",
      "  warnings.warn(\n"
     ]
    },
    {
     "name": "stdout",
     "output_type": "stream",
     "text": [
      "Shape di X: (1580, 360)\n",
      "Shape di y: (1580,)\n",
      "Totale campioni: 1580\n",
      "Train set: X = (1106, 360), y = (1106,)\n",
      "Validation set: X = (237, 360), y = (237,)\n",
      "Test set: X = (237, 360), y = (237,)\n",
      "\n",
      "✅ Partizioni create e salvate in 'partitions/part_wv_t_6'\n"
     ]
    },
    {
     "name": "stderr",
     "output_type": "stream",
     "text": [
      "/home/paolo/miniconda3/envs/myenv-tf/lib/python3.10/site-packages/pywt/_multilevel.py:43: UserWarning: Level value of 3 is too high: all coefficients will experience boundary effects.\n",
      "  warnings.warn(\n"
     ]
    },
    {
     "name": "stdout",
     "output_type": "stream",
     "text": [
      "Shape di X: (795, 520)\n",
      "Shape di y: (795,)\n",
      "Totale campioni: 795\n",
      "Train set: X = (556, 520), y = (556,)\n",
      "Validation set: X = (119, 520), y = (119,)\n",
      "Test set: X = (120, 520), y = (120,)\n",
      "\n",
      "✅ Partizioni create e salvate in 'partitions/part_wv_t_7'\n"
     ]
    },
    {
     "name": "stderr",
     "output_type": "stream",
     "text": [
      "/home/paolo/miniconda3/envs/myenv-tf/lib/python3.10/site-packages/pywt/_multilevel.py:43: UserWarning: Level value of 3 is too high: all coefficients will experience boundary effects.\n",
      "  warnings.warn(\n"
     ]
    },
    {
     "name": "stdout",
     "output_type": "stream",
     "text": [
      "Shape di X: (31990, 280)\n",
      "Shape di y: (31990,)\n",
      "Totale campioni: 31990\n",
      "Train set: X = (22393, 280), y = (22393,)\n",
      "Validation set: X = (4798, 280), y = (4798,)\n",
      "Test set: X = (4799, 280), y = (4799,)\n",
      "\n",
      "✅ Partizioni create e salvate in 'partitions/part_wv_t_5'\n"
     ]
    }
   ],
   "source": [
    "for name, config in configs.items():\n",
    "    foldername = \"part_wv_t_\" + str(config[\"id\"])\n",
    "\n",
    "    # slicing and sampling\n",
    "    sliced_and_sampled_data = samp.sampling_csv(samp.slicing(file_path, config[\"dim_slice\"]), config[\"sampling\"])\n",
    "    sliced_and_sampled_data.reset_index(drop=True, inplace=True)\n",
    "\n",
    "    # normalizzation\n",
    "    time_series_normalized = norm.normalize_array(sliced_and_sampled_data)\n",
    "    #display(time_series_normalized)\n",
    "    \n",
    "    # generazione delle sequenze\n",
    "    X, y = part.generate_wavelet_sequences_with_temporal_target(time_series_normalized, config)\n",
    "\n",
    "    # split delle partizioni\n",
    "    part.split_and_save_dataset(X, y, foldername, config)"
   ]
  }
 ],
 "metadata": {
  "kernelspec": {
   "display_name": "myenv-tf",
   "language": "python",
   "name": "python3"
  },
  "language_info": {
   "codemirror_mode": {
    "name": "ipython",
    "version": 3
   },
   "file_extension": ".py",
   "mimetype": "text/x-python",
   "name": "python",
   "nbconvert_exporter": "python",
   "pygments_lexer": "ipython3",
   "version": "3.10.16"
  }
 },
 "nbformat": 4,
 "nbformat_minor": 2
}
