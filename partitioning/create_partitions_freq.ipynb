{
 "cells": [
  {
   "cell_type": "code",
   "execution_count": 1,
   "metadata": {},
   "outputs": [],
   "source": [
    "import os\n",
    "import sys\n",
    "import numpy as np\n",
    "import partitioning2 as part\n",
    "sys.path.append(\"../preprocessing/npy\")\n",
    "import sampling as samp\n",
    "import normalizzation as norm\n",
    "import dft as dft\n",
    "sys.path.append(\"../utilities\")\n",
    "import loadData as loadData"
   ]
  },
  {
   "cell_type": "code",
   "execution_count": 2,
   "metadata": {},
   "outputs": [],
   "source": [
    "# FEATURES PARTITIONING\n",
    "\n",
    "config = {\n",
    "    \"seq_length\" : 50,\n",
    "    \"dim_slice\" : 10,\n",
    "    \"sampling\": 4,\n",
    "    \"overlapping\": 0,\n",
    "    \"window_size\" : 64,\n",
    "    \"stride\": 25,\n",
    "    \"train_ratio\" : 0.7,\n",
    "    \"test_ratio\" : 0.15,\n",
    "    \"val_ratio\" : 0.15,\n",
    "    \"random_seed\" : 42\n",
    "}\n",
    "\n",
    "filename = \"Channel1.csv\"\n",
    "file_path = os.path.join(\"../timeseries/B101\", filename)\n",
    "#file_path\n",
    "foldername = \"pf_\" + \"sq\" + str(config[\"seq_length\"]) + \"_\" + \"sl\" + str(config[\"dim_slice\"]) + \"_\" + \"ws\" + str(config['window_size']) + \"_\" + \"st\" + str(config['stride'])\n",
    "#print(foldername)"
   ]
  },
  {
   "cell_type": "code",
   "execution_count": 3,
   "metadata": {},
   "outputs": [
    {
     "name": "stderr",
     "output_type": "stream",
     "text": [
      "Computing DFT (Re e Im): 100%|██████████| 20478/20478 [00:00<00:00, 29228.73it/s]\n"
     ]
    },
    {
     "data": {
      "text/plain": [
       "(20478, 128)"
      ]
     },
     "metadata": {},
     "output_type": "display_data"
    },
    {
     "name": "stdout",
     "output_type": "stream",
     "text": [
      "Configurazione salvata in: ./npy/pf_sq50_sl10_ws64_st25/config.txt\n",
      "Dataset salvato in ./npy/pf_sq50_sl10_ws64_st25\n",
      "Dimensioni delle partizioni:\n",
      "- X_train shape: (14299, 6400)\n",
      "- y_train shape: (14299, 128)\n",
      "- X_val shape: (3064, 6400)\n",
      "- y_val shape: (3064, 128)\n",
      "- X_test shape: (3065, 6400)\n",
      "- y_test shape: (3065, 128)\n",
      "\n"
     ]
    },
    {
     "data": {
      "text/plain": [
       "{'train': 14299, 'val': 3064, 'test': 3065}"
      ]
     },
     "execution_count": 3,
     "metadata": {},
     "output_type": "execute_result"
    }
   ],
   "source": [
    "# slicing and sampling\n",
    "sliced_and_sampled_data = samp.sampling_csv(samp.slicing(file_path, config[\"dim_slice\"]), config[\"sampling\"])\n",
    "sliced_and_sampled_data.reset_index(drop=True, inplace=True)\n",
    "#display(sliced_and_sampled_data)\n",
    "\n",
    "# normalizzation\n",
    "time_series_normalized = norm.normalize_array(sliced_and_sampled_data)\n",
    "#display(time_series_normalized)\n",
    "\n",
    "# passo al dominio frequenziale\n",
    "fft_data = dft.generate_fft_re_im(time_series_normalized, config['window_size'], config['stride'])\n",
    "display(fft_data.shape)\n",
    "\n",
    "# create partitions\n",
    "part.create_train_val_test_sets(fft_data, foldername, config)"
   ]
  }
 ],
 "metadata": {
  "kernelspec": {
   "display_name": "myenv-tf",
   "language": "python",
   "name": "python3"
  },
  "language_info": {
   "codemirror_mode": {
    "name": "ipython",
    "version": 3
   },
   "file_extension": ".py",
   "mimetype": "text/x-python",
   "name": "python",
   "nbconvert_exporter": "python",
   "pygments_lexer": "ipython3",
   "version": "3.10.16"
  }
 },
 "nbformat": 4,
 "nbformat_minor": 2
}
