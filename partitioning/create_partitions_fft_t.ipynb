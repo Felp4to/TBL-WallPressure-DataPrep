{
 "cells": [
  {
   "cell_type": "code",
   "execution_count": 1,
   "metadata": {},
   "outputs": [],
   "source": [
    "import os\n",
    "import sys\n",
    "import json\n",
    "import partitioning as part\n",
    "sys.path.append(\"../preprocessing/npy\")\n",
    "import sampling as samp\n",
    "import normalizzation as norm\n",
    "sys.path.append(\"../utilities\")\n",
    "import loadData as loadData"
   ]
  },
  {
   "cell_type": "code",
   "execution_count": 2,
   "metadata": {},
   "outputs": [],
   "source": [
    "test_cycle = \"./Test_cycle_3\"\n",
    "file_config_name = \"configs_fft_t.json\"\n",
    "file_config_name = os.path.join(test_cycle, file_config_name)\n",
    "filename = \"Channel1.csv\"\n",
    "file_path = os.path.join(\"../timeseries/B101\", filename)"
   ]
  },
  {
   "cell_type": "code",
   "execution_count": 3,
   "metadata": {},
   "outputs": [
    {
     "name": "stdout",
     "output_type": "stream",
     "text": [
      "Configurazioni caricate:\n",
      "config_1: id = 1\n",
      "config_2: id = 2\n",
      "config_3: id = 3\n",
      "config_4: id = 4\n",
      "config_5: id = 5\n",
      "config_6: id = 6\n",
      "config_7: id = 7\n",
      "config_8: id = 5\n"
     ]
    }
   ],
   "source": [
    "configs = None\n",
    "\n",
    "# Apri il file e carica i dati in una variabile\n",
    "with open(file_config_name, \"r\") as f:\n",
    "    configs = json.load(f)\n",
    "\n",
    "# Ora configs contiene tutte le configurazioni\n",
    "print(\"Configurazioni caricate:\")\n",
    "for name, conf in configs.items():\n",
    "    print(f\"{name}: id = {conf['id']}\")"
   ]
  },
  {
   "cell_type": "code",
   "execution_count": 4,
   "metadata": {},
   "outputs": [
    {
     "name": "stdout",
     "output_type": "stream",
     "text": [
      "Shape di X: (10240, 48)\n",
      "Shape di y: (10240,)\n",
      "Totale campioni: 10240\n",
      "Train set: X = (7168, 48), y = (7168,)\n",
      "Validation set: X = (1536, 48), y = (1536,)\n",
      "Test set: X = (1536, 48), y = (1536,)\n",
      "\n",
      "✅ Partizioni create e salvate in 'partitions/part_fft_t_1'\n",
      "Shape di X: (5224, 96)\n",
      "Shape di y: (5224,)\n",
      "Totale campioni: 5224\n",
      "Train set: X = (3656, 96), y = (3656,)\n",
      "Validation set: X = (783, 96), y = (783,)\n",
      "Test set: X = (785, 96), y = (785,)\n",
      "\n",
      "✅ Partizioni create e salvate in 'partitions/part_fft_t_2'\n",
      "Shape di X: (2115, 240)\n",
      "Shape di y: (2115,)\n",
      "Totale campioni: 2115\n",
      "Train set: X = (1480, 240), y = (1480,)\n",
      "Validation set: X = (317, 240), y = (317,)\n",
      "Test set: X = (318, 240), y = (318,)\n",
      "\n",
      "✅ Partizioni create e salvate in 'partitions/part_fft_t_3'\n",
      "Shape di X: (6243, 80)\n",
      "Shape di y: (6243,)\n",
      "Totale campioni: 6243\n",
      "Train set: X = (4370, 80), y = (4370,)\n",
      "Validation set: X = (936, 80), y = (936,)\n",
      "Test set: X = (937, 80), y = (937,)\n",
      "\n",
      "✅ Partizioni create e salvate in 'partitions/part_fft_t_4'\n",
      "Shape di X: (3160, 160)\n",
      "Shape di y: (3160,)\n",
      "Totale campioni: 3160\n",
      "Train set: X = (2212, 160), y = (2212,)\n",
      "Validation set: X = (474, 160), y = (474,)\n",
      "Test set: X = (474, 160), y = (474,)\n",
      "\n",
      "✅ Partizioni create e salvate in 'partitions/part_fft_t_5'\n",
      "Shape di X: (1590, 320)\n",
      "Shape di y: (1590,)\n",
      "Totale campioni: 1590\n",
      "Train set: X = (1113, 320), y = (1113,)\n",
      "Validation set: X = (238, 320), y = (238,)\n",
      "Test set: X = (239, 320), y = (239,)\n",
      "\n",
      "✅ Partizioni create e salvate in 'partitions/part_fft_t_6'\n",
      "Shape di X: (797, 640)\n",
      "Shape di y: (797,)\n",
      "Totale campioni: 797\n",
      "Train set: X = (557, 640), y = (557,)\n",
      "Validation set: X = (119, 640), y = (119,)\n",
      "Test set: X = (121, 640), y = (121,)\n",
      "\n",
      "✅ Partizioni create e salvate in 'partitions/part_fft_t_7'\n",
      "Shape di X: (31990, 160)\n",
      "Shape di y: (31990,)\n",
      "Totale campioni: 31990\n",
      "Train set: X = (22393, 160), y = (22393,)\n",
      "Validation set: X = (4798, 160), y = (4798,)\n",
      "Test set: X = (4799, 160), y = (4799,)\n",
      "\n",
      "✅ Partizioni create e salvate in 'partitions/part_fft_t_5'\n"
     ]
    }
   ],
   "source": [
    "for name, config in configs.items():\n",
    "    foldername = \"part_fft_t_\" + str(config[\"id\"])\n",
    "\n",
    "    # slicing and sampling\n",
    "    sliced_and_sampled_data = samp.sampling_csv(samp.slicing(file_path, config[\"dim_slice\"]), config[\"sampling\"])\n",
    "    sliced_and_sampled_data.reset_index(drop=True, inplace=True)\n",
    "\n",
    "    # normalizzation\n",
    "    time_series_normalized = norm.normalize_array(sliced_and_sampled_data)\n",
    "    #display(time_series_normalized)\n",
    "\n",
    "    # generazione delle sequenze\n",
    "    X, y = part.generate_fft_sequences_with_temporal_target(time_series_normalized, config)\n",
    "\n",
    "    # split delle partizioni\n",
    "    part.split_and_save_dataset(X, y, foldername, config)"
   ]
  }
 ],
 "metadata": {
  "kernelspec": {
   "display_name": "myenv-tf",
   "language": "python",
   "name": "python3"
  },
  "language_info": {
   "codemirror_mode": {
    "name": "ipython",
    "version": 3
   },
   "file_extension": ".py",
   "mimetype": "text/x-python",
   "name": "python",
   "nbconvert_exporter": "python",
   "pygments_lexer": "ipython3",
   "version": "3.10.16"
  }
 },
 "nbformat": 4,
 "nbformat_minor": 2
}
