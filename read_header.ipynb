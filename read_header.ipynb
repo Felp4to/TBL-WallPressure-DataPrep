{
 "cells": [
  {
   "cell_type": "code",
   "execution_count": 15,
   "metadata": {},
   "outputs": [],
   "source": [
    "from mat4py import loadmat\n",
    "import constants as cs"
   ]
  },
  {
   "cell_type": "code",
   "execution_count": null,
   "metadata": {},
   "outputs": [],
   "source": [
    "data = loadmat(cs.FOLDER_PATH)\n",
    "display(data)"
   ]
  },
  {
   "cell_type": "code",
   "execution_count": 18,
   "metadata": {},
   "outputs": [
    {
     "data": {
      "text/plain": [
       "dict_keys(['Version', 'NumberOfValues', 'NumberOfChannels', 'BlockSize', 'ProcMethod', 'AcqMode', 'CenterFrequency', 'Span', 'SampleInterval', 'PercentRealTime', 'Date', 'Time', 'ScaleFactors', 'Overloads', 'Ranges', 'Names', 'NanoSecDelay', 'Units', 'Couplings', 'CutoffFreq'])"
      ]
     },
     "metadata": {},
     "output_type": "display_data"
    }
   ],
   "source": [
    "header = data['header'].keys()\n",
    "display(header)"
   ]
  },
  {
   "cell_type": "code",
   "execution_count": 19,
   "metadata": {},
   "outputs": [
    {
     "data": {
      "text/plain": [
       "['F001',\n",
       " 'F002',\n",
       " 'F003',\n",
       " 'F004',\n",
       " 'F005',\n",
       " 'F006',\n",
       " 'F007',\n",
       " 'F008',\n",
       " 'F009',\n",
       " 'F010',\n",
       " 'F011',\n",
       " 'F012',\n",
       " 'F013',\n",
       " 'F014',\n",
       " 'F015',\n",
       " 'F016',\n",
       " 'F017',\n",
       " 'F018',\n",
       " 'F019',\n",
       " 'F020',\n",
       " 'F021',\n",
       " 'F022',\n",
       " 'F023',\n",
       " 'F024',\n",
       " 'F025',\n",
       " 'F026',\n",
       " 'F027',\n",
       " 'F065',\n",
       " 'F030',\n",
       " 'F031',\n",
       " 'F032',\n",
       " 'F033',\n",
       " 'F034',\n",
       " 'F036',\n",
       " 'F037',\n",
       " 'F039',\n",
       " 'F040',\n",
       " 'F041',\n",
       " 'F042',\n",
       " 'F043',\n",
       " 'F044',\n",
       " 'F045',\n",
       " 'F046',\n",
       " 'F047',\n",
       " 'F048',\n",
       " 'F049',\n",
       " 'F050',\n",
       " 'F051',\n",
       " 'F052',\n",
       " 'F053',\n",
       " 'F054',\n",
       " 'F055',\n",
       " 'F056',\n",
       " 'F057',\n",
       " 'F058',\n",
       " 'F059',\n",
       " 'F060',\n",
       " 'F061',\n",
       " 'F062',\n",
       " 'F063',\n",
       " 'F064',\n",
       " 'IRIGB']"
      ]
     },
     "metadata": {},
     "output_type": "display_data"
    }
   ],
   "source": [
    "sensor_names = data['header']['Names']\n",
    "display(sensor_names)\n"
   ]
  }
 ],
 "metadata": {
  "kernelspec": {
   "display_name": "myenv",
   "language": "python",
   "name": "python3"
  },
  "language_info": {
   "codemirror_mode": {
    "name": "ipython",
    "version": 3
   },
   "file_extension": ".py",
   "mimetype": "text/x-python",
   "name": "python",
   "nbconvert_exporter": "python",
   "pygments_lexer": "ipython3",
   "version": "3.13.2"
  }
 },
 "nbformat": 4,
 "nbformat_minor": 2
}
