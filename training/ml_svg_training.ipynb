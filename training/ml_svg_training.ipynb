{
 "cells": [
  {
   "cell_type": "code",
   "execution_count": 1,
   "metadata": {},
   "outputs": [],
   "source": [
    "import sys"
   ]
  },
  {
   "cell_type": "code",
   "execution_count": 2,
   "metadata": {},
   "outputs": [],
   "source": [
    "# Aggiungi al sys.path\n",
    "sys.path.append(\"../preprocessing\")"
   ]
  },
  {
   "cell_type": "code",
   "execution_count": 3,
   "metadata": {},
   "outputs": [],
   "source": [
    "import sampling as samp"
   ]
  },
  {
   "cell_type": "code",
   "execution_count": 4,
   "metadata": {},
   "outputs": [],
   "source": [
    "df = samp.sampling_csv(\"../timeseries/B101/Channel1.csv\", 4)"
   ]
  },
  {
   "cell_type": "code",
   "execution_count": 5,
   "metadata": {},
   "outputs": [
    {
     "data": {
      "text/html": [
       "<div>\n",
       "<style scoped>\n",
       "    .dataframe tbody tr th:only-of-type {\n",
       "        vertical-align: middle;\n",
       "    }\n",
       "\n",
       "    .dataframe tbody tr th {\n",
       "        vertical-align: top;\n",
       "    }\n",
       "\n",
       "    .dataframe thead th {\n",
       "        text-align: right;\n",
       "    }\n",
       "</style>\n",
       "<table border=\"1\" class=\"dataframe\">\n",
       "  <thead>\n",
       "    <tr style=\"text-align: right;\">\n",
       "      <th></th>\n",
       "      <th>singleData</th>\n",
       "    </tr>\n",
       "  </thead>\n",
       "  <tbody>\n",
       "    <tr>\n",
       "      <th>0</th>\n",
       "      <td>-21702628.0</td>\n",
       "    </tr>\n",
       "    <tr>\n",
       "      <th>4</th>\n",
       "      <td>17132264.0</td>\n",
       "    </tr>\n",
       "    <tr>\n",
       "      <th>8</th>\n",
       "      <td>28665146.0</td>\n",
       "    </tr>\n",
       "    <tr>\n",
       "      <th>12</th>\n",
       "      <td>36802184.0</td>\n",
       "    </tr>\n",
       "    <tr>\n",
       "      <th>16</th>\n",
       "      <td>47670068.0</td>\n",
       "    </tr>\n",
       "    <tr>\n",
       "      <th>...</th>\n",
       "      <td>...</td>\n",
       "    </tr>\n",
       "    <tr>\n",
       "      <th>12287980</th>\n",
       "      <td>48777768.0</td>\n",
       "    </tr>\n",
       "    <tr>\n",
       "      <th>12287984</th>\n",
       "      <td>-10236032.0</td>\n",
       "    </tr>\n",
       "    <tr>\n",
       "      <th>12287988</th>\n",
       "      <td>-16138004.0</td>\n",
       "    </tr>\n",
       "    <tr>\n",
       "      <th>12287992</th>\n",
       "      <td>-25018178.0</td>\n",
       "    </tr>\n",
       "    <tr>\n",
       "      <th>12287996</th>\n",
       "      <td>-7847381.5</td>\n",
       "    </tr>\n",
       "  </tbody>\n",
       "</table>\n",
       "<p>3072000 rows × 1 columns</p>\n",
       "</div>"
      ],
      "text/plain": [
       "          singleData\n",
       "0        -21702628.0\n",
       "4         17132264.0\n",
       "8         28665146.0\n",
       "12        36802184.0\n",
       "16        47670068.0\n",
       "...              ...\n",
       "12287980  48777768.0\n",
       "12287984 -10236032.0\n",
       "12287988 -16138004.0\n",
       "12287992 -25018178.0\n",
       "12287996  -7847381.5\n",
       "\n",
       "[3072000 rows x 1 columns]"
      ]
     },
     "execution_count": 5,
     "metadata": {},
     "output_type": "execute_result"
    }
   ],
   "source": [
    "df"
   ]
  },
  {
   "cell_type": "code",
   "execution_count": 6,
   "metadata": {},
   "outputs": [],
   "source": [
    "import numpy as np\n",
    "import pandas as pd\n",
    "import matplotlib.pyplot as plt\n",
    "from sklearn.svm import SVR\n",
    "from sklearn.preprocessing import StandardScaler\n",
    "from sklearn.model_selection import train_test_split\n",
    "from sklearn.metrics import mean_squared_error\n",
    "from sklearn.utils import parallel_backend\n",
    "from tqdm import tqdm"
   ]
  },
  {
   "cell_type": "code",
   "execution_count": 7,
   "metadata": {},
   "outputs": [
    {
     "name": "stdout",
     "output_type": "stream",
     "text": [
      "    singleData\n",
      "0  -21702628.0\n",
      "4   17132264.0\n",
      "8   28665146.0\n",
      "12  36802184.0\n",
      "16  47670068.0\n",
      "<class 'pandas.core.frame.DataFrame'>\n",
      "RangeIndex: 3072000 entries, 0 to 12287996\n",
      "Data columns (total 1 columns):\n",
      " #   Column      Dtype  \n",
      "---  ------      -----  \n",
      " 0   singleData  float64\n",
      "dtypes: float64(1)\n",
      "memory usage: 23.4 MB\n",
      "None\n",
      "         singleData\n",
      "count  3.072000e+06\n",
      "mean  -8.819765e+04\n",
      "std    4.077789e+07\n",
      "min   -3.156354e+08\n",
      "25%   -2.599870e+07\n",
      "50%   -1.116589e+06\n",
      "75%    2.460922e+07\n",
      "max    3.357127e+08\n"
     ]
    }
   ],
   "source": [
    "print(df.head())\n",
    "print(df.info())  # Controlliamo il tipo di dati e se ci sono NaN\n",
    "print(df.describe())  # Controlliamo media, deviazione standard, ecc."
   ]
  },
  {
   "cell_type": "code",
   "execution_count": 8,
   "metadata": {},
   "outputs": [],
   "source": [
    "df.reset_index(drop=True, inplace=True)"
   ]
  },
  {
   "cell_type": "code",
   "execution_count": 9,
   "metadata": {},
   "outputs": [
    {
     "data": {
      "text/html": [
       "<div>\n",
       "<style scoped>\n",
       "    .dataframe tbody tr th:only-of-type {\n",
       "        vertical-align: middle;\n",
       "    }\n",
       "\n",
       "    .dataframe tbody tr th {\n",
       "        vertical-align: top;\n",
       "    }\n",
       "\n",
       "    .dataframe thead th {\n",
       "        text-align: right;\n",
       "    }\n",
       "</style>\n",
       "<table border=\"1\" class=\"dataframe\">\n",
       "  <thead>\n",
       "    <tr style=\"text-align: right;\">\n",
       "      <th></th>\n",
       "      <th>singleData</th>\n",
       "    </tr>\n",
       "  </thead>\n",
       "  <tbody>\n",
       "    <tr>\n",
       "      <th>0</th>\n",
       "      <td>-21702628.0</td>\n",
       "    </tr>\n",
       "    <tr>\n",
       "      <th>1</th>\n",
       "      <td>17132264.0</td>\n",
       "    </tr>\n",
       "    <tr>\n",
       "      <th>2</th>\n",
       "      <td>28665146.0</td>\n",
       "    </tr>\n",
       "    <tr>\n",
       "      <th>3</th>\n",
       "      <td>36802184.0</td>\n",
       "    </tr>\n",
       "    <tr>\n",
       "      <th>4</th>\n",
       "      <td>47670068.0</td>\n",
       "    </tr>\n",
       "    <tr>\n",
       "      <th>...</th>\n",
       "      <td>...</td>\n",
       "    </tr>\n",
       "    <tr>\n",
       "      <th>3071995</th>\n",
       "      <td>48777768.0</td>\n",
       "    </tr>\n",
       "    <tr>\n",
       "      <th>3071996</th>\n",
       "      <td>-10236032.0</td>\n",
       "    </tr>\n",
       "    <tr>\n",
       "      <th>3071997</th>\n",
       "      <td>-16138004.0</td>\n",
       "    </tr>\n",
       "    <tr>\n",
       "      <th>3071998</th>\n",
       "      <td>-25018178.0</td>\n",
       "    </tr>\n",
       "    <tr>\n",
       "      <th>3071999</th>\n",
       "      <td>-7847381.5</td>\n",
       "    </tr>\n",
       "  </tbody>\n",
       "</table>\n",
       "<p>3072000 rows × 1 columns</p>\n",
       "</div>"
      ],
      "text/plain": [
       "         singleData\n",
       "0       -21702628.0\n",
       "1        17132264.0\n",
       "2        28665146.0\n",
       "3        36802184.0\n",
       "4        47670068.0\n",
       "...             ...\n",
       "3071995  48777768.0\n",
       "3071996 -10236032.0\n",
       "3071997 -16138004.0\n",
       "3071998 -25018178.0\n",
       "3071999  -7847381.5\n",
       "\n",
       "[3072000 rows x 1 columns]"
      ]
     },
     "execution_count": 9,
     "metadata": {},
     "output_type": "execute_result"
    }
   ],
   "source": [
    "df"
   ]
  },
  {
   "cell_type": "code",
   "execution_count": 10,
   "metadata": {},
   "outputs": [],
   "source": [
    "n_lags = 5  # Usiamo i 5 valori precedenti per prevedere il successivo\n",
    "\n",
    "# Creiamo le colonne con i lag\n",
    "for i in range(1, n_lags + 1):\n",
    "    df[f'lag_{i}'] = df['singleData'].shift(i)\n",
    "\n",
    "# Rimuoviamo le righe con valori NaN dovuti allo shift\n",
    "df.dropna(inplace=True)\n",
    "\n",
    "# Separiamo feature (X) e target (y)\n",
    "X = df.drop(columns=['singleData']).values\n",
    "y = df['singleData'].values"
   ]
  },
  {
   "cell_type": "code",
   "execution_count": 11,
   "metadata": {},
   "outputs": [],
   "source": [
    "scaler_X = StandardScaler()\n",
    "scaler_y = StandardScaler()\n",
    "\n",
    "X_scaled = scaler_X.fit_transform(X)\n",
    "y_scaled = scaler_y.fit_transform(y.reshape(-1, 1)).ravel() "
   ]
  },
  {
   "cell_type": "code",
   "execution_count": 12,
   "metadata": {},
   "outputs": [],
   "source": [
    "X_train, X_test, y_train, y_test = train_test_split(X_scaled, y_scaled, test_size=0.2, shuffle=False)\n"
   ]
  },
  {
   "cell_type": "code",
   "execution_count": null,
   "metadata": {},
   "outputs": [
    {
     "name": "stderr",
     "output_type": "stream",
     "text": [
      "/home/paolo/miniconda3/envs/myenv/lib/python3.13/site-packages/sklearn/utils/deprecation.py:71: FutureWarning: Class parallel_backend is deprecated; deprecated in 1.5 to be removed in 1.7. Use joblib.{} instead.\n",
      "  warnings.warn(msg, category=FutureWarning)\n",
      "Training Progress:   0%|          | 0/2457596 [00:00<?, ?it/s]"
     ]
    }
   ],
   "source": [
    "# Crea il modello\n",
    "model = SVR(kernel='rbf', C=100, epsilon=0.1)\n",
    "\n",
    "# Usa `parallel_backend` per approfittare di più core, se vuoi ottimizzare la velocità\n",
    "with parallel_backend('loky', n_jobs=-1):\n",
    "    # Creiamo un oggetto tqdm per la barra di avanzamento\n",
    "    progress_bar = tqdm(total=len(X_train), desc=\"Training Progress\", position=0, leave=True)\n",
    "    \n",
    "    # Addestriamo il modello, aggiornando la barra di avanzamento\n",
    "    model.fit(X_train, y_train)\n",
    "\n",
    "    # Aggiorniamo la barra a fine allenamento\n",
    "    progress_bar.update(len(X_train))\n",
    "    progress_bar.close()\n"
   ]
  },
  {
   "cell_type": "code",
   "execution_count": null,
   "metadata": {},
   "outputs": [],
   "source": [
    "y_pred_scaled = model.predict(X_test)\n",
    "\n",
    "# Invertiamo la trasformazione per riportare i dati alla scala originale\n",
    "y_pred = scaler_y.inverse_transform(y_pred_scaled.reshape(-1, 1)).ravel()\n",
    "y_test_original = scaler_y.inverse_transform(y_test.reshape(-1, 1)).ravel()\n",
    "\n",
    "# Calcoliamo l'errore\n",
    "mse = mean_squared_error(y_test_original, y_pred)\n",
    "print(f'MSE: {mse:.2f}')\n",
    "\n",
    "# Grafico delle previsioni vs dati reali\n",
    "plt.figure(figsize=(10,5))\n",
    "plt.plot(y_test_original[:500], label='Valori reali', linestyle='dashed')\n",
    "plt.plot(y_pred[:500], label='Predizioni SVR')\n",
    "plt.legend()\n",
    "plt.xlabel('Indice')\n",
    "plt.ylabel('Valore')\n",
    "plt.title('Confronto tra valori reali e predetti')\n",
    "plt.show()"
   ]
  },
  {
   "cell_type": "code",
   "execution_count": null,
   "metadata": {},
   "outputs": [],
   "source": []
  },
  {
   "cell_type": "code",
   "execution_count": null,
   "metadata": {},
   "outputs": [],
   "source": []
  }
 ],
 "metadata": {
  "kernelspec": {
   "display_name": "myenv",
   "language": "python",
   "name": "python3"
  },
  "language_info": {
   "codemirror_mode": {
    "name": "ipython",
    "version": 3
   },
   "file_extension": ".py",
   "mimetype": "text/x-python",
   "name": "python",
   "nbconvert_exporter": "python",
   "pygments_lexer": "ipython3",
   "version": "3.13.2"
  }
 },
 "nbformat": 4,
 "nbformat_minor": 2
}
