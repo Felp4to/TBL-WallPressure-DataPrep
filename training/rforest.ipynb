{
 "cells": [
  {
   "cell_type": "code",
   "execution_count": 1,
   "metadata": {},
   "outputs": [],
   "source": [
    "import os\n",
    "import sys\n",
    "import pandas as pd"
   ]
  },
  {
   "cell_type": "code",
   "execution_count": 2,
   "metadata": {},
   "outputs": [
    {
     "name": "stdout",
     "output_type": "stream",
     "text": [
      "Hai inserito la partizione:  p_200_5\n",
      "Hai inserito la cartella:  rforest_p_200_5\n"
     ]
    }
   ],
   "source": [
    "partition = input(\"Inserisci la partizione che vuoi utilizzare\")\n",
    "print(\"Hai inserito la partizione: \", partition)\n",
    "partition = os.path.join(\"../partitioning/npy\", partition)\n",
    "\n",
    "foldername = input(\"Inserisci il nome della cartella dove salvare i risultati\")\n",
    "print(\"Hai inserito la cartella: \", foldername)"
   ]
  },
  {
   "cell_type": "code",
   "execution_count": 3,
   "metadata": {},
   "outputs": [
    {
     "name": "stderr",
     "output_type": "stream",
     "text": [
      "2025-03-12 16:46:01.504408: W tensorflow/stream_executor/platform/default/dso_loader.cc:64] Could not load dynamic library 'libcudart.so.11.0'; dlerror: libcudart.so.11.0: cannot open shared object file: No such file or directory; LD_LIBRARY_PATH: /usr/local/cuda-X.Y/lib64\n",
      "2025-03-12 16:46:01.504427: I tensorflow/stream_executor/cuda/cudart_stub.cc:29] Ignore above cudart dlerror if you do not have a GPU set up on your machine.\n"
     ]
    },
    {
     "name": "stdout",
     "output_type": "stream",
     "text": [
      "GPU disponibile: []\n"
     ]
    },
    {
     "name": "stderr",
     "output_type": "stream",
     "text": [
      "2025-03-12 16:46:06.088278: E tensorflow/stream_executor/cuda/cuda_driver.cc:271] failed call to cuInit: CUDA_ERROR_NO_DEVICE: no CUDA-capable device is detected\n",
      "2025-03-12 16:46:06.088322: I tensorflow/stream_executor/cuda/cuda_diagnostics.cc:156] kernel driver does not appear to be running on this host (paolo-Katana-15-B13VFK): /proc/driver/nvidia/version does not exist\n"
     ]
    }
   ],
   "source": [
    "import tensorflow as tf\n",
    "print(\"GPU disponibile:\", tf.config.list_physical_devices('GPU'))"
   ]
  },
  {
   "cell_type": "code",
   "execution_count": 4,
   "metadata": {},
   "outputs": [],
   "source": [
    "sys.path.append(\"../models\")"
   ]
  },
  {
   "cell_type": "code",
   "execution_count": 5,
   "metadata": {},
   "outputs": [],
   "source": [
    "from rforest_model import RandomForestModel"
   ]
  },
  {
   "cell_type": "code",
   "execution_count": 6,
   "metadata": {},
   "outputs": [],
   "source": [
    "def load_partitions(root_path):\n",
    "    file_names = [\"X_train.csv\", \"X_test.csv\", \"X_val.csv\", \"y_train.csv\", \"y_test.csv\", \"y_val.csv\"]\n",
    "    datasets = [pd.read_csv(os.path.join(root_path, file)).values for file in file_names]\n",
    "    return tuple(datasets)"
   ]
  },
  {
   "cell_type": "code",
   "execution_count": 7,
   "metadata": {},
   "outputs": [
    {
     "name": "stdout",
     "output_type": "stream",
     "text": [
      "X_train shape: (895, 200), y_train shape: (895, 1)\n",
      "X_test shape: (192, 200), y_test shape: (192, 1)\n",
      "X_val shape: (191, 200), y_val shape: (191, 1)\n"
     ]
    }
   ],
   "source": [
    "# load data\n",
    "X_train, X_test, X_val, y_train, y_test, y_val = load_partitions(partition)\n",
    "\n",
    "# show partitions dimention\n",
    "print(f\"X_train shape: {X_train.shape}, y_train shape: {y_train.shape}\")\n",
    "print(f\"X_test shape: {X_test.shape}, y_test shape: {y_test.shape}\")\n",
    "print(f\"X_val shape: {X_val.shape}, y_val shape: {y_val.shape}\")"
   ]
  },
  {
   "cell_type": "code",
   "execution_count": 8,
   "metadata": {},
   "outputs": [
    {
     "name": "stdout",
     "output_type": "stream",
     "text": [
      "Parametri del modello salvati in ./tests/rforest_p_200_5/model_params.json\n",
      "Modello salvato in ./tests/rforest_p_200_5/random_forest_model.pkl\n"
     ]
    }
   ],
   "source": [
    "# initialize model\n",
    "rforest_model = RandomForestModel(foldername)"
   ]
  },
  {
   "cell_type": "code",
   "execution_count": 9,
   "metadata": {},
   "outputs": [
    {
     "name": "stdout",
     "output_type": "stream",
     "text": [
      "Andamento dell'errore salvato in ./tests/rforest_p_200_5/training_errors.csv\n",
      "Tempo totale di addestramento salvato in ./tests/rforest_p_200_5/training_time.txt\n",
      "Grafico dell'andamento dell'errore di validazione salvato in ./tests/rforest_p_200_5/training_curve.png\n",
      "Modello salvato in ./tests/rforest_p_200_5/random_forest_model.pkl\n"
     ]
    }
   ],
   "source": [
    "# training\n",
    "rforest_model.train(X_train, y_train, X_val, y_val)"
   ]
  },
  {
   "cell_type": "code",
   "execution_count": 10,
   "metadata": {},
   "outputs": [
    {
     "name": "stdout",
     "output_type": "stream",
     "text": [
      "Metriche salvate in ./tests/rforest_p_200_5/evaluation_metrics_test_set.csv\n"
     ]
    },
    {
     "data": {
      "text/plain": [
       "{'MSE': 0.008995266390814228,\n",
       " 'RMSE': 0.09484337821278947,\n",
       " 'MAE': 0.07349370401899868,\n",
       " 'R2': 0.4007031712226701}"
      ]
     },
     "execution_count": 10,
     "metadata": {},
     "output_type": "execute_result"
    }
   ],
   "source": [
    "rforest_model.evaluate(X_test, y_test)"
   ]
  },
  {
   "cell_type": "code",
   "execution_count": 11,
   "metadata": {},
   "outputs": [
    {
     "name": "stdout",
     "output_type": "stream",
     "text": [
      "Modello salvato in ./tests/rforest_p_200_5/random_forest_model.pkl\n"
     ]
    }
   ],
   "source": [
    "rforest_model.save_model()"
   ]
  },
  {
   "cell_type": "code",
   "execution_count": 12,
   "metadata": {},
   "outputs": [],
   "source": [
    "y_pred = rforest_model.predict(X_test)"
   ]
  },
  {
   "cell_type": "code",
   "execution_count": 13,
   "metadata": {},
   "outputs": [
    {
     "name": "stdout",
     "output_type": "stream",
     "text": [
      "Confronto predizioni salvato in ./tests/rforest_p_200_5/predictions_comparison.csv\n"
     ]
    },
    {
     "data": {
      "text/html": [
       "<div>\n",
       "<style scoped>\n",
       "    .dataframe tbody tr th:only-of-type {\n",
       "        vertical-align: middle;\n",
       "    }\n",
       "\n",
       "    .dataframe tbody tr th {\n",
       "        vertical-align: top;\n",
       "    }\n",
       "\n",
       "    .dataframe thead th {\n",
       "        text-align: right;\n",
       "    }\n",
       "</style>\n",
       "<table border=\"1\" class=\"dataframe\">\n",
       "  <thead>\n",
       "    <tr style=\"text-align: right;\">\n",
       "      <th></th>\n",
       "      <th>Valore Reale</th>\n",
       "      <th>Predizione</th>\n",
       "    </tr>\n",
       "  </thead>\n",
       "  <tbody>\n",
       "    <tr>\n",
       "      <th>0</th>\n",
       "      <td>-0.094956</td>\n",
       "      <td>-0.054696</td>\n",
       "    </tr>\n",
       "    <tr>\n",
       "      <th>1</th>\n",
       "      <td>0.069274</td>\n",
       "      <td>0.046314</td>\n",
       "    </tr>\n",
       "    <tr>\n",
       "      <th>2</th>\n",
       "      <td>-0.230999</td>\n",
       "      <td>-0.115076</td>\n",
       "    </tr>\n",
       "    <tr>\n",
       "      <th>3</th>\n",
       "      <td>0.005883</td>\n",
       "      <td>0.021680</td>\n",
       "    </tr>\n",
       "    <tr>\n",
       "      <th>4</th>\n",
       "      <td>0.067773</td>\n",
       "      <td>0.041535</td>\n",
       "    </tr>\n",
       "    <tr>\n",
       "      <th>...</th>\n",
       "      <td>...</td>\n",
       "      <td>...</td>\n",
       "    </tr>\n",
       "    <tr>\n",
       "      <th>187</th>\n",
       "      <td>0.018727</td>\n",
       "      <td>-0.076919</td>\n",
       "    </tr>\n",
       "    <tr>\n",
       "      <th>188</th>\n",
       "      <td>-0.111878</td>\n",
       "      <td>0.048782</td>\n",
       "    </tr>\n",
       "    <tr>\n",
       "      <th>189</th>\n",
       "      <td>0.021631</td>\n",
       "      <td>0.135685</td>\n",
       "    </tr>\n",
       "    <tr>\n",
       "      <th>190</th>\n",
       "      <td>0.100636</td>\n",
       "      <td>-0.026998</td>\n",
       "    </tr>\n",
       "    <tr>\n",
       "      <th>191</th>\n",
       "      <td>0.155538</td>\n",
       "      <td>-0.017454</td>\n",
       "    </tr>\n",
       "  </tbody>\n",
       "</table>\n",
       "<p>192 rows × 2 columns</p>\n",
       "</div>"
      ],
      "text/plain": [
       "     Valore Reale  Predizione\n",
       "0       -0.094956   -0.054696\n",
       "1        0.069274    0.046314\n",
       "2       -0.230999   -0.115076\n",
       "3        0.005883    0.021680\n",
       "4        0.067773    0.041535\n",
       "..            ...         ...\n",
       "187      0.018727   -0.076919\n",
       "188     -0.111878    0.048782\n",
       "189      0.021631    0.135685\n",
       "190      0.100636   -0.026998\n",
       "191      0.155538   -0.017454\n",
       "\n",
       "[192 rows x 2 columns]"
      ]
     },
     "execution_count": 13,
     "metadata": {},
     "output_type": "execute_result"
    }
   ],
   "source": [
    "rforest_model.compare_predictions(y_test, y_pred)"
   ]
  },
  {
   "cell_type": "code",
   "execution_count": 14,
   "metadata": {},
   "outputs": [
    {
     "name": "stdout",
     "output_type": "stream",
     "text": [
      "Grafico salvato in ./tests/rforest_p_200_5/predictions_plot_1.png\n",
      "Grafico salvato in ./tests/rforest_p_200_5/predictions_plot_tot.png\n"
     ]
    }
   ],
   "source": [
    "rforest_model.plot_predictions(y_test, y_pred, 50)"
   ]
  }
 ],
 "metadata": {
  "kernelspec": {
   "display_name": "myenv-tf",
   "language": "python",
   "name": "python3"
  },
  "language_info": {
   "codemirror_mode": {
    "name": "ipython",
    "version": 3
   },
   "file_extension": ".py",
   "mimetype": "text/x-python",
   "name": "python",
   "nbconvert_exporter": "python",
   "pygments_lexer": "ipython3",
   "version": "3.10.16"
  }
 },
 "nbformat": 4,
 "nbformat_minor": 2
}
