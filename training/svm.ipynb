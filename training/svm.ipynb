{
 "cells": [
  {
   "cell_type": "code",
   "execution_count": 1,
   "metadata": {},
   "outputs": [],
   "source": [
    "import os\n",
    "import sys\n",
    "import pandas as pd"
   ]
  },
  {
   "cell_type": "code",
   "execution_count": 2,
   "metadata": {},
   "outputs": [
    {
     "name": "stdout",
     "output_type": "stream",
     "text": [
      "Hai inserito la partizione:  p_200_10\n",
      "Hai inserito la cartella:  svm_p_200_10\n"
     ]
    }
   ],
   "source": [
    "partition = input(\"Inserisci la partizione che vuoi utilizzare\")\n",
    "print(\"Hai inserito la partizione: \", partition)\n",
    "partition = os.path.join(\"../partitioning/npy\", partition)\n",
    "\n",
    "foldername = input(\"Inserisci il nome della cartella dove salvare i risultati\")\n",
    "print(\"Hai inserito la cartella: \", foldername)"
   ]
  },
  {
   "cell_type": "code",
   "execution_count": 3,
   "metadata": {},
   "outputs": [
    {
     "name": "stderr",
     "output_type": "stream",
     "text": [
      "2025-03-11 22:57:41.969580: W tensorflow/stream_executor/platform/default/dso_loader.cc:64] Could not load dynamic library 'libcudart.so.11.0'; dlerror: libcudart.so.11.0: cannot open shared object file: No such file or directory; LD_LIBRARY_PATH: /usr/local/cuda-X.Y/lib64\n",
      "2025-03-11 22:57:41.969597: I tensorflow/stream_executor/cuda/cudart_stub.cc:29] Ignore above cudart dlerror if you do not have a GPU set up on your machine.\n"
     ]
    },
    {
     "name": "stdout",
     "output_type": "stream",
     "text": [
      "GPU disponibile: []\n"
     ]
    },
    {
     "name": "stderr",
     "output_type": "stream",
     "text": [
      "2025-03-11 22:57:46.534919: E tensorflow/stream_executor/cuda/cuda_driver.cc:271] failed call to cuInit: CUDA_ERROR_NO_DEVICE: no CUDA-capable device is detected\n",
      "2025-03-11 22:57:46.534960: I tensorflow/stream_executor/cuda/cuda_diagnostics.cc:156] kernel driver does not appear to be running on this host (paolo-Katana-15-B13VFK): /proc/driver/nvidia/version does not exist\n"
     ]
    }
   ],
   "source": [
    "import tensorflow as tf\n",
    "print(\"GPU disponibile:\", tf.config.list_physical_devices('GPU'))"
   ]
  },
  {
   "cell_type": "code",
   "execution_count": 4,
   "metadata": {},
   "outputs": [],
   "source": [
    "sys.path.append(\"../models\")"
   ]
  },
  {
   "cell_type": "code",
   "execution_count": 5,
   "metadata": {},
   "outputs": [],
   "source": [
    "from svm_model import SVMModel"
   ]
  },
  {
   "cell_type": "code",
   "execution_count": 6,
   "metadata": {},
   "outputs": [],
   "source": [
    "def load_partitions(root_path):\n",
    "    file_names = [\"X_train.csv\", \"X_test.csv\", \"X_val.csv\", \"y_train.csv\", \"y_test.csv\", \"y_val.csv\"]\n",
    "    datasets = [pd.read_csv(os.path.join(root_path, file)).values for file in file_names]\n",
    "    return tuple(datasets)"
   ]
  },
  {
   "cell_type": "code",
   "execution_count": 7,
   "metadata": {},
   "outputs": [
    {
     "name": "stdout",
     "output_type": "stream",
     "text": [
      "X_train shape: (1791, 200), y_train shape: (1791, 1)\n",
      "X_test shape: (384, 200), y_test shape: (384, 1)\n",
      "X_val shape: (383, 200), y_val shape: (383, 1)\n"
     ]
    }
   ],
   "source": [
    "# load data\n",
    "X_train, X_test, X_val, y_train, y_test, y_val = load_partitions(partition)\n",
    "\n",
    "# show partitions dimention\n",
    "print(f\"X_train shape: {X_train.shape}, y_train shape: {y_train.shape}\")\n",
    "print(f\"X_test shape: {X_test.shape}, y_test shape: {y_test.shape}\")\n",
    "print(f\"X_val shape: {X_val.shape}, y_val shape: {y_val.shape}\")"
   ]
  },
  {
   "cell_type": "code",
   "execution_count": 8,
   "metadata": {},
   "outputs": [
    {
     "name": "stdout",
     "output_type": "stream",
     "text": [
      "Parametri del modello salvati in ./tests/svm_p_200_10/model_params.json\n",
      "Modello salvato in ./tests/svm_p_200_10/svm_model.pkl\n"
     ]
    }
   ],
   "source": [
    "# initialize model\n",
    "svm_model = SVMModel(foldername)"
   ]
  },
  {
   "cell_type": "code",
   "execution_count": 9,
   "metadata": {},
   "outputs": [
    {
     "name": "stdout",
     "output_type": "stream",
     "text": [
      "Andamento dell'errore salvato in ./tests/svm_p_200_10/training_errors.csv\n",
      "Tempo totale di addestramento salvato in ./tests/svm_p_200_10/training_time.txt\n",
      "Grafico dell'andamento dell'errore di validazione salvato in ./tests/svm_p_200_10/training_curve.png\n",
      "Modello salvato in ./tests/svm_p_200_10/svm_model.pkl\n"
     ]
    }
   ],
   "source": [
    "# training\n",
    "svm_model.train(X_train, y_train, X_val, y_val)"
   ]
  },
  {
   "cell_type": "code",
   "execution_count": 10,
   "metadata": {},
   "outputs": [
    {
     "name": "stdout",
     "output_type": "stream",
     "text": [
      "Metriche salvate in ./tests/svm_p_200_10/evaluation_metrics_test_set.csv\n"
     ]
    },
    {
     "data": {
      "text/plain": [
       "{'MSE': 0.008188829461402663,\n",
       " 'RMSE': 0.0904921513801206,\n",
       " 'MAE': 0.0714258667341791,\n",
       " 'R2': 0.4030547025546637}"
      ]
     },
     "execution_count": 10,
     "metadata": {},
     "output_type": "execute_result"
    }
   ],
   "source": [
    "svm_model.evaluate(X_test, y_test)"
   ]
  },
  {
   "cell_type": "code",
   "execution_count": 11,
   "metadata": {},
   "outputs": [
    {
     "name": "stdout",
     "output_type": "stream",
     "text": [
      "Modello salvato in ./tests/svm_p_200_10/svm_model.pkl\n"
     ]
    }
   ],
   "source": [
    "svm_model.save_model()"
   ]
  },
  {
   "cell_type": "code",
   "execution_count": 12,
   "metadata": {},
   "outputs": [],
   "source": [
    "y_pred = svm_model.predict(X_test)"
   ]
  },
  {
   "cell_type": "code",
   "execution_count": 13,
   "metadata": {},
   "outputs": [
    {
     "name": "stdout",
     "output_type": "stream",
     "text": [
      "Confronto predizioni salvato in ./tests/svm_p_200_10/predictions_comparison.csv\n"
     ]
    },
    {
     "data": {
      "text/html": [
       "<div>\n",
       "<style scoped>\n",
       "    .dataframe tbody tr th:only-of-type {\n",
       "        vertical-align: middle;\n",
       "    }\n",
       "\n",
       "    .dataframe tbody tr th {\n",
       "        vertical-align: top;\n",
       "    }\n",
       "\n",
       "    .dataframe thead th {\n",
       "        text-align: right;\n",
       "    }\n",
       "</style>\n",
       "<table border=\"1\" class=\"dataframe\">\n",
       "  <thead>\n",
       "    <tr style=\"text-align: right;\">\n",
       "      <th></th>\n",
       "      <th>Valore Reale</th>\n",
       "      <th>Predizione</th>\n",
       "    </tr>\n",
       "  </thead>\n",
       "  <tbody>\n",
       "    <tr>\n",
       "      <th>0</th>\n",
       "      <td>-0.048412</td>\n",
       "      <td>-0.063608</td>\n",
       "    </tr>\n",
       "    <tr>\n",
       "      <th>1</th>\n",
       "      <td>0.026048</td>\n",
       "      <td>-0.024612</td>\n",
       "    </tr>\n",
       "    <tr>\n",
       "      <th>2</th>\n",
       "      <td>-0.010717</td>\n",
       "      <td>-0.141323</td>\n",
       "    </tr>\n",
       "    <tr>\n",
       "      <th>3</th>\n",
       "      <td>-0.043663</td>\n",
       "      <td>-0.041983</td>\n",
       "    </tr>\n",
       "    <tr>\n",
       "      <th>4</th>\n",
       "      <td>0.069371</td>\n",
       "      <td>0.046460</td>\n",
       "    </tr>\n",
       "    <tr>\n",
       "      <th>...</th>\n",
       "      <td>...</td>\n",
       "      <td>...</td>\n",
       "    </tr>\n",
       "    <tr>\n",
       "      <th>379</th>\n",
       "      <td>0.034732</td>\n",
       "      <td>-0.003134</td>\n",
       "    </tr>\n",
       "    <tr>\n",
       "      <th>380</th>\n",
       "      <td>0.148835</td>\n",
       "      <td>0.002469</td>\n",
       "    </tr>\n",
       "    <tr>\n",
       "      <th>381</th>\n",
       "      <td>0.009930</td>\n",
       "      <td>0.018039</td>\n",
       "    </tr>\n",
       "    <tr>\n",
       "      <th>382</th>\n",
       "      <td>0.009931</td>\n",
       "      <td>-0.038443</td>\n",
       "    </tr>\n",
       "    <tr>\n",
       "      <th>383</th>\n",
       "      <td>-0.012731</td>\n",
       "      <td>-0.036230</td>\n",
       "    </tr>\n",
       "  </tbody>\n",
       "</table>\n",
       "<p>384 rows × 2 columns</p>\n",
       "</div>"
      ],
      "text/plain": [
       "     Valore Reale  Predizione\n",
       "0       -0.048412   -0.063608\n",
       "1        0.026048   -0.024612\n",
       "2       -0.010717   -0.141323\n",
       "3       -0.043663   -0.041983\n",
       "4        0.069371    0.046460\n",
       "..            ...         ...\n",
       "379      0.034732   -0.003134\n",
       "380      0.148835    0.002469\n",
       "381      0.009930    0.018039\n",
       "382      0.009931   -0.038443\n",
       "383     -0.012731   -0.036230\n",
       "\n",
       "[384 rows x 2 columns]"
      ]
     },
     "execution_count": 13,
     "metadata": {},
     "output_type": "execute_result"
    }
   ],
   "source": [
    "svm_model.compare_predictions(y_test, y_pred)"
   ]
  },
  {
   "cell_type": "code",
   "execution_count": 14,
   "metadata": {},
   "outputs": [
    {
     "name": "stdout",
     "output_type": "stream",
     "text": [
      "Grafico salvato in ./tests/svm_p_200_10/predictions_plot_1.png\n",
      "Grafico salvato in ./tests/svm_p_200_10/predictions_plot_2.png\n",
      "Grafico salvato in ./tests/svm_p_200_10/predictions_plot_tot.png\n"
     ]
    }
   ],
   "source": [
    "svm_model.plot_predictions(y_test, y_pred, 50)"
   ]
  }
 ],
 "metadata": {
  "kernelspec": {
   "display_name": "myenv-tf",
   "language": "python",
   "name": "python3"
  },
  "language_info": {
   "codemirror_mode": {
    "name": "ipython",
    "version": 3
   },
   "file_extension": ".py",
   "mimetype": "text/x-python",
   "name": "python",
   "nbconvert_exporter": "python",
   "pygments_lexer": "ipython3",
   "version": "3.10.16"
  }
 },
 "nbformat": 4,
 "nbformat_minor": 2
}
