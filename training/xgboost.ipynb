{
 "cells": [
  {
   "cell_type": "code",
   "execution_count": 1,
   "metadata": {},
   "outputs": [],
   "source": [
    "import sys"
   ]
  },
  {
   "cell_type": "code",
   "execution_count": 2,
   "metadata": {},
   "outputs": [
    {
     "name": "stderr",
     "output_type": "stream",
     "text": [
      "2025-03-07 21:27:35.067192: W tensorflow/stream_executor/platform/default/dso_loader.cc:64] Could not load dynamic library 'libcudart.so.11.0'; dlerror: libcudart.so.11.0: cannot open shared object file: No such file or directory\n",
      "2025-03-07 21:27:35.067217: I tensorflow/stream_executor/cuda/cudart_stub.cc:29] Ignore above cudart dlerror if you do not have a GPU set up on your machine.\n"
     ]
    },
    {
     "name": "stdout",
     "output_type": "stream",
     "text": [
      "GPU disponibile: []\n"
     ]
    },
    {
     "name": "stderr",
     "output_type": "stream",
     "text": [
      "2025-03-07 21:27:36.805493: I tensorflow/stream_executor/cuda/cuda_gpu_executor.cc:936] successful NUMA node read from SysFS had negative value (-1), but there must be at least one NUMA node, so returning NUMA node zero\n",
      "2025-03-07 21:27:36.808120: W tensorflow/stream_executor/platform/default/dso_loader.cc:64] Could not load dynamic library 'libcudart.so.11.0'; dlerror: libcudart.so.11.0: cannot open shared object file: No such file or directory\n",
      "2025-03-07 21:27:36.808172: W tensorflow/stream_executor/platform/default/dso_loader.cc:64] Could not load dynamic library 'libcublas.so.11'; dlerror: libcublas.so.11: cannot open shared object file: No such file or directory\n",
      "2025-03-07 21:27:36.808213: W tensorflow/stream_executor/platform/default/dso_loader.cc:64] Could not load dynamic library 'libcublasLt.so.11'; dlerror: libcublasLt.so.11: cannot open shared object file: No such file or directory\n",
      "2025-03-07 21:27:36.808250: W tensorflow/stream_executor/platform/default/dso_loader.cc:64] Could not load dynamic library 'libcufft.so.10'; dlerror: libcufft.so.10: cannot open shared object file: No such file or directory\n",
      "2025-03-07 21:27:36.843499: W tensorflow/stream_executor/platform/default/dso_loader.cc:64] Could not load dynamic library 'libcusparse.so.11'; dlerror: libcusparse.so.11: cannot open shared object file: No such file or directory\n",
      "2025-03-07 21:27:36.843578: W tensorflow/stream_executor/platform/default/dso_loader.cc:64] Could not load dynamic library 'libcudnn.so.8'; dlerror: libcudnn.so.8: cannot open shared object file: No such file or directory\n",
      "2025-03-07 21:27:36.843588: W tensorflow/core/common_runtime/gpu/gpu_device.cc:1850] Cannot dlopen some GPU libraries. Please make sure the missing libraries mentioned above are installed properly if you would like to use GPU. Follow the guide at https://www.tensorflow.org/install/gpu for how to download and setup the required libraries for your platform.\n",
      "Skipping registering GPU devices...\n"
     ]
    }
   ],
   "source": [
    "import tensorflow as tf\n",
    "print(\"GPU disponibile:\", tf.config.list_physical_devices('GPU'))"
   ]
  },
  {
   "cell_type": "code",
   "execution_count": 3,
   "metadata": {},
   "outputs": [],
   "source": [
    "sys.path.append(\"../preprocessing\")"
   ]
  },
  {
   "cell_type": "code",
   "execution_count": 4,
   "metadata": {},
   "outputs": [],
   "source": [
    "import sampling as samp\n",
    "import normalizzation as norm"
   ]
  },
  {
   "cell_type": "code",
   "execution_count": 5,
   "metadata": {},
   "outputs": [],
   "source": [
    "sys.path.append(\"../models\")"
   ]
  },
  {
   "cell_type": "code",
   "execution_count": 6,
   "metadata": {},
   "outputs": [],
   "source": [
    "from lstm_model import LSTMModel"
   ]
  },
  {
   "cell_type": "code",
   "execution_count": 7,
   "metadata": {},
   "outputs": [
    {
     "name": "stdout",
     "output_type": "stream",
     "text": [
      "X_train shape: (3583, 50), y_train shape: (3583, 1)\n",
      "X_test shape: (768, 50), y_test shape: (768, 1)\n",
      "X_val shape: (767, 50), y_val shape: (767, 1)\n"
     ]
    }
   ],
   "source": [
    "import pandas as pd\n",
    "import numpy as np\n",
    "\n",
    "# Caricamento dei dati da CSV\n",
    "X_train = pd.read_csv(\"../partitioning/npy/partitions_1/X_train.csv\").values  \n",
    "X_test = pd.read_csv(\"../partitioning/npy/partitions_1/X_test.csv\").values\n",
    "X_val = pd.read_csv(\"../partitioning/npy/partitions_1/X_val.csv\").values\n",
    "\n",
    "y_train = pd.read_csv(\"../partitioning/npy/partitions_1/y_train.csv\").values\n",
    "y_test = pd.read_csv(\"../partitioning/npy/partitions_1/y_test.csv\").values\n",
    "y_val = pd.read_csv(\"../partitioning/npy/partitions_1/y_val.csv\").values\n",
    "\n",
    "# (Facoltativo) Verificare le dimensioni dei dati\n",
    "print(f\"X_train shape: {X_train.shape}, y_train shape: {y_train.shape}\")\n",
    "print(f\"X_test shape: {X_test.shape}, y_test shape: {y_test.shape}\")\n",
    "print(f\"X_val shape: {X_val.shape}, y_val shape: {y_val.shape}\")\n"
   ]
  },
  {
   "cell_type": "code",
   "execution_count": 8,
   "metadata": {},
   "outputs": [
    {
     "name": "stderr",
     "output_type": "stream",
     "text": [
      "2025-03-07 21:27:36.972781: I tensorflow/core/platform/cpu_feature_guard.cc:151] This TensorFlow binary is optimized with oneAPI Deep Neural Network Library (oneDNN) to use the following CPU instructions in performance-critical operations:  AVX2 FMA\n",
      "To enable them in other operations, rebuild TensorFlow with the appropriate compiler flags.\n"
     ]
    },
    {
     "name": "stdout",
     "output_type": "stream",
     "text": [
      "Model: \"sequential\"\n",
      "_________________________________________________________________\n",
      " Layer (type)                Output Shape              Param #   \n",
      "=================================================================\n",
      " lstm (LSTM)                 (None, 50, 50)            10400     \n",
      "                                                                 \n",
      " dropout (Dropout)           (None, 50, 50)            0         \n",
      "                                                                 \n",
      " lstm_1 (LSTM)               (None, 50)                20200     \n",
      "                                                                 \n",
      " dropout_1 (Dropout)         (None, 50)                0         \n",
      "                                                                 \n",
      " dense (Dense)               (None, 1)                 51        \n",
      "                                                                 \n",
      "=================================================================\n",
      "Total params: 30,651\n",
      "Trainable params: 30,651\n",
      "Non-trainable params: 0\n",
      "_________________________________________________________________\n",
      "Epoch 1/5\n",
      "112/112 [==============================] - 27s 215ms/step - loss: 0.8575 - mae: 0.7101 - root_mean_squared_error: 0.9183 - val_loss: 0.6468 - val_mae: 0.6093 - val_root_mean_squared_error: 0.7935\n",
      "Epoch 2/5\n",
      "112/112 [==============================] - 22s 196ms/step - loss: 0.5249 - mae: 0.5597 - root_mean_squared_error: 0.7141 - val_loss: 0.4470 - val_mae: 0.5120 - val_root_mean_squared_error: 0.6631\n",
      "Epoch 3/5\n",
      "112/112 [==============================] - 23s 204ms/step - loss: 0.4658 - mae: 0.5203 - root_mean_squared_error: 0.6746 - val_loss: 0.4190 - val_mae: 0.4944 - val_root_mean_squared_error: 0.6421\n",
      "Epoch 4/5\n",
      "112/112 [==============================] - 21s 191ms/step - loss: 0.4518 - mae: 0.5113 - root_mean_squared_error: 0.6636 - val_loss: 0.4105 - val_mae: 0.4906 - val_root_mean_squared_error: 0.6355\n",
      "Epoch 5/5\n",
      "112/112 [==============================] - 19s 168ms/step - loss: 0.4457 - mae: 0.5054 - root_mean_squared_error: 0.6611 - val_loss: 0.4109 - val_mae: 0.4945 - val_root_mean_squared_error: 0.6363\n"
     ]
    }
   ],
   "source": [
    "# Esempio di input_shape per dati sequenziali: (timesteps=100, features=10)\n",
    "input_shape = (50, 1)\n",
    "lstm_model = LSTMModel(input_shape)\n",
    "\n",
    "# Mostra la struttura del modello\n",
    "lstm_model.summary()\n",
    "\n",
    "# Addestramento del modello\n",
    "lstm_model.train(X_train, y_train, epochs=5, batch_size=32, validation_data = (X_val, y_val))\n",
    "\n",
    "lstm_model.save_model(\"mio_modello_lstm.h5\")\n",
    "lstm_model.load_model(\"mio_modello_lstm.h5\")"
   ]
  }
 ],
 "metadata": {
  "kernelspec": {
   "display_name": "myenv-tf",
   "language": "python",
   "name": "python3"
  },
  "language_info": {
   "codemirror_mode": {
    "name": "ipython",
    "version": 3
   },
   "file_extension": ".py",
   "mimetype": "text/x-python",
   "name": "python",
   "nbconvert_exporter": "python",
   "pygments_lexer": "ipython3",
   "version": "3.10.16"
  }
 },
 "nbformat": 4,
 "nbformat_minor": 2
}
