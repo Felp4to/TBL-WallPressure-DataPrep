{
 "cells": [
  {
   "cell_type": "code",
   "execution_count": 1,
   "metadata": {},
   "outputs": [],
   "source": [
    "import os\n",
    "import sys\n",
    "import pandas as pd"
   ]
  },
  {
   "cell_type": "code",
   "execution_count": 2,
   "metadata": {},
   "outputs": [
    {
     "name": "stdout",
     "output_type": "stream",
     "text": [
      "Hai inserito la partizione:  test_t_t_5\n",
      "Hai inserito la cartella:  test_5\n",
      "time/training_xgboost/test_5\n"
     ]
    }
   ],
   "source": [
    "partition = input(\"Inserisci la partizione che vuoi utilizzare\")\n",
    "domain = \"time\"\n",
    "#domain = \"fourier_fourier\"\n",
    "#domain = \"fourier_t\"\n",
    "#domain = \"wavelet_t\"\n",
    "#domain = \"wavelet_wv\"\n",
    "\n",
    "print(\"Hai inserito la partizione: \", partition)\n",
    "#partition = os.path.join(\"../partitioning/npy\", partition)\n",
    "\n",
    "foldername = input(\"Inserisci il nome della cartella dove salvare i risultati\")\n",
    "print(\"Hai inserito la cartella: \", foldername)\n",
    "foldername = os.path.join(domain, \"training_xgboost\", foldername)\n",
    "print(foldername)"
   ]
  },
  {
   "cell_type": "code",
   "execution_count": 3,
   "metadata": {},
   "outputs": [
    {
     "name": "stderr",
     "output_type": "stream",
     "text": [
      "2025-04-02 12:13:37.855903: W tensorflow/stream_executor/platform/default/dso_loader.cc:64] Could not load dynamic library 'libcudart.so.11.0'; dlerror: libcudart.so.11.0: cannot open shared object file: No such file or directory; LD_LIBRARY_PATH: /usr/local/cuda-X.Y/lib64\n",
      "2025-04-02 12:13:37.855926: I tensorflow/stream_executor/cuda/cudart_stub.cc:29] Ignore above cudart dlerror if you do not have a GPU set up on your machine.\n"
     ]
    },
    {
     "name": "stdout",
     "output_type": "stream",
     "text": [
      "GPU disponibile: []\n"
     ]
    },
    {
     "name": "stderr",
     "output_type": "stream",
     "text": [
      "2025-04-02 12:13:45.938913: E tensorflow/stream_executor/cuda/cuda_driver.cc:271] failed call to cuInit: CUDA_ERROR_NO_DEVICE: no CUDA-capable device is detected\n",
      "2025-04-02 12:13:45.938963: I tensorflow/stream_executor/cuda/cuda_diagnostics.cc:156] kernel driver does not appear to be running on this host (paolo-Katana-15-B13VFK): /proc/driver/nvidia/version does not exist\n"
     ]
    }
   ],
   "source": [
    "import tensorflow as tf\n",
    "print(\"GPU disponibile:\", tf.config.list_physical_devices('GPU'))"
   ]
  },
  {
   "cell_type": "code",
   "execution_count": 4,
   "metadata": {},
   "outputs": [],
   "source": [
    "sys.path.append(\"../models\")"
   ]
  },
  {
   "cell_type": "code",
   "execution_count": 5,
   "metadata": {},
   "outputs": [],
   "source": [
    "from xgboost_model import XGBoostModel"
   ]
  },
  {
   "cell_type": "code",
   "execution_count": 6,
   "metadata": {},
   "outputs": [],
   "source": [
    "def load_partitions(root_path):\n",
    "    file_names = [\"X_train.csv\", \"X_test.csv\", \"X_val.csv\", \"y_train.csv\", \"y_test.csv\", \"y_val.csv\"]\n",
    "    datasets = [pd.read_csv(os.path.join(root_path, file)).values for file in file_names]\n",
    "    return tuple(datasets)"
   ]
  },
  {
   "cell_type": "code",
   "execution_count": 7,
   "metadata": {},
   "outputs": [
    {
     "name": "stdout",
     "output_type": "stream",
     "text": [
      "X_train shape: (16289, 10), y_train shape: (16289, 1)\n",
      "X_test shape: (3491, 10), y_test shape: (3491, 1)\n",
      "X_val shape: (3489, 10), y_val shape: (3489, 1)\n"
     ]
    }
   ],
   "source": [
    "# load data\n",
    "partition = os.path.join(\"../partitioning/partitions\", partition)\n",
    "X_train, X_test, X_val, y_train, y_test, y_val = load_partitions(partition)\n",
    "\n",
    "# show partitions dimention\n",
    "print(f\"X_train shape: {X_train.shape}, y_train shape: {y_train.shape}\")\n",
    "print(f\"X_test shape: {X_test.shape}, y_test shape: {y_test.shape}\")\n",
    "print(f\"X_val shape: {X_val.shape}, y_val shape: {y_val.shape}\")"
   ]
  },
  {
   "cell_type": "code",
   "execution_count": 8,
   "metadata": {},
   "outputs": [],
   "source": [
    "# initialize model\n",
    "xgboost_model = XGBoostModel(foldername, n_estimators=100, output_units=y_train.shape[1])"
   ]
  },
  {
   "cell_type": "code",
   "execution_count": 9,
   "metadata": {},
   "outputs": [
    {
     "name": "stdout",
     "output_type": "stream",
     "text": [
      "[0]\ttrain-rmse:0.12714\ttrain-mae:0.09811\teval-rmse:0.12863\teval-mae:0.09907\n",
      "[1]\ttrain-rmse:0.12052\ttrain-mae:0.09285\teval-rmse:0.12216\teval-mae:0.09396\n",
      "[2]\ttrain-rmse:0.11485\ttrain-mae:0.08839\teval-rmse:0.11653\teval-mae:0.08954\n",
      "[3]\ttrain-rmse:0.11008\ttrain-mae:0.08462\teval-rmse:0.11192\teval-mae:0.08591\n",
      "[4]\ttrain-rmse:0.10599\ttrain-mae:0.08139\teval-rmse:0.10795\teval-mae:0.08280\n",
      "[5]\ttrain-rmse:0.10239\ttrain-mae:0.07856\teval-rmse:0.10461\teval-mae:0.08008\n",
      "[6]\ttrain-rmse:0.09947\ttrain-mae:0.07626\teval-rmse:0.10188\teval-mae:0.07788\n",
      "[7]\ttrain-rmse:0.09703\ttrain-mae:0.07437\teval-rmse:0.09957\teval-mae:0.07609\n",
      "[8]\ttrain-rmse:0.09494\ttrain-mae:0.07273\teval-rmse:0.09763\teval-mae:0.07451\n",
      "[9]\ttrain-rmse:0.09303\ttrain-mae:0.07124\teval-rmse:0.09600\teval-mae:0.07317\n",
      "[10]\ttrain-rmse:0.09138\ttrain-mae:0.06995\teval-rmse:0.09452\teval-mae:0.07193\n",
      "[11]\ttrain-rmse:0.09001\ttrain-mae:0.06889\teval-rmse:0.09340\teval-mae:0.07100\n",
      "[12]\ttrain-rmse:0.08960\ttrain-mae:0.06858\teval-rmse:0.09319\teval-mae:0.07081\n",
      "[13]\ttrain-rmse:0.08852\ttrain-mae:0.06774\teval-rmse:0.09219\teval-mae:0.06999\n",
      "[14]\ttrain-rmse:0.08830\ttrain-mae:0.06759\teval-rmse:0.09217\teval-mae:0.06997\n",
      "[15]\ttrain-rmse:0.08799\ttrain-mae:0.06735\teval-rmse:0.09206\teval-mae:0.06987\n",
      "[16]\ttrain-rmse:0.08781\ttrain-mae:0.06721\teval-rmse:0.09206\teval-mae:0.06990\n",
      "[17]\ttrain-rmse:0.08700\ttrain-mae:0.06660\teval-rmse:0.09143\teval-mae:0.06939\n",
      "[18]\ttrain-rmse:0.08674\ttrain-mae:0.06642\teval-rmse:0.09136\teval-mae:0.06933\n",
      "[19]\ttrain-rmse:0.08596\ttrain-mae:0.06583\teval-rmse:0.09080\teval-mae:0.06890\n",
      "[20]\ttrain-rmse:0.08529\ttrain-mae:0.06534\teval-rmse:0.09033\teval-mae:0.06854\n",
      "[21]\ttrain-rmse:0.08509\ttrain-mae:0.06519\teval-rmse:0.09031\teval-mae:0.06853\n",
      "[22]\ttrain-rmse:0.08452\ttrain-mae:0.06477\teval-rmse:0.08988\teval-mae:0.06820\n",
      "[23]\ttrain-rmse:0.08431\ttrain-mae:0.06462\teval-rmse:0.08982\teval-mae:0.06814\n",
      "[24]\ttrain-rmse:0.08382\ttrain-mae:0.06425\teval-rmse:0.08947\teval-mae:0.06790\n",
      "[25]\ttrain-rmse:0.08338\ttrain-mae:0.06391\teval-rmse:0.08917\teval-mae:0.06768\n",
      "[26]\ttrain-rmse:0.08301\ttrain-mae:0.06362\teval-rmse:0.08898\teval-mae:0.06752\n",
      "[27]\ttrain-rmse:0.08273\ttrain-mae:0.06341\teval-rmse:0.08884\teval-mae:0.06744\n",
      "[28]\ttrain-rmse:0.08262\ttrain-mae:0.06333\teval-rmse:0.08886\teval-mae:0.06746\n",
      "[29]\ttrain-rmse:0.08229\ttrain-mae:0.06309\teval-rmse:0.08877\teval-mae:0.06740\n",
      "[30]\ttrain-rmse:0.08201\ttrain-mae:0.06287\teval-rmse:0.08869\teval-mae:0.06733\n",
      "[31]\ttrain-rmse:0.08173\ttrain-mae:0.06267\teval-rmse:0.08860\teval-mae:0.06727\n",
      "[32]\ttrain-rmse:0.08163\ttrain-mae:0.06261\teval-rmse:0.08860\teval-mae:0.06727\n",
      "[33]\ttrain-rmse:0.08142\ttrain-mae:0.06246\teval-rmse:0.08854\teval-mae:0.06721\n",
      "[34]\ttrain-rmse:0.08119\ttrain-mae:0.06230\teval-rmse:0.08848\teval-mae:0.06713\n",
      "[35]\ttrain-rmse:0.08109\ttrain-mae:0.06222\teval-rmse:0.08849\teval-mae:0.06715\n",
      "[36]\ttrain-rmse:0.08091\ttrain-mae:0.06209\teval-rmse:0.08843\teval-mae:0.06709\n",
      "[37]\ttrain-rmse:0.08071\ttrain-mae:0.06196\teval-rmse:0.08845\teval-mae:0.06710\n",
      "[38]\ttrain-rmse:0.08057\ttrain-mae:0.06186\teval-rmse:0.08845\teval-mae:0.06710\n",
      "[39]\ttrain-rmse:0.08041\ttrain-mae:0.06175\teval-rmse:0.08843\teval-mae:0.06707\n",
      "[40]\ttrain-rmse:0.08024\ttrain-mae:0.06163\teval-rmse:0.08843\teval-mae:0.06706\n",
      "[41]\ttrain-rmse:0.08007\ttrain-mae:0.06151\teval-rmse:0.08842\teval-mae:0.06705\n",
      "[42]\ttrain-rmse:0.07999\ttrain-mae:0.06145\teval-rmse:0.08840\teval-mae:0.06703\n",
      "[43]\ttrain-rmse:0.07983\ttrain-mae:0.06134\teval-rmse:0.08845\teval-mae:0.06706\n",
      "[44]\ttrain-rmse:0.07971\ttrain-mae:0.06127\teval-rmse:0.08848\teval-mae:0.06708\n",
      "[45]\ttrain-rmse:0.07956\ttrain-mae:0.06115\teval-rmse:0.08846\teval-mae:0.06708\n",
      "[46]\ttrain-rmse:0.07944\ttrain-mae:0.06107\teval-rmse:0.08846\teval-mae:0.06707\n",
      "[47]\ttrain-rmse:0.07928\ttrain-mae:0.06096\teval-rmse:0.08850\teval-mae:0.06707\n",
      "[48]\ttrain-rmse:0.07914\ttrain-mae:0.06087\teval-rmse:0.08847\teval-mae:0.06705\n",
      "[49]\ttrain-rmse:0.07902\ttrain-mae:0.06078\teval-rmse:0.08848\teval-mae:0.06705\n",
      "[50]\ttrain-rmse:0.07897\ttrain-mae:0.06074\teval-rmse:0.08851\teval-mae:0.06706\n",
      "[51]\ttrain-rmse:0.07886\ttrain-mae:0.06065\teval-rmse:0.08852\teval-mae:0.06706\n",
      "[52]\ttrain-rmse:0.07876\ttrain-mae:0.06057\teval-rmse:0.08854\teval-mae:0.06710\n",
      "Tempo di addestramento salvato in time/training_xgboost/test_5/training_time.txt\n",
      "Modello salvato in time/training_xgboost/test_5/xgboost_model.joblib\n"
     ]
    }
   ],
   "source": [
    "# training\n",
    "xgboost_model.train(X_train, y_train, X_val, y_val)"
   ]
  },
  {
   "cell_type": "code",
   "execution_count": 10,
   "metadata": {},
   "outputs": [
    {
     "name": "stdout",
     "output_type": "stream",
     "text": [
      "Nessuna history trovata. Assicurati di aver eseguito il training con set di validazione.\n"
     ]
    }
   ],
   "source": [
    "xgboost_model.plot_training_metrics()"
   ]
  },
  {
   "cell_type": "code",
   "execution_count": 11,
   "metadata": {},
   "outputs": [
    {
     "name": "stdout",
     "output_type": "stream",
     "text": [
      "Metriche dettagliate salvate in: time/training_xgboost/test_5/evaluation_metrics_detailed.csv\n",
      "Metriche medie salvate in: time/training_xgboost/test_5/evaluation_metrics_mean.csv\n"
     ]
    },
    {
     "data": {
      "text/plain": [
       "{'detailed': {'Output': ['Unico'],\n",
       "  'MSE': [0.007509584921857172],\n",
       "  'RMSE': [0.08665786128134696],\n",
       "  'MAE': [0.0655883446087623],\n",
       "  'R2': [0.5617952902483216]},\n",
       " 'mean': {'Output': ['Unico'],\n",
       "  'MSE': [0.007509584921857172],\n",
       "  'RMSE': [0.08665786128134696],\n",
       "  'MAE': [0.0655883446087623],\n",
       "  'R2': [0.5617952902483216]}}"
      ]
     },
     "execution_count": 11,
     "metadata": {},
     "output_type": "execute_result"
    }
   ],
   "source": [
    "xgboost_model.evaluate(X_test, y_test)"
   ]
  },
  {
   "cell_type": "code",
   "execution_count": 12,
   "metadata": {},
   "outputs": [
    {
     "name": "stdout",
     "output_type": "stream",
     "text": [
      "Modello salvato in time/training_xgboost/test_5/xgboost_model.joblib\n"
     ]
    }
   ],
   "source": [
    "xgboost_model.save_model()"
   ]
  },
  {
   "cell_type": "code",
   "execution_count": 13,
   "metadata": {},
   "outputs": [],
   "source": [
    "y_pred = xgboost_model.predict(X_test)"
   ]
  },
  {
   "cell_type": "code",
   "execution_count": 14,
   "metadata": {},
   "outputs": [
    {
     "name": "stdout",
     "output_type": "stream",
     "text": [
      "Confronto predizioni salvato in time/training_xgboost/test_5/predictions_comparison.csv\n"
     ]
    },
    {
     "data": {
      "text/html": [
       "<div>\n",
       "<style scoped>\n",
       "    .dataframe tbody tr th:only-of-type {\n",
       "        vertical-align: middle;\n",
       "    }\n",
       "\n",
       "    .dataframe tbody tr th {\n",
       "        vertical-align: top;\n",
       "    }\n",
       "\n",
       "    .dataframe thead th {\n",
       "        text-align: right;\n",
       "    }\n",
       "</style>\n",
       "<table border=\"1\" class=\"dataframe\">\n",
       "  <thead>\n",
       "    <tr style=\"text-align: right;\">\n",
       "      <th></th>\n",
       "      <th>Valore Reale</th>\n",
       "      <th>Predizione</th>\n",
       "    </tr>\n",
       "  </thead>\n",
       "  <tbody>\n",
       "    <tr>\n",
       "      <th>0</th>\n",
       "      <td>0.227369</td>\n",
       "      <td>0.107987</td>\n",
       "    </tr>\n",
       "    <tr>\n",
       "      <th>1</th>\n",
       "      <td>0.174371</td>\n",
       "      <td>0.269550</td>\n",
       "    </tr>\n",
       "    <tr>\n",
       "      <th>2</th>\n",
       "      <td>-0.107064</td>\n",
       "      <td>0.006491</td>\n",
       "    </tr>\n",
       "    <tr>\n",
       "      <th>3</th>\n",
       "      <td>0.096252</td>\n",
       "      <td>0.061423</td>\n",
       "    </tr>\n",
       "    <tr>\n",
       "      <th>4</th>\n",
       "      <td>0.120111</td>\n",
       "      <td>0.089219</td>\n",
       "    </tr>\n",
       "    <tr>\n",
       "      <th>...</th>\n",
       "      <td>...</td>\n",
       "      <td>...</td>\n",
       "    </tr>\n",
       "    <tr>\n",
       "      <th>3486</th>\n",
       "      <td>0.121480</td>\n",
       "      <td>0.042930</td>\n",
       "    </tr>\n",
       "    <tr>\n",
       "      <th>3487</th>\n",
       "      <td>-0.102473</td>\n",
       "      <td>-0.094178</td>\n",
       "    </tr>\n",
       "    <tr>\n",
       "      <th>3488</th>\n",
       "      <td>-0.066549</td>\n",
       "      <td>-0.119441</td>\n",
       "    </tr>\n",
       "    <tr>\n",
       "      <th>3489</th>\n",
       "      <td>0.111682</td>\n",
       "      <td>0.065441</td>\n",
       "    </tr>\n",
       "    <tr>\n",
       "      <th>3490</th>\n",
       "      <td>0.082438</td>\n",
       "      <td>-0.014743</td>\n",
       "    </tr>\n",
       "  </tbody>\n",
       "</table>\n",
       "<p>3491 rows × 2 columns</p>\n",
       "</div>"
      ],
      "text/plain": [
       "      Valore Reale  Predizione\n",
       "0         0.227369    0.107987\n",
       "1         0.174371    0.269550\n",
       "2        -0.107064    0.006491\n",
       "3         0.096252    0.061423\n",
       "4         0.120111    0.089219\n",
       "...            ...         ...\n",
       "3486      0.121480    0.042930\n",
       "3487     -0.102473   -0.094178\n",
       "3488     -0.066549   -0.119441\n",
       "3489      0.111682    0.065441\n",
       "3490      0.082438   -0.014743\n",
       "\n",
       "[3491 rows x 2 columns]"
      ]
     },
     "execution_count": 14,
     "metadata": {},
     "output_type": "execute_result"
    }
   ],
   "source": [
    "xgboost_model.compare_predictions(y_test, y_pred)"
   ]
  },
  {
   "cell_type": "code",
   "execution_count": 15,
   "metadata": {},
   "outputs": [
    {
     "name": "stdout",
     "output_type": "stream",
     "text": [
      "Nessuna history disponibile da salvare.\n"
     ]
    }
   ],
   "source": [
    "xgboost_model.save_training_history_txt()"
   ]
  },
  {
   "cell_type": "code",
   "execution_count": 16,
   "metadata": {},
   "outputs": [
    {
     "name": "stdout",
     "output_type": "stream",
     "text": [
      "Parametri salvati in time/training_xgboost/test_5/model_parameters.txt\n"
     ]
    }
   ],
   "source": [
    "xgboost_model.save_parameters()"
   ]
  }
 ],
 "metadata": {
  "kernelspec": {
   "display_name": "myenv-tf",
   "language": "python",
   "name": "python3"
  },
  "language_info": {
   "codemirror_mode": {
    "name": "ipython",
    "version": 3
   },
   "file_extension": ".py",
   "mimetype": "text/x-python",
   "name": "python",
   "nbconvert_exporter": "python",
   "pygments_lexer": "ipython3",
   "version": "3.10.16"
  }
 },
 "nbformat": 4,
 "nbformat_minor": 2
}
