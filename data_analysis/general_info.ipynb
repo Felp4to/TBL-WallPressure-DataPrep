{
 "cells": [
  {
   "cell_type": "code",
   "execution_count": 1,
   "metadata": {},
   "outputs": [],
   "source": [
    "# Parametri da modificare\n",
    "file_path = \"../timeseries/B101/Channel1.csv\"\n",
    "slice = 10000                                       # porzione di time series da prendere in considerazione"
   ]
  },
  {
   "cell_type": "code",
   "execution_count": 2,
   "metadata": {},
   "outputs": [],
   "source": [
    "import os\n",
    "import pandas as pd\n",
    "os.chdir('./npy')\n",
    "import utilities as util \n",
    "import analysis as analysis\n",
    "os.chdir('../../preprocessing') \n",
    "import normalizzation as norm"
   ]
  },
  {
   "cell_type": "code",
   "execution_count": 3,
   "metadata": {},
   "outputs": [
    {
     "data": {
      "text/plain": [
       "array([-21702628.,  -8657071.,   7671702., ...,  15054557.,  30418978.,\n",
       "        32654582.])"
      ]
     },
     "execution_count": 3,
     "metadata": {},
     "output_type": "execute_result"
    }
   ],
   "source": [
    "time_series = util.load_time_series(file_path)[:slice]\n",
    "time_series"
   ]
  },
  {
   "cell_type": "code",
   "execution_count": 4,
   "metadata": {},
   "outputs": [],
   "source": [
    "# Convertiamo in DataFrame con una colonna chiamata 'singleData'\n",
    "df = pd.DataFrame(time_series, columns=['singleData'])\n",
    "time_series_normalized = norm.normalize_dataframe(df).to_numpy()"
   ]
  },
  {
   "cell_type": "code",
   "execution_count": 5,
   "metadata": {},
   "outputs": [
    {
     "name": "stdout",
     "output_type": "stream",
     "text": [
      "Media: -269675.85\n",
      "Varianza: 1865117710522596.25\n",
      "Deviazione standard: 43187008.59\n",
      "Massimo: 185282704.00\n",
      "Minimo: -170249168.00\n",
      "Range: 355531872.00\n",
      "Mediana: -2596528.50\n"
     ]
    }
   ],
   "source": [
    "# Chiamata alle funzioni\n",
    "media = analysis.calcola_media(time_series)\n",
    "varianza = analysis.calcola_varianza(time_series)\n",
    "deviazione_std = analysis.calcola_dev_std(time_series)\n",
    "massimo = analysis.calcola_massimo(time_series)\n",
    "minimo = analysis.calcola_minimo(time_series)\n",
    "range = analysis.calcola_range(time_series)\n",
    "mediana = analysis.calcola_mediana(time_series)"
   ]
  },
  {
   "cell_type": "code",
   "execution_count": 6,
   "metadata": {},
   "outputs": [
    {
     "name": "stdout",
     "output_type": "stream",
     "text": [
      "Media: -0.00\n",
      "Varianza: 0.05\n",
      "Deviazione standard: 0.23\n",
      "Massimo: 1.00\n",
      "Minimo: -0.92\n",
      "Range: 1.92\n",
      "Mediana: -0.01\n"
     ]
    }
   ],
   "source": [
    "# Chiamata alle funzioni\n",
    "media = analysis.calcola_media(time_series_normalized)\n",
    "varianza = analysis.calcola_varianza(time_series_normalized)\n",
    "deviazione_std = analysis.calcola_dev_std(time_series_normalized)\n",
    "massimo = analysis.calcola_massimo(time_series_normalized)\n",
    "minimo = analysis.calcola_minimo(time_series_normalized)\n",
    "range = analysis.calcola_range(time_series_normalized)\n",
    "mediana = analysis.calcola_mediana(time_series_normalized)"
   ]
  }
 ],
 "metadata": {
  "kernelspec": {
   "display_name": "myenv-tf",
   "language": "python",
   "name": "python3"
  },
  "language_info": {
   "codemirror_mode": {
    "name": "ipython",
    "version": 3
   },
   "file_extension": ".py",
   "mimetype": "text/x-python",
   "name": "python",
   "nbconvert_exporter": "python",
   "pygments_lexer": "ipython3",
   "version": "3.10.16"
  }
 },
 "nbformat": 4,
 "nbformat_minor": 2
}
