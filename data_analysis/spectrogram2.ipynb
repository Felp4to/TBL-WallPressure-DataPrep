{
 "cells": [
  {
   "cell_type": "code",
   "execution_count": null,
   "metadata": {},
   "outputs": [],
   "source": [
    "file_path = \"../timeseries/B101/Channel1.csv\"\n",
    "# Definizione dei parametri\n",
    "window_size = 1000                           # Dimensione della finestra\n",
    "#seq_length = 10                             # Numero di finestre da usare come input\n",
    "#fft_size = window_size // 2 + 1  \n",
    "overlapping = 50            # indiaca quanti elementi sono condivisi da due finestre limitrofe"
   ]
  },
  {
   "cell_type": "code",
   "execution_count": 2,
   "metadata": {},
   "outputs": [],
   "source": [
    "import sys\n",
    "sys.path.append(\"./npy\")\n",
    "import spectrogram as spectrogram\n",
    "import utilities as util"
   ]
  },
  {
   "cell_type": "code",
   "execution_count": 3,
   "metadata": {},
   "outputs": [
    {
     "name": "stdout",
     "output_type": "stream",
     "text": [
      "[-21702628.   -8657071.    7671702.  ...  -7847381.5  24490868.\n",
      "  41916832. ]\n",
      "(12287999,)\n"
     ]
    }
   ],
   "source": [
    "time_series = util.load_time_series(file_path)\n",
    "print(time_series)\n",
    "print(time_series.shape)"
   ]
  },
  {
   "cell_type": "code",
   "execution_count": null,
   "metadata": {},
   "outputs": [],
   "source": [
    "spectrogram_windows = spectrogram.compute_spectrogram_windows(time_series[:100000], window_size, 100, overlapping)"
   ]
  },
  {
   "cell_type": "code",
   "execution_count": 5,
   "metadata": {},
   "outputs": [
    {
     "data": {
      "text/plain": [
       "(100, 45951)"
      ]
     },
     "execution_count": 5,
     "metadata": {},
     "output_type": "execute_result"
    }
   ],
   "source": [
    "spectrogram_windows.shape"
   ]
  }
 ],
 "metadata": {
  "kernelspec": {
   "display_name": "myenv-tf",
   "language": "python",
   "name": "python3"
  },
  "language_info": {
   "codemirror_mode": {
    "name": "ipython",
    "version": 3
   },
   "file_extension": ".py",
   "mimetype": "text/x-python",
   "name": "python",
   "nbconvert_exporter": "python",
   "pygments_lexer": "ipython3",
   "version": "3.10.16"
  }
 },
 "nbformat": 4,
 "nbformat_minor": 2
}
