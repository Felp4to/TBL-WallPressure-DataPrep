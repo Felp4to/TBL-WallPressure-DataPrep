{
 "cells": [
  {
   "cell_type": "code",
   "execution_count": 1,
   "metadata": {},
   "outputs": [],
   "source": [
    "import os\n",
    "os.chdir('../npy')\n",
    "import utilities as util \n",
    "import signal_statistics as stat\n",
    "os.chdir('../../preprocessing/npy') \n",
    "import normalizzation as norm"
   ]
  },
  {
   "cell_type": "code",
   "execution_count": 2,
   "metadata": {},
   "outputs": [],
   "source": [
    "# Parametri da modificare\n",
    "file_path = \"../../timeseries/B101/Channel1.csv\"\n",
    "slice = 1000                                       "
   ]
  },
  {
   "cell_type": "code",
   "execution_count": 3,
   "metadata": {},
   "outputs": [],
   "source": [
    "time_series = util.load_time_series(file_path)[:slice]\n",
    "#time_series"
   ]
  },
  {
   "cell_type": "code",
   "execution_count": 4,
   "metadata": {},
   "outputs": [],
   "source": [
    "time_series_normalized = norm.normalize_array(time_series)\n",
    "#time_series_normalized"
   ]
  },
  {
   "cell_type": "code",
   "execution_count": 5,
   "metadata": {},
   "outputs": [
    {
     "name": "stdout",
     "output_type": "stream",
     "text": [
      "Max: 1.0000\n",
      "Min: -0.6698\n",
      "Range: 1.6698\n",
      "Mean/Median: 0.0380\n",
      "Median: 0.0215\n",
      "Variance: 0.0534\n",
      "Standard Deviation: 0.2311\n",
      "Energy: 54.8404\n",
      "Power: 0.0548\n",
      "Mean Power: 0.0548\n",
      "Zero Crossings: 70\n"
     ]
    }
   ],
   "source": [
    "stat.print_all_statistics(time_series_normalized)"
   ]
  }
 ],
 "metadata": {
  "kernelspec": {
   "display_name": "myenv-tf",
   "language": "python",
   "name": "python3"
  },
  "language_info": {
   "codemirror_mode": {
    "name": "ipython",
    "version": 3
   },
   "file_extension": ".py",
   "mimetype": "text/x-python",
   "name": "python",
   "nbconvert_exporter": "python",
   "pygments_lexer": "ipython3",
   "version": "3.10.16"
  }
 },
 "nbformat": 4,
 "nbformat_minor": 2
}
