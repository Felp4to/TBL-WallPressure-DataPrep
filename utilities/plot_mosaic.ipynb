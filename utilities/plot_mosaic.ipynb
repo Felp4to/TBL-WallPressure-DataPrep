{
 "cells": [
  {
   "cell_type": "code",
   "execution_count": 1,
   "id": "01f0192f",
   "metadata": {},
   "outputs": [],
   "source": [
    "import os\n",
    "import re\n",
    "import json\n",
    "import pandas as pd\n",
    "import matplotlib.pyplot as plt"
   ]
  },
  {
   "cell_type": "code",
   "execution_count": null,
   "id": "e749df8b",
   "metadata": {},
   "outputs": [],
   "source": [
    "\"../tests/Test_cycle_9/stats_rich_fourier_wavelet/training_cnn\", \n",
    "\n",
    "\n",
    ",\n",
    "          \"../tests/Test_cycle_9/stats_rich_fourier_wavelet/training_xgboost\""
   ]
  },
  {
   "cell_type": "code",
   "execution_count": null,
   "id": "75ee7769",
   "metadata": {},
   "outputs": [
    {
     "name": "stdout",
     "output_type": "stream",
     "text": [
      "../tests/Test_cycle_9/stats_rich_fourier_wavelet/training_lstm/test_5\n"
     ]
    },
    {
     "ename": "KeyError",
     "evalue": "'mae'",
     "output_type": "error",
     "traceback": [
      "\u001b[0;31m---------------------------------------------------------------------------\u001b[0m",
      "\u001b[0;31mKeyError\u001b[0m                                  Traceback (most recent call last)",
      "Cell \u001b[0;32mIn[3], line 16\u001b[0m\n\u001b[1;32m     13\u001b[0m         data \u001b[38;5;241m=\u001b[39m json\u001b[38;5;241m.\u001b[39mload(file)\n\u001b[1;32m     15\u001b[0m \u001b[38;5;66;03m# Estrai i valori di MAE, RMSE e LOSS function\u001b[39;00m\n\u001b[0;32m---> 16\u001b[0m epochs \u001b[38;5;241m=\u001b[39m \u001b[38;5;28mrange\u001b[39m(\u001b[38;5;241m1\u001b[39m, \u001b[38;5;28mlen\u001b[39m(\u001b[43mdata\u001b[49m\u001b[43m[\u001b[49m\u001b[38;5;124;43m'\u001b[39;49m\u001b[38;5;124;43mmae\u001b[39;49m\u001b[38;5;124;43m'\u001b[39;49m\u001b[43m]\u001b[49m) \u001b[38;5;241m+\u001b[39m \u001b[38;5;241m1\u001b[39m)\n\u001b[1;32m     17\u001b[0m mae \u001b[38;5;241m=\u001b[39m data\u001b[38;5;241m.\u001b[39mget(\u001b[38;5;124m'\u001b[39m\u001b[38;5;124mmae\u001b[39m\u001b[38;5;124m'\u001b[39m, [])\n\u001b[1;32m     18\u001b[0m rmse \u001b[38;5;241m=\u001b[39m data\u001b[38;5;241m.\u001b[39mget(\u001b[38;5;124m'\u001b[39m\u001b[38;5;124mroot_mean_squared_error\u001b[39m\u001b[38;5;124m'\u001b[39m, [])\n",
      "\u001b[0;31mKeyError\u001b[0m: 'mae'"
     ]
    }
   ],
   "source": [
    "# Path specificato\n",
    "pathes = [\n",
    "          \"../tests/Test_cycle_9/stats_rich_fourier_wavelet/training_lstm\"]\n",
    "\n",
    "for base_path in pathes:\n",
    "    for folder_name in os.listdir(base_path):\n",
    "        folder_path = os.path.join(base_path, folder_name)\n",
    "        print(folder_path)\n",
    "        if os.path.isdir(folder_path):                                                  \n",
    "            json_file_path = os.path.join(folder_path, \"training_data.json\")\n",
    "            if os.path.exists(json_file_path):                                          \n",
    "                with open(json_file_path, 'r') as file:\n",
    "                    data = json.load(file)\n",
    "            \n",
    "            # Estrai i valori di MAE, RMSE e LOSS function\n",
    "            epochs = range(1, len(data['mae']) + 1)\n",
    "            mae = data.get('mae', [])\n",
    "            rmse = data.get('root_mean_squared_error', [])\n",
    "            loss = data.get('loss', [])\n",
    "            val_mae = data.get('val_mae', [])\n",
    "            val_rmse = data.get('val_root_mean_squared_error', [])\n",
    "            val_loss = data.get('val_loss', [])\n",
    "\n",
    "            # Grafico MAE vs Val_MAE\n",
    "            plt.figure(figsize=(12, 4))\n",
    "            plt.subplot(1, 3, 1)\n",
    "            plt.plot(epochs, mae, label='MAE', color='blue')\n",
    "            plt.plot(epochs, val_mae, label='Val_MAE', color='orange')\n",
    "            plt.xlabel('Epochs')\n",
    "            plt.ylabel('MAE')\n",
    "            plt.title('MAE vs Val_MAE')\n",
    "            plt.legend()\n",
    "            plt.grid(True)\n",
    "\n",
    "            # Grafico RMSE vs Val_RMSE\n",
    "            plt.subplot(1, 3, 2)\n",
    "            plt.plot(epochs, rmse, label='RMSE', color='green')\n",
    "            plt.plot(epochs, val_rmse, label='Val_RMSE', color='purple')\n",
    "            plt.xlabel('Epochs')\n",
    "            plt.ylabel('RMSE')\n",
    "            plt.title('RMSE vs Val_RMSE')\n",
    "            plt.legend()\n",
    "            plt.grid(True)\n",
    "\n",
    "            # Grafico LOSS vs Val_LOSS\n",
    "            plt.subplot(1, 3, 3)\n",
    "            plt.plot(epochs, loss, label='LOSS', color='red')\n",
    "            plt.plot(epochs, val_loss, label='Val_LOSS', color='brown')\n",
    "            plt.xlabel('Epochs')\n",
    "            plt.ylabel('LOSS')\n",
    "            plt.title('LOSS vs Val_LOSS')\n",
    "            plt.legend()\n",
    "            plt.grid(True)\n",
    "\n",
    "            # Salva l'immagine nella cartella \"mosaic\"\n",
    "            output_file = os.path.join(folder_path, f\"{folder_name}_mosaico.png\")\n",
    "            plt.tight_layout()\n",
    "            plt.savefig(output_file)  \n",
    "            plt.show()                \n",
    "            plt.close()"
   ]
  }
 ],
 "metadata": {
  "kernelspec": {
   "display_name": "myenv-tf",
   "language": "python",
   "name": "python3"
  },
  "language_info": {
   "codemirror_mode": {
    "name": "ipython",
    "version": 3
   },
   "file_extension": ".py",
   "mimetype": "text/x-python",
   "name": "python",
   "nbconvert_exporter": "python",
   "pygments_lexer": "ipython3",
   "version": "3.10.16"
  }
 },
 "nbformat": 4,
 "nbformat_minor": 5
}
